{
 "cells": [
  {
   "cell_type": "markdown",
   "id": "8d373813",
   "metadata": {},
   "source": [
    "# 1."
   ]
  },
  {
   "cell_type": "markdown",
   "id": "9953c2df",
   "metadata": {},
   "source": [
    "Scatter Plot (scatterplot):\n",
    "\n",
    "Use: Display the relationship between two numeric variables.\n",
    "Example Use Case: Examining the correlation between a person's age and their income."
   ]
  },
  {
   "cell_type": "code",
   "execution_count": null,
   "id": "6a6ed079",
   "metadata": {},
   "outputs": [],
   "source": [
    "import seaborn as sns\n",
    "import matplotlib.pyplot as plt\n",
    "\n",
    "sns.scatterplot(x='age', y='income', data=my_data)\n",
    "plt.show()"
   ]
  },
  {
   "cell_type": "markdown",
   "id": "07974a2a",
   "metadata": {},
   "source": [
    "Line Plot (lineplot):\n",
    "\n",
    "Use: Visualize the trend of a numeric variable over another variable (often time).\n",
    "Example Use Case: Showing the trend of stock prices over a period of time."
   ]
  },
  {
   "cell_type": "code",
   "execution_count": null,
   "id": "d040cc77",
   "metadata": {},
   "outputs": [],
   "source": [
    "import seaborn as sns\n",
    "import matplotlib.pyplot as plt\n",
    "\n",
    "sns.lineplot(x='date', y='stock_price', data=stock_data)\n",
    "plt.show()\n"
   ]
  },
  {
   "cell_type": "markdown",
   "id": "dea1a4a6",
   "metadata": {},
   "source": [
    "Bar Plot (barplot):\n",
    "\n",
    "Use: Compare the values of different categories.\n",
    "Example Use Case: Comparing the average sales of different products in a store."
   ]
  },
  {
   "cell_type": "code",
   "execution_count": null,
   "id": "4ebdfd9f",
   "metadata": {},
   "outputs": [],
   "source": [
    "import seaborn as sns\n",
    "import matplotlib.pyplot as plt\n",
    "\n",
    "sns.barplot(x='product', y='sales', data=sales_data)\n",
    "plt.show()\n"
   ]
  },
  {
   "cell_type": "markdown",
   "id": "3768eebc",
   "metadata": {},
   "source": [
    "Histogram (histplot):\n",
    "\n",
    "Use: Display the distribution of a single numeric variable.\n",
    "Example Use Case: Visualizing the distribution of exam scores in a class."
   ]
  },
  {
   "cell_type": "code",
   "execution_count": null,
   "id": "cfed7e3c",
   "metadata": {},
   "outputs": [],
   "source": [
    "import seaborn as sns\n",
    "import matplotlib.pyplot as plt\n",
    "\n",
    "sns.histplot(x='exam_scores', data=student_data, bins=20)\n",
    "plt.show()\n"
   ]
  },
  {
   "cell_type": "markdown",
   "id": "04a7eb69",
   "metadata": {},
   "source": [
    "Heatmap (heatmap):\n",
    "\n",
    "Use: Display the correlation matrix or explore patterns in a 2D dataset.\n",
    "Example Use Case: Analyzing the correlation between different features in a dataset"
   ]
  },
  {
   "cell_type": "code",
   "execution_count": null,
   "id": "fc1683da",
   "metadata": {},
   "outputs": [],
   "source": [
    "import seaborn as sns\n",
    "import matplotlib.pyplot as plt\n",
    "\n",
    "correlation_matrix = my_data.corr()\n",
    "sns.heatmap(correlation_matrix, annot=True, cmap='coolwarm')\n",
    "plt.show()\n"
   ]
  },
  {
   "cell_type": "markdown",
   "id": "7e4437f2",
   "metadata": {},
   "source": [
    "# 2."
   ]
  },
  {
   "cell_type": "code",
   "execution_count": null,
   "id": "efe064e8",
   "metadata": {},
   "outputs": [],
   "source": [
    "import seaborn as sns\n",
    "import matplotlib.pyplot as plt\n",
    "\n",
    "# Load the \"fmri\" dataset\n",
    "fmri_data = sns.load_dataset(\"fmri\")\n",
    "\n",
    "# Plot line plot with different events and regions\n",
    "sns.lineplot(x='timepoint', y='signal', hue='event', style='region', data=fmri_data)\n",
    "\n",
    "# Set plot title and labels\n",
    "plt.title('FMRI Signal Over Time for Different Events and Regions')\n",
    "plt.xlabel('Timepoint')\n",
    "plt.ylabel('Signal')\n",
    "\n",
    "# Show the plot\n",
    "plt.show()"
   ]
  },
  {
   "cell_type": "markdown",
   "id": "77512419",
   "metadata": {},
   "source": [
    "# 3."
   ]
  },
  {
   "cell_type": "code",
   "execution_count": null,
   "id": "aa4c3b01",
   "metadata": {},
   "outputs": [],
   "source": [
    "import seaborn as sns\n",
    "import matplotlib.pyplot as plt\n",
    "\n",
    "# Load the \"titanic\" dataset\n",
    "titanic_data = sns.load_dataset(\"titanic\")\n",
    "\n",
    "# Plot box plot for 'pclass' and 'age'\n",
    "plt.figure(figsize=(12, 6))\n",
    "plt.subplot(1, 2, 1)\n",
    "sns.boxplot(x='pclass', y='age', data=titanic_data)\n",
    "plt.title('Box Plot of Age by Pclass')\n",
    "plt.xlabel('Pclass')\n",
    "plt.ylabel('Age')\n",
    "\n",
    "# Plot box plot for 'pclass' and 'fare'\n",
    "plt.subplot(1, 2, 2)\n",
    "sns.boxplot(x='pclass', y='fare', data=titanic_data)\n",
    "plt.title('Box Plot of Fare by Pclass')\n",
    "plt.xlabel('Pclass')\n",
    "plt.ylabel('Fare')\n",
    "\n",
    "# Adjust layout\n",
    "plt.tight_layout()\n",
    "\n",
    "# Show the plots\n",
    "plt.show()\n"
   ]
  },
  {
   "cell_type": "markdown",
   "id": "d047a94c",
   "metadata": {},
   "source": [
    "# 4."
   ]
  },
  {
   "cell_type": "code",
   "execution_count": null,
   "id": "db544b1f",
   "metadata": {},
   "outputs": [],
   "source": [
    "import seaborn as sns\n",
    "import matplotlib.pyplot as plt\n",
    "\n",
    "# Load the \"diamonds\" dataset\n",
    "diamonds_data = sns.load_dataset(\"diamonds\")\n",
    "\n",
    "# Plot histogram for 'price' with 'cut' as hue\n",
    "plt.figure(figsize=(10, 6))\n",
    "sns.histplot(x='price', hue='cut', data=diamonds_data, bins=30, multiple=\"stack\", palette=\"Set2\")\n",
    "\n",
    "# Set plot title and labels\n",
    "plt.title('Histogram of Diamond Prices by Cut')\n",
    "plt.xlabel('Price')\n",
    "plt.ylabel('Count')\n",
    "\n",
    "# Show the plot\n",
    "plt.show()\n"
   ]
  },
  {
   "cell_type": "markdown",
   "id": "205db49e",
   "metadata": {},
   "source": [
    "# 5."
   ]
  },
  {
   "cell_type": "code",
   "execution_count": null,
   "id": "8a3bee8e",
   "metadata": {},
   "outputs": [],
   "source": [
    "import seaborn as sns\n",
    "import matplotlib.pyplot as plt\n",
    "\n",
    "# Load the \"iris\" dataset\n",
    "iris_data = sns.load_dataset(\"iris\")\n",
    "\n",
    "# Create a pair plot with hue for 'species'\n",
    "sns.pairplot(iris_data, hue='species', markers=[\"o\", \"s\", \"D\"])\n",
    "\n",
    "# Set plot title\n",
    "plt.suptitle(\"Pair Plot of Iris Dataset by Species\", y=1.02)\n",
    "\n",
    "# Show the plot\n",
    "plt.show()\n"
   ]
  },
  {
   "cell_type": "markdown",
   "id": "ddacb6d6",
   "metadata": {},
   "source": [
    "# 6."
   ]
  },
  {
   "cell_type": "code",
   "execution_count": null,
   "id": "252550be",
   "metadata": {},
   "outputs": [],
   "source": [
    "import seaborn as sns\n",
    "import matplotlib.pyplot as plt\n",
    "\n",
    "# Load the \"flights\" dataset\n",
    "flights_data = sns.load_dataset(\"flights\")\n",
    "\n",
    "# Pivot the data to create a matrix suitable for a heatmap\n",
    "flights_pivot = flights_data.pivot_table(index='month', columns='year', values='passengers')\n",
    "\n",
    "# Create a heatmap\n",
    "plt.figure(figsize=(10, 8))\n",
    "sns.heatmap(flights_pivot, cmap='Blues', annot=True, fmt='d', linewidths=.5)\n",
    "\n",
    "# Set plot title and labels\n",
    "plt.title('Passenger Count Heatmap (Flights Dataset)')\n",
    "plt.xlabel('Year')\n",
    "plt.ylabel('Month')\n",
    "\n",
    "# Show the plot\n",
    "plt.show()\n"
   ]
  },
  {
   "cell_type": "code",
   "execution_count": null,
   "id": "fc576af9",
   "metadata": {},
   "outputs": [],
   "source": []
  }
 ],
 "metadata": {
  "kernelspec": {
   "display_name": "Python 3 (ipykernel)",
   "language": "python",
   "name": "python3"
  },
  "language_info": {
   "codemirror_mode": {
    "name": "ipython",
    "version": 3
   },
   "file_extension": ".py",
   "mimetype": "text/x-python",
   "name": "python",
   "nbconvert_exporter": "python",
   "pygments_lexer": "ipython3",
   "version": "3.10.9"
  }
 },
 "nbformat": 4,
 "nbformat_minor": 5
}
