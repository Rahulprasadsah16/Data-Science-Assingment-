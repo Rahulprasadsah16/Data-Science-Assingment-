{
 "cells": [
  {
   "cell_type": "markdown",
   "id": "3744dfc6",
   "metadata": {},
   "source": [
    "# 1"
   ]
  },
  {
   "cell_type": "code",
   "execution_count": 1,
   "id": "c51993d3",
   "metadata": {},
   "outputs": [],
   "source": [
    "class Vehicle:\n",
    "    def __init__(self, name_of_vehicle, max_speed, average_speed):\n",
    "        self.name_of_vehicle = name_of_vehicle\n",
    "        self.max_speed = max_speed\n",
    "        self.average_speed = average_speed\n"
   ]
  },
  {
   "cell_type": "code",
   "execution_count": 2,
   "id": "50c86e36",
   "metadata": {},
   "outputs": [],
   "source": [
    "car = Vehicle(\"Car\", 200, 80)"
   ]
  },
  {
   "cell_type": "code",
   "execution_count": 3,
   "id": "bf337181",
   "metadata": {},
   "outputs": [
    {
     "name": "stdout",
     "output_type": "stream",
     "text": [
      "Car\n"
     ]
    }
   ],
   "source": [
    "print(car.name_of_vehicle)"
   ]
  },
  {
   "cell_type": "code",
   "execution_count": 4,
   "id": "1b1cc35a",
   "metadata": {},
   "outputs": [
    {
     "name": "stdout",
     "output_type": "stream",
     "text": [
      "200\n"
     ]
    }
   ],
   "source": [
    "print(car.max_speed) "
   ]
  },
  {
   "cell_type": "code",
   "execution_count": 5,
   "id": "9fb64b65",
   "metadata": {},
   "outputs": [
    {
     "name": "stdout",
     "output_type": "stream",
     "text": [
      "80\n"
     ]
    }
   ],
   "source": [
    "print(car.average_speed)"
   ]
  },
  {
   "cell_type": "markdown",
   "id": "347bdf1f",
   "metadata": {},
   "source": [
    "# 2"
   ]
  },
  {
   "cell_type": "code",
   "execution_count": 6,
   "id": "0ee0dea2",
   "metadata": {},
   "outputs": [],
   "source": [
    "class Car(Vehicle):\n",
    "    def seating_capacity(self, capacity):\n",
    "        return \"The {self.name_of_vehicle} has a seating capacity of {capacity} people.\"\n"
   ]
  },
  {
   "cell_type": "code",
   "execution_count": 7,
   "id": "9eb29581",
   "metadata": {},
   "outputs": [],
   "source": [
    "car = Car(\"Sedan\", 180, 60)"
   ]
  },
  {
   "cell_type": "code",
   "execution_count": 8,
   "id": "92186372",
   "metadata": {},
   "outputs": [],
   "source": [
    "capacity = 5\n",
    "result = car.seating_capacity(capacity)"
   ]
  },
  {
   "cell_type": "code",
   "execution_count": 9,
   "id": "b6c80eb5",
   "metadata": {},
   "outputs": [
    {
     "name": "stdout",
     "output_type": "stream",
     "text": [
      "The {self.name_of_vehicle} has a seating capacity of {capacity} people.\n"
     ]
    }
   ],
   "source": [
    "print(result)"
   ]
  },
  {
   "cell_type": "markdown",
   "id": "77e4e08c",
   "metadata": {},
   "source": [
    "# 3"
   ]
  },
  {
   "cell_type": "markdown",
   "id": "39e1e4f0",
   "metadata": {},
   "source": [
    "Multiple inheritance is a feature in object-oriented programming where a class can inherit attributes and behaviors from more than one parent class. \n",
    "In Python, multiple inheritance is achieved by specifying multiple parent classes in the class definition. The child class inherits attributes and methods from all parent classes, making them available for use in the child class."
   ]
  },
  {
   "cell_type": "markdown",
   "id": "fa3bfbc2",
   "metadata": {},
   "source": [
    "class A:\n",
    "    def method_A(self):\n",
    "        print(\"This is method A\")\n",
    "\n",
    "\n",
    "class B:\n",
    "    def method_B(self):\n",
    "        print(\"This is method B\")\n",
    "\n",
    "\n",
    "class C(A, B):\n",
    "    def method_C(self):\n",
    "        print(\"This is method C\")"
   ]
  },
  {
   "cell_type": "code",
   "execution_count": 11,
   "id": "b3df00c1",
   "metadata": {},
   "outputs": [
    {
     "name": "stdout",
     "output_type": "stream",
     "text": [
      "This is method A\n",
      "This is method B\n",
      "This is method C\n"
     ]
    }
   ],
   "source": [
    "# Create an instance of class C\n",
    "obj = C()\n",
    "\n",
    "# Access methods from class A\n",
    "obj.method_A()  # Output: This is method A\n",
    "\n",
    "# Access methods from class B\n",
    "obj.method_B()  # Output: This is method B\n",
    "\n",
    "# Access methods from class C\n",
    "obj.method_C()  # Output: This is method C"
   ]
  },
  {
   "cell_type": "markdown",
   "id": "7a54b4cd",
   "metadata": {},
   "source": [
    "# 4"
   ]
  },
  {
   "cell_type": "markdown",
   "id": "917ae218",
   "metadata": {},
   "source": [
    "Method overriding is a feature in object-oriented programming where a subclass provides its own implementation of a method that is already defined in its superclass. This allows the subclass to modify or extend the behavior of the inherited method.\n",
    "\n",
    "In Python, method overriding is achieved by redefining a method in the subclass with the same name as the method in the superclass. "
   ]
  },
  {
   "cell_type": "code",
   "execution_count": 15,
   "id": "b309a95b",
   "metadata": {},
   "outputs": [],
   "source": [
    "class Shape:\n",
    "    def area(self):\n",
    "        print(\"Calculating area in the Shape class\")\n",
    "\n",
    "class Rectangle(Shape):\n",
    "    def area(self):\n",
    "        print(\"Calculating area in the Rectangle class\")\n",
    "\n",
    "# Create an instance of the Rectangle class\n",
    "rectangle = Rectangle()"
   ]
  },
  {
   "cell_type": "code",
   "execution_count": 16,
   "id": "c4579e29",
   "metadata": {},
   "outputs": [
    {
     "name": "stdout",
     "output_type": "stream",
     "text": [
      "Calculating area in the Rectangle class\n"
     ]
    }
   ],
   "source": [
    "# Call the overridden method\n",
    "rectangle.area()"
   ]
  },
  {
   "cell_type": "code",
   "execution_count": null,
   "id": "49c3fdc3",
   "metadata": {},
   "outputs": [],
   "source": []
  }
 ],
 "metadata": {
  "kernelspec": {
   "display_name": "Python 3 (ipykernel)",
   "language": "python",
   "name": "python3"
  },
  "language_info": {
   "codemirror_mode": {
    "name": "ipython",
    "version": 3
   },
   "file_extension": ".py",
   "mimetype": "text/x-python",
   "name": "python",
   "nbconvert_exporter": "python",
   "pygments_lexer": "ipython3",
   "version": "3.9.12"
  }
 },
 "nbformat": 4,
 "nbformat_minor": 5
}
