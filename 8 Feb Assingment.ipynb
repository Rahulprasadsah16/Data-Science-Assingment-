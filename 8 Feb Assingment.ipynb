{
 "cells": [
  {
   "cell_type": "markdown",
   "id": "95d576d7",
   "metadata": {},
   "source": [
    "# 1."
   ]
  },
  {
   "cell_type": "markdown",
   "id": "808bbb01",
   "metadata": {},
   "source": [
    "Abstraction is a fundamental concept that allows us to represent complex systems by focusing on the essential features while hiding unnecessary details. It helps in simplifying the design and implementation of software by breaking it down into manageable parts.\n",
    "\n",
    "Abstraction is achieved through the use of abstract classes and interfaces. An abstract class is a class that cannot be instantiated and is designed to serve as a base for other classes. It defines common attributes and methods that derived classes can inherit and implement. However, an abstract class can also have abstract methods that must be implemented by its derived classes."
   ]
  },
  {
   "cell_type": "code",
   "execution_count": 1,
   "id": "fba29b9f",
   "metadata": {},
   "outputs": [],
   "source": [
    "# Example \n",
    "\n",
    "import abc\n",
    "class pwskills:\n",
    "\n",
    "  @abc.abstractmethod\n",
    "  def students_details(self):\n",
    "    pass\n",
    "  @abc.abstractmethod\n",
    "  def student_assingment(self):\n",
    "    pass\n",
    "  @abc.abstractmethod\n",
    "  def student_marks(self):\n",
    "    pass"
   ]
  },
  {
   "cell_type": "code",
   "execution_count": 2,
   "id": "d3f2a6e6",
   "metadata": {},
   "outputs": [],
   "source": [
    "class students_details(pwskills):\n",
    "  def students_details(self):\n",
    "    return \"this is a method for taking students details\"\n",
    "\n",
    "  def student_assingment(self):\n",
    "    return \"this is a math for assign details foe a paericular student\""
   ]
  },
  {
   "cell_type": "code",
   "execution_count": 3,
   "id": "7c528df2",
   "metadata": {},
   "outputs": [],
   "source": [
    "class data_science_masters(pwskills):\n",
    "\n",
    "  def students_details(self):\n",
    "    return \"this will return a student details for data science masters\"\n",
    "  def student_assingment(self):\n",
    "    return \"this will give you a student assingment details for data science masters\""
   ]
  },
  {
   "cell_type": "code",
   "execution_count": 4,
   "id": "d3b6f0f3",
   "metadata": {},
   "outputs": [
    {
     "data": {
      "text/plain": [
       "'this will return a student details for data science masters'"
      ]
     },
     "execution_count": 4,
     "metadata": {},
     "output_type": "execute_result"
    }
   ],
   "source": [
    "dsm = data_science_masters()\n",
    "dsm.students_details()"
   ]
  },
  {
   "cell_type": "code",
   "execution_count": 5,
   "id": "628c9bc7",
   "metadata": {},
   "outputs": [
    {
     "data": {
      "text/plain": [
       "'this is a method for taking students details'"
      ]
     },
     "execution_count": 5,
     "metadata": {},
     "output_type": "execute_result"
    }
   ],
   "source": [
    "sd = students_details()\n",
    "sd.students_details()"
   ]
  },
  {
   "cell_type": "markdown",
   "id": "9f90a6fd",
   "metadata": {},
   "source": [
    "# 2."
   ]
  },
  {
   "cell_type": "markdown",
   "id": "201896c3",
   "metadata": {},
   "source": [
    "Abstraction:\n",
    "\n",
    "Abstraction focuses on hiding unnecessary details and presenting only the essential features to the user.\n",
    "\n",
    "It simplifies complex systems by breaking them down into manageable and understandable parts.\n",
    "\n",
    "Abstraction is achieved using abstract classes and interfaces.\n",
    "\n",
    "Example: Consider a car. When we interact with a car, we don't need to understand the intricate details of how the engine works or how the transmission system operates. We are only concerned with essential features like starting the car, accelerating, braking, and changing gears. The internal mechanics are abstracted away, allowing us to use the car without dealing with its complexities.\n",
    "\n",
    "\n",
    "\n",
    "\n",
    "Encapsulation:\n",
    "\n",
    "Encapsulation focuses on bundling related data and methods into a single unit, known as a class, and restricting access to the internal details of the object.\n",
    "\n",
    "It provides data hiding and ensures that the internal state of an object is not directly accessible from outside the class.\n",
    "\n",
    "Encapsulation is achieved by using access specifiers (e.g., public, private, protected) and getter/setter methods. "
   ]
  },
  {
   "cell_type": "markdown",
   "id": "f3774abd",
   "metadata": {},
   "source": [
    "# 3."
   ]
  },
  {
   "cell_type": "markdown",
   "id": "735f6471",
   "metadata": {},
   "source": [
    "The abc module provides the ABC class and the abstractmethod decorator, which allow you to define abstract methods and abstract properties within a class. An abstract method is a method that is declared but does not contain an implementation. It is meant to be overridden by derived classes.\n",
    "\n",
    "By defining abstract classes using the abc module, you can create a common interface that multiple classes can inherit from. This allows you to write code that interacts with objects based on their abstract base class, rather than their specific implementation. This promotes code reuse, modularity, and polymorphism. "
   ]
  },
  {
   "cell_type": "code",
   "execution_count": 6,
   "id": "f5274ae1",
   "metadata": {},
   "outputs": [],
   "source": [
    "#Example\n",
    "\n",
    "from abc import ABC, abstractmethod\n",
    "\n",
    "class Shape(ABC):\n",
    "    @abstractmethod\n",
    "    def area(self):\n",
    "        pass\n",
    "\n",
    "class Circle(Shape):\n",
    "    def __init__(self, radius):\n",
    "        self.radius = radius\n",
    "\n",
    "    def area(self):\n",
    "        return 3.14 * self.radius ** 2\n",
    "\n",
    "class Rectangle(Shape):\n",
    "    def __init__(self, length, width):\n",
    "        self.length = length\n",
    "        self.width = width\n",
    "\n",
    "    def area(self):\n",
    "        return self.length * self.width\n",
    "\n",
    "\n"
   ]
  },
  {
   "cell_type": "code",
   "execution_count": 7,
   "id": "a0918690",
   "metadata": {},
   "outputs": [
    {
     "name": "stdout",
     "output_type": "stream",
     "text": [
      "78.5\n"
     ]
    }
   ],
   "source": [
    "circle = Circle(5)\n",
    "print(circle.area())  "
   ]
  },
  {
   "cell_type": "code",
   "execution_count": 8,
   "id": "01d54fe0",
   "metadata": {},
   "outputs": [
    {
     "name": "stdout",
     "output_type": "stream",
     "text": [
      "12\n"
     ]
    }
   ],
   "source": [
    "rectangle = Rectangle(3, 4)\n",
    "print(rectangle.area()) "
   ]
  },
  {
   "cell_type": "markdown",
   "id": "5b2270f3",
   "metadata": {},
   "source": [
    "# 4."
   ]
  },
  {
   "cell_type": "markdown",
   "id": "537c1713",
   "metadata": {},
   "source": [
    "Here are a few ways to achieve data abstraction:\n",
    "\n",
    "Encapsulation: \n",
    "Encapsulation is a mechanism that combines data and methods into a single unit called a class. It allows you to hide the internal state and implementation details of an object from the outside world. By encapsulating data within a class, you provide a level of abstraction where the user can interact with the object using public methods without directly accessing or modifying the internal data.\n",
    "\n",
    "Access Modifiers:\n",
    "Access modifiers (such as public, private, and protected) control the visibility and accessibility of data members and methods in a class. By using access modifiers appropriately, you can restrict direct access to certain data members and provide controlled access through public methods. This ensures that the internal details are hidden and can only be accessed through well-defined interfaces.\n",
    "\n",
    "Getter and Setter Methods: \n",
    "Getter and setter methods (also known as accessor and mutator methods) provide controlled access to private data members. Getters allow the user to retrieve the values of private data, while setters allow the user to modify the values. By using getter and setter methods, you can enforce validation, data consistency, and maintain data integrity while abstracting the actual storage and implementation of the data.\n",
    "\n",
    "Abstract Classes and Interfaces: \n",
    "Abstract classes and interfaces provide a higher level of abstraction by defining a common interface that derived classes must adhere to. Abstract classes can contain abstract methods that must be implemented by their derived classes, ensuring consistency and providing a contract for behavior. Interfaces define a set of method signatures that must be implemented by any class that implements the interface."
   ]
  },
  {
   "cell_type": "markdown",
   "id": "aa22df59",
   "metadata": {},
   "source": [
    "# 5."
   ]
  },
  {
   "cell_type": "markdown",
   "id": "ffe6ece4",
   "metadata": {},
   "source": [
    "No, we cannot create an instance of an abstract class in most programming languages, including Python. An abstract class is designed to be a blueprint for other classes to inherit from and provide their own implementations for the abstract methods defined in the abstract class.\n",
    "\n",
    "The purpose of an abstract class is to define a common interface and behavior that derived classes must adhere to. It contains one or more abstract methods, which are declared but do not have an implementation in the abstract class. Instead, the responsibility of implementing these abstract methods lies with the derived classes."
   ]
  },
  {
   "cell_type": "code",
   "execution_count": 9,
   "id": "a0012e57",
   "metadata": {},
   "outputs": [
    {
     "ename": "TypeError",
     "evalue": "Can't instantiate abstract class AbstractClass with abstract method abstract_method",
     "output_type": "error",
     "traceback": [
      "\u001b[1;31m---------------------------------------------------------------------------\u001b[0m",
      "\u001b[1;31mTypeError\u001b[0m                                 Traceback (most recent call last)",
      "Input \u001b[1;32mIn [9]\u001b[0m, in \u001b[0;36m<cell line: 10>\u001b[1;34m()\u001b[0m\n\u001b[0;32m      6\u001b[0m     \u001b[38;5;129m@abstractmethod\u001b[39m\n\u001b[0;32m      7\u001b[0m     \u001b[38;5;28;01mdef\u001b[39;00m \u001b[38;5;21mabstract_method\u001b[39m(\u001b[38;5;28mself\u001b[39m):\n\u001b[0;32m      8\u001b[0m         \u001b[38;5;28;01mpass\u001b[39;00m\n\u001b[1;32m---> 10\u001b[0m obj \u001b[38;5;241m=\u001b[39m \u001b[43mAbstractClass\u001b[49m\u001b[43m(\u001b[49m\u001b[43m)\u001b[49m\n",
      "\u001b[1;31mTypeError\u001b[0m: Can't instantiate abstract class AbstractClass with abstract method abstract_method"
     ]
    }
   ],
   "source": [
    "#  In Python, if we try to instantiate an abstract class using the abc module, we will encounter a TypeError:\n",
    "\n",
    "from abc import ABC, abstractmethod\n",
    "\n",
    "class AbstractClass(ABC):\n",
    "    @abstractmethod\n",
    "    def abstract_method(self):\n",
    "        pass\n",
    "\n",
    "obj = AbstractClass()  "
   ]
  },
  {
   "cell_type": "code",
   "execution_count": null,
   "id": "29ae9260",
   "metadata": {},
   "outputs": [],
   "source": []
  }
 ],
 "metadata": {
  "kernelspec": {
   "display_name": "Python 3 (ipykernel)",
   "language": "python",
   "name": "python3"
  },
  "language_info": {
   "codemirror_mode": {
    "name": "ipython",
    "version": 3
   },
   "file_extension": ".py",
   "mimetype": "text/x-python",
   "name": "python",
   "nbconvert_exporter": "python",
   "pygments_lexer": "ipython3",
   "version": "3.9.12"
  }
 },
 "nbformat": 4,
 "nbformat_minor": 5
}
