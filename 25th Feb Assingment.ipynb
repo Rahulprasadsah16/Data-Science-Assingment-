{
 "cells": [
  {
   "cell_type": "markdown",
   "id": "ee9ff7cc",
   "metadata": {},
   "source": [
    "# 1."
   ]
  },
  {
   "cell_type": "code",
   "execution_count": null,
   "id": "00b7612d",
   "metadata": {},
   "outputs": [],
   "source": [
    "# This will print the data from the second row of the DataFrame df, which corresponds to the course \"Machine Learning\" with a duration of 3.\n",
    "print(df.iloc[1])\n"
   ]
  },
  {
   "cell_type": "markdown",
   "id": "3b5d4511",
   "metadata": {},
   "source": [
    "# 2."
   ]
  },
  {
   "cell_type": "markdown",
   "id": "9cba6351",
   "metadata": {},
   "source": [
    "The loc and iloc functions in Pandas are used to slice a data set. The function .loc is primarily used for label indexing, while .iloc is mainly used for integer indexing."
   ]
  },
  {
   "cell_type": "markdown",
   "id": "b47a08c1",
   "metadata": {},
   "source": [
    "# 3."
   ]
  },
  {
   "cell_type": "code",
   "execution_count": 2,
   "id": "bf036249",
   "metadata": {},
   "outputs": [
    {
     "name": "stdout",
     "output_type": "stream",
     "text": [
      "Output of new_df.loc[2]:\n",
      "A    30\n",
      "B    70\n",
      "Name: 2, dtype: int64\n",
      "\n",
      "Output of new_df.iloc[2]:\n",
      "A    20\n",
      "B    60\n",
      "Name: 1, dtype: int64\n"
     ]
    }
   ],
   "source": [
    "import pandas as pd\n",
    "\n",
    "# Sample DataFrame\n",
    "data = {'A': [10, 20, 30, 40], 'B': [50, 60, 70, 80]}\n",
    "df = pd.DataFrame(data)\n",
    "\n",
    "# Define the reindex order\n",
    "reindex = [3, 0, 1, 2]\n",
    "\n",
    "# Reindex the DataFrame\n",
    "new_df = df.reindex(reindex)\n",
    "\n",
    "# Output of new_df.loc[2]\n",
    "output_loc = new_df.loc[2]\n",
    "\n",
    "# Output of new_df.iloc[2]\n",
    "output_iloc = new_df.iloc[2]\n",
    "\n",
    "print(\"Output of new_df.loc[2]:\")\n",
    "print(output_loc)\n",
    "\n",
    "print(\"\\nOutput of new_df.iloc[2]:\")\n",
    "print(output_iloc)\n"
   ]
  },
  {
   "cell_type": "markdown",
   "id": "3dc8291e",
   "metadata": {},
   "source": [
    "So, there is a difference in the outputs:\n",
    "\n",
    "new_df.loc[2] will return the data from the second row in the reindexed DataFrame.\n",
    "\n",
    "new_df.iloc[2] will return the data from the first row in the reindexed DataFrame."
   ]
  },
  {
   "cell_type": "markdown",
   "id": "95169256",
   "metadata": {},
   "source": [
    "# 4."
   ]
  },
  {
   "cell_type": "code",
   "execution_count": 3,
   "id": "9ddde3ea",
   "metadata": {},
   "outputs": [
    {
     "name": "stdout",
     "output_type": "stream",
     "text": [
      "Mean of each column:\n",
      "column_1    0.510602\n",
      "column_2    0.252186\n",
      "column_3    0.467463\n",
      "column_4    0.506310\n",
      "column_5    0.568161\n",
      "column_6    0.281511\n",
      "dtype: float64\n",
      "\n",
      "Standard deviation of 'column_2':\n",
      "0.2087343029938684\n"
     ]
    }
   ],
   "source": [
    "import pandas as pd\n",
    "import numpy as np\n",
    "\n",
    "columns = ['column_1', 'column_2', 'column_3', 'column_4', 'column_5', 'column_6']\n",
    "indices = [1, 2, 3, 4, 5, 6]\n",
    "\n",
    "# Creating a DataFrame\n",
    "df1 = pd.DataFrame(np.random.rand(6, 6), columns=columns, index=indices)\n",
    "\n",
    "# (i) Mean of each and every column\n",
    "column_means = df1.mean()\n",
    "\n",
    "# (ii) Standard deviation of 'column_2'\n",
    "std_dev_column_2 = df1['column_2'].std()\n",
    "\n",
    "# Print the results\n",
    "print(\"Mean of each column:\")\n",
    "print(column_means)\n",
    "print(\"\\nStandard deviation of 'column_2':\")\n",
    "print(std_dev_column_2)\n"
   ]
  },
  {
   "cell_type": "markdown",
   "id": "fa239cdb",
   "metadata": {},
   "source": [
    "# 5."
   ]
  },
  {
   "cell_type": "code",
   "execution_count": null,
   "id": "c7354401",
   "metadata": {},
   "outputs": [],
   "source": [
    "import pandas as pd\n",
    "import numpy as np\n",
    "\n",
    "columns = ['column_1', 'column_2', 'column_3', 'column_4', 'column_5', 'column_6']\n",
    "indices = [1, 2, 3, 4, 5, 6]\n",
    "\n",
    "# Creating a DataFrame with random numeric data\n",
    "df1 = pd.DataFrame(np.random.rand(6, 6), columns=columns, index=indices)\n",
    "\n",
    "# Attempt to replace data in 'column_2' with a string (this will raise an error)\n",
    "df1.loc[2, 'column_2'] = \"string_value\"\n",
    "\n",
    "# Calculate the mean of 'column_2' (this will raise an error)\n",
    "mean_column_2 = df1['column_2'].mean()\n",
    "\n",
    "print(\"Mean of 'column_2':\")\n",
    "print(mean_column_2)\n"
   ]
  },
  {
   "cell_type": "markdown",
   "id": "4b450b46",
   "metadata": {},
   "source": [
    "When you try to execute this code, you will encounter a ValueError because you cannot mix data types within a column in a pandas DataFrame. The error will occur at the line where you attempt to replace a numeric value with a string in 'column_2'"
   ]
  },
  {
   "cell_type": "markdown",
   "id": "43cd1795",
   "metadata": {},
   "source": [
    "# 6."
   ]
  },
  {
   "cell_type": "markdown",
   "id": "27563129",
   "metadata": {},
   "source": [
    "Window functions are commonly used for time-series data or when you need to calculate values over a rolling or expanding window. These functions are typically used with methods like rolling(), expanding(), and ewm() (exponential moving window) in pandas."
   ]
  },
  {
   "cell_type": "markdown",
   "id": "abc6705e",
   "metadata": {},
   "source": [
    "Rolling Windows Functions:\n",
    "\n",
    "rolling() is used to create a rolling view of a Series or DataFrame, which allows you to calculate statistics (e.g., mean, sum, standard deviation) over a specified rolling window of data points. Common rolling window functions include mean(), sum(), std(), min(), max(), and var().\n",
    "Expanding Windows Functions:\n",
    "\n",
    "expanding() is used to create an expanding window view, which calculates the cumulative statistics for the entire dataset up to the current point. Common expanding window functions include mean(), sum(), std(), min(), max(), and var().\n",
    "Exponential Moving Windows Functions (ewm):\n",
    "\n",
    "The ewm() function is used for exponential moving windows, which assigns exponentially decreasing weights to data points. It's commonly used for smoothing data or calculating exponentially weighted statistics. Functions like mean(), var(), std(), and corr() can be applied using ewm()."
   ]
  },
  {
   "cell_type": "markdown",
   "id": "113649e4",
   "metadata": {},
   "source": [
    "# 7."
   ]
  },
  {
   "cell_type": "code",
   "execution_count": 5,
   "id": "39d0aa73",
   "metadata": {},
   "outputs": [
    {
     "name": "stdout",
     "output_type": "stream",
     "text": [
      "Current Month: November\n",
      "Current Year: 2023\n"
     ]
    }
   ],
   "source": [
    "import pandas as pd\n",
    "from datetime import datetime\n",
    "\n",
    "# Get the current date and time\n",
    "current_datetime = datetime.now()\n",
    "\n",
    "# Extract the month and year from the current date\n",
    "current_month = current_datetime.month\n",
    "current_year = current_datetime.year\n",
    "\n",
    "# Create a pandas datetime object\n",
    "current_date = pd.to_datetime(f\"{current_year}-{current_month}-01\")\n",
    "\n",
    "# Print the current month and year\n",
    "print(\"Current Month:\", current_date.strftime(\"%B\"))\n",
    "print(\"Current Year:\", current_date.year)\n"
   ]
  },
  {
   "cell_type": "markdown",
   "id": "c4987305",
   "metadata": {},
   "source": [
    "# 8."
   ]
  },
  {
   "cell_type": "code",
   "execution_count": 6,
   "id": "4898fb89",
   "metadata": {},
   "outputs": [
    {
     "name": "stdout",
     "output_type": "stream",
     "text": [
      "Enter the first date (YYYY-MM-DD): 2023-11-04\n",
      "Enter the second date (YYYY-MM-DD): 2023-11-05\n",
      "Time difference: 1 days, 0 hours, 0 minutes\n"
     ]
    }
   ],
   "source": [
    "import pandas as pd\n",
    "\n",
    "# Input two dates from the user in the format YYYY-MM-DD\n",
    "date_str1 = input(\"Enter the first date (YYYY-MM-DD): \")\n",
    "date_str2 = input(\"Enter the second date (YYYY-MM-DD): \")\n",
    "\n",
    "# Convert the input strings to pandas datetime objects\n",
    "try:\n",
    "    date1 = pd.to_datetime(date_str1)\n",
    "    date2 = pd.to_datetime(date_str2)\n",
    "\n",
    "    # Calculate the time difference\n",
    "    time_difference = date2 - date1\n",
    "\n",
    "    # Extract days, hours, and minutes from the time difference\n",
    "    days = time_difference.days\n",
    "    hours, remainder = divmod(time_difference.seconds, 3600)\n",
    "    minutes, _ = divmod(remainder, 60)\n",
    "\n",
    "    # Display the result\n",
    "    print(f\"Time difference: {days} days, {hours} hours, {minutes} minutes\")\n",
    "\n",
    "except ValueError:\n",
    "    print(\"Invalid date format. Please use the format YYYY-MM-DD.\")\n",
    "\n",
    "except Exception as e:\n",
    "    print(f\"An error occurred: {str(e)}\")\n"
   ]
  },
  {
   "cell_type": "markdown",
   "id": "410b1262",
   "metadata": {},
   "source": [
    "# 9."
   ]
  },
  {
   "cell_type": "code",
   "execution_count": null,
   "id": "c2deecb8",
   "metadata": {},
   "outputs": [],
   "source": [
    "import pandas as pd\n",
    "\n",
    "# Prompt the user for the file path\n",
    "file_path = input(\"Enter the CSV file path: \")\n",
    "\n",
    "# Prompt the user for the column name to convert to categorical data type\n",
    "column_name = input(\"Enter the column name to convert to categorical data type: \")\n",
    "\n",
    "# Prompt the user for the category order (comma-separated)\n",
    "category_order = input(\"Enter the category order (comma-separated, e.g., category1,category2,category3): \").split(',')\n",
    "\n",
    "# Read the CSV file into a DataFrame\n",
    "try:\n",
    "    df = pd.read_csv(file_path)\n",
    "\n",
    "    # Convert the specified column to a categorical data type with the specified order\n",
    "    df[column_name] = pd.Categorical(df[column_name], categories=category_order, ordered=True)\n",
    "\n",
    "    # Sort the DataFrame by the categorical column\n",
    "    df = df.sort_values(column_name)\n",
    "\n",
    "    # Display the sorted data\n",
    "    print(df)\n",
    "\n",
    "except FileNotFoundError:\n",
    "    print(f\"File not found at the specified path: {file_path}\")\n",
    "\n",
    "except KeyError:\n",
    "    print(f\"Column not found: {column_name}\")\n",
    "\n",
    "except Exception as e:\n",
    "    print(f\"An error occurred: {str(e)}\")\n"
   ]
  },
  {
   "cell_type": "markdown",
   "id": "77638c41",
   "metadata": {},
   "source": [
    "# 10."
   ]
  },
  {
   "cell_type": "code",
   "execution_count": 8,
   "id": "e30fd9e9",
   "metadata": {},
   "outputs": [
    {
     "name": "stdout",
     "output_type": "stream",
     "text": [
      "Requirement already satisfied: pandas in c:\\users\\rsah4\\anaconda3\\lib\\site-packages (1.5.3)\n",
      "Requirement already satisfied: matplotlib in c:\\users\\rsah4\\anaconda3\\lib\\site-packages (3.7.0)\n",
      "Requirement already satisfied: pytz>=2020.1 in c:\\users\\rsah4\\anaconda3\\lib\\site-packages (from pandas) (2022.7)\n",
      "Requirement already satisfied: numpy>=1.21.0 in c:\\users\\rsah4\\anaconda3\\lib\\site-packages (from pandas) (1.23.5)\n",
      "Requirement already satisfied: python-dateutil>=2.8.1 in c:\\users\\rsah4\\anaconda3\\lib\\site-packages (from pandas) (2.8.2)\n",
      "Requirement already satisfied: fonttools>=4.22.0 in c:\\users\\rsah4\\anaconda3\\lib\\site-packages (from matplotlib) (4.25.0)\n",
      "Requirement already satisfied: pillow>=6.2.0 in c:\\users\\rsah4\\anaconda3\\lib\\site-packages (from matplotlib) (9.4.0)\n",
      "Requirement already satisfied: cycler>=0.10 in c:\\users\\rsah4\\anaconda3\\lib\\site-packages (from matplotlib) (0.11.0)\n",
      "Requirement already satisfied: pyparsing>=2.3.1 in c:\\users\\rsah4\\anaconda3\\lib\\site-packages (from matplotlib) (3.0.9)\n",
      "Requirement already satisfied: contourpy>=1.0.1 in c:\\users\\rsah4\\anaconda3\\lib\\site-packages (from matplotlib) (1.0.5)\n",
      "Requirement already satisfied: kiwisolver>=1.0.1 in c:\\users\\rsah4\\anaconda3\\lib\\site-packages (from matplotlib) (1.4.4)\n",
      "Requirement already satisfied: packaging>=20.0 in c:\\users\\rsah4\\anaconda3\\lib\\site-packages (from matplotlib) (22.0)\n",
      "Requirement already satisfied: six>=1.5 in c:\\users\\rsah4\\anaconda3\\lib\\site-packages (from python-dateutil>=2.8.1->pandas) (1.16.0)\n",
      "Note: you may need to restart the kernel to use updated packages.\n"
     ]
    }
   ],
   "source": [
    "pip install pandas matplotlib\n"
   ]
  },
  {
   "cell_type": "code",
   "execution_count": null,
   "id": "9fe93da5",
   "metadata": {},
   "outputs": [],
   "source": [
    "import pandas as pd\n",
    "import matplotlib.pyplot as plt\n",
    "\n",
    "# Function to read CSV file and create a stacked bar chart\n",
    "def create_stacked_bar_chart(file_path):\n",
    "    # Read the CSV file into a DataFrame\n",
    "    df = pd.read_csv(file_path)\n",
    "\n",
    "    # Assuming your CSV file has columns 'Date', 'Product', and 'Sales'\n",
    "    # You may need to adjust these column names to match your CSV file\n",
    "    pivot_data = df.pivot_table(index='Date', columns='Product', values='Sales', fill_value=0)\n",
    "\n",
    "    # Create a stacked bar chart\n",
    "    pivot_data.plot(kind='bar', stacked=True, figsize=(10, 6))\n",
    "\n",
    "    # Customize the chart labels and title\n",
    "    plt.xlabel('Date')\n",
    "    plt.ylabel('Sales')\n",
    "    plt.title('Stacked Bar Chart of Product Sales Over Time')\n",
    "\n",
    "    # Show the chart\n",
    "    plt.legend(title='Product')\n",
    "    plt.show()\n",
    "\n",
    "if __name__ == \"__main__\":\n",
    "    file_path = input(\"Enter the file path of the CSV file: \")\n",
    "\n",
    "    try:\n",
    "        create_stacked_bar_chart(file_path)\n",
    "    except FileNotFoundError:\n",
    "        print(f\"File not found: {file_path}\")\n",
    "    except Exception as e:\n",
    "        print(f\"An error occurred: {e}\")\n"
   ]
  },
  {
   "cell_type": "code",
   "execution_count": null,
   "id": "13bfb55e",
   "metadata": {},
   "outputs": [],
   "source": []
  }
 ],
 "metadata": {
  "kernelspec": {
   "display_name": "Python 3 (ipykernel)",
   "language": "python",
   "name": "python3"
  },
  "language_info": {
   "codemirror_mode": {
    "name": "ipython",
    "version": 3
   },
   "file_extension": ".py",
   "mimetype": "text/x-python",
   "name": "python",
   "nbconvert_exporter": "python",
   "pygments_lexer": "ipython3",
   "version": "3.10.9"
  }
 },
 "nbformat": 4,
 "nbformat_minor": 5
}
