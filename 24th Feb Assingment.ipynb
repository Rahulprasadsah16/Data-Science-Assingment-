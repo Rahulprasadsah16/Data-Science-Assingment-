{
 "cells": [
  {
   "cell_type": "markdown",
   "id": "170bb268",
   "metadata": {},
   "source": [
    "# 1."
   ]
  },
  {
   "cell_type": "code",
   "execution_count": null,
   "id": "5ea1197d",
   "metadata": {},
   "outputs": [],
   "source": [
    " # Read Data from a CSV file:\n",
    "    \n",
    "import pandas as pd\n",
    "\n",
    "# Read data from a CSV file\n",
    "df = pd.read_csv('data.csv')\n"
   ]
  },
  {
   "cell_type": "code",
   "execution_count": null,
   "id": "94192296",
   "metadata": {},
   "outputs": [],
   "source": [
    " # Viewing Data:\n",
    "\n",
    "# Display the first 5 rows of the DataFrame\n",
    "df.head()\n"
   ]
  },
  {
   "cell_type": "code",
   "execution_count": null,
   "id": "c80e1202",
   "metadata": {},
   "outputs": [],
   "source": [
    " # Data Filtering:\n",
    "\n",
    "# Filter data where 'column_name' is greater than 50\n",
    "filtered_data = df[df['column_name'] > 50]\n"
   ]
  },
  {
   "cell_type": "code",
   "execution_count": null,
   "id": "dffa01d6",
   "metadata": {},
   "outputs": [],
   "source": [
    "# Data Grouping and Aggregation:\n",
    "\n",
    "# Group data by 'category' and calculate the mean of 'value' for each group\n",
    "grouped_data = df.groupby('category')['value'].mean()\n"
   ]
  },
  {
   "cell_type": "code",
   "execution_count": null,
   "id": "f0453e8f",
   "metadata": {},
   "outputs": [],
   "source": [
    "# Data Visualization:\n",
    "\n",
    "import matplotlib.pyplot as plt\n",
    "\n",
    "# Create a histogram of a column\n",
    "df['column_name'].plot.hist()\n",
    "plt.xlabel('X-axis label')\n",
    "plt.ylabel('Y-axis label')\n",
    "plt.title('Histogram of column_name')\n",
    "plt.show()\n"
   ]
  },
  {
   "cell_type": "markdown",
   "id": "b340afd3",
   "metadata": {},
   "source": [
    "# 2."
   ]
  },
  {
   "cell_type": "code",
   "execution_count": 4,
   "id": "8eb46385",
   "metadata": {},
   "outputs": [
    {
     "name": "stdout",
     "output_type": "stream",
     "text": [
      "    A   B   C\n",
      "1  10  40  70\n",
      "3  20  50  80\n",
      "5  30  60  90\n"
     ]
    }
   ],
   "source": [
    "import pandas as pd\n",
    "\n",
    "def reindex_with_custom_increment(df):\n",
    "    # Create a new index starting from 1 and incrementing by 2\n",
    "    new_index = range(1, len(df) * 2, 2)\n",
    "\n",
    "    # Assign the new index to the DataFrame\n",
    "    df.index = new_index\n",
    "\n",
    "    return df\n",
    "\n",
    "# Sample DataFrame with columns 'A', 'B', and 'C'\n",
    "data = {'A': [10, 20, 30], 'B': [40, 50, 60], 'C': [70, 80, 90]}\n",
    "df = pd.DataFrame(data)\n",
    "\n",
    "# Call the function to reindex the DataFrame\n",
    "new_df = reindex_with_custom_increment(df)\n",
    "\n",
    "print(new_df)\n"
   ]
  },
  {
   "cell_type": "markdown",
   "id": "354b2c7a",
   "metadata": {},
   "source": [
    "# 3."
   ]
  },
  {
   "cell_type": "code",
   "execution_count": 6,
   "id": "ca81ced2",
   "metadata": {},
   "outputs": [
    {
     "name": "stdout",
     "output_type": "stream",
     "text": [
      "Sum of the first three values in the 'Values' column: 60\n"
     ]
    }
   ],
   "source": [
    "\n",
    "def calculate_sum_of_first_three_values(df):\n",
    "    if 'Values' in df.columns:\n",
    "        # Access the 'Values' column and calculate the sum of the first three values\n",
    "        first_three_values_sum = df['Values'].iloc[:3].sum()\n",
    "        print(f\"Sum of the first three values in the 'Values' column: {first_three_values_sum}\")\n",
    "    else:\n",
    "        print(\"The 'Values' column does not exist in the DataFrame.\")\n",
    "\n",
    "# Sample DataFrame with 'Values' column\n",
    "data = {'Values': [10, 20, 30, 40, 50]}\n",
    "df = pd.DataFrame(data)\n",
    "\n",
    "# Call the function to calculate and print the sum of the first three values\n",
    "calculate_sum_of_first_three_values(df)\n"
   ]
  },
  {
   "cell_type": "markdown",
   "id": "c60f7a38",
   "metadata": {},
   "source": [
    "# 4."
   ]
  },
  {
   "cell_type": "code",
   "execution_count": 7,
   "id": "a143c0c0",
   "metadata": {},
   "outputs": [
    {
     "name": "stdout",
     "output_type": "stream",
     "text": [
      "                     Text  Word_Count\n",
      "0  This is a sample text.           5\n",
      "1   Count the words here.           4\n",
      "2         Another example           2\n"
     ]
    }
   ],
   "source": [
    "def add_word_count_column(df):\n",
    "    # Split the 'Text' column into words and count the number of words in each row\n",
    "    df['Word_Count'] = df['Text'].apply(lambda x: len(x.split()))\n",
    "    return df\n",
    "\n",
    "# Sample DataFrame with 'Text' column\n",
    "data = {'Text': [\"This is a sample text.\", \"Count the words here.\", \"Another example\"]}\n",
    "df = pd.DataFrame(data)\n",
    "\n",
    "# Call the function to add the 'Word_Count' column\n",
    "df = add_word_count_column(df)\n",
    "\n",
    "# Print the updated DataFrame\n",
    "print(df)\n"
   ]
  },
  {
   "cell_type": "markdown",
   "id": "eef25853",
   "metadata": {},
   "source": [
    "# 5."
   ]
  },
  {
   "cell_type": "markdown",
   "id": "b2106d1d",
   "metadata": {},
   "source": [
    "DataFrame.size:\n",
    "\n",
    "DataFrame.size returns the total number of elements in the DataFrame, which is the product of the number of rows and the number of columns.\n",
    "It provides the total count of data points in the DataFrame, including all cells."
   ]
  },
  {
   "cell_type": "code",
   "execution_count": 10,
   "id": "25167f3d",
   "metadata": {},
   "outputs": [],
   "source": [
    "data = {'A': [1, 2, 3], 'B': [4, 5, 6]}\n",
    "df = pd.DataFrame(data)\n",
    "\n",
    "size = df.size  # This will return 6 (3 rows * 2 columns)\n"
   ]
  },
  {
   "cell_type": "markdown",
   "id": "e9ec4a01",
   "metadata": {},
   "source": [
    "DataFrame.shape:\n",
    "\n",
    "DataFrame.shape returns a tuple representing the dimensions of the DataFrame, with the first element being the number of rows and the second element being the number of columns.\n",
    "It provides information about the structure of the DataFrame in terms of its rows and columns."
   ]
  },
  {
   "cell_type": "code",
   "execution_count": 11,
   "id": "0fcf34fa",
   "metadata": {},
   "outputs": [],
   "source": [
    "data = {'A': [1, 2, 3], 'B': [4, 5, 6]}\n",
    "df = pd.DataFrame(data)\n",
    "\n",
    "shape = df.shape  # This will return (3, 2) indicating 3 rows and 2 columns\n"
   ]
  },
  {
   "cell_type": "markdown",
   "id": "df6ec0da",
   "metadata": {},
   "source": [
    "# 6."
   ]
  },
  {
   "cell_type": "markdown",
   "id": "f0482a96",
   "metadata": {},
   "source": [
    "In Pandas, you can use the pd.read_excel() function to read data from an Excel file. This function allows you to read Excel files in various formats, such as .xls and .xlsx. "
   ]
  },
  {
   "cell_type": "markdown",
   "id": "0d5b29f8",
   "metadata": {},
   "source": [
    "# 7."
   ]
  },
  {
   "cell_type": "code",
   "execution_count": 12,
   "id": "4b85c198",
   "metadata": {},
   "outputs": [
    {
     "name": "stdout",
     "output_type": "stream",
     "text": [
      "               Email Username\n",
      "0  user1@example.com    user1\n",
      "1  user2@example.org    user2\n",
      "2  user3@example.net    user3\n"
     ]
    }
   ],
   "source": [
    "def extract_username_from_email(df):\n",
    "    # Use the str.split() method to split the 'Email' column at '@'\n",
    "    # and select the first part (the username)\n",
    "    df['Username'] = df['Email'].str.split('@').str[0]\n",
    "    return df\n",
    "\n",
    "# Sample DataFrame with 'Email' column\n",
    "data = {'Email': ['user1@example.com', 'user2@example.org', 'user3@example.net']}\n",
    "df = pd.DataFrame(data)\n",
    "\n",
    "# Call the function to extract and add the 'Username' column\n",
    "df = extract_username_from_email(df)\n",
    "\n",
    "# Print the updated DataFrame\n",
    "print(df)\n"
   ]
  },
  {
   "cell_type": "markdown",
   "id": "9c20bf9d",
   "metadata": {},
   "source": [
    "# 8."
   ]
  },
  {
   "cell_type": "code",
   "execution_count": 14,
   "id": "87244c42",
   "metadata": {},
   "outputs": [
    {
     "name": "stdout",
     "output_type": "stream",
     "text": [
      "   A  B  C\n",
      "1  8  2  7\n",
      "2  6  9  4\n",
      "4  9  1  2\n"
     ]
    }
   ],
   "source": [
    "def select_rows_by_conditions(df):\n",
    "    # Create a boolean mask based on the conditions\n",
    "    condition = (df['A'] > 5) & (df['B'] < 10)\n",
    "\n",
    "    # Use the boolean mask to select the rows\n",
    "    selected_rows = df[condition]\n",
    "\n",
    "    return selected_rows\n",
    "\n",
    "# Sample DataFrame with columns 'A', 'B', and 'C'\n",
    "data = {'A': [3, 8, 6, 2, 9],\n",
    "        'B': [5, 2, 9, 3, 1],\n",
    "        'C': [1, 7, 4, 5, 2]}\n",
    "df = pd.DataFrame(data)\n",
    "\n",
    "# Call the function to select rows based on the conditions\n",
    "selected_df = select_rows_by_conditions(df)\n",
    "\n",
    "# Print the selected DataFrame\n",
    "print(selected_df)\n"
   ]
  },
  {
   "cell_type": "markdown",
   "id": "ae7b6fe9",
   "metadata": {},
   "source": [
    "# 9."
   ]
  },
  {
   "cell_type": "code",
   "execution_count": 15,
   "id": "45b40e68",
   "metadata": {},
   "outputs": [
    {
     "name": "stdout",
     "output_type": "stream",
     "text": [
      "Mean: 30.0\n",
      "Median: 30.0\n",
      "Standard Deviation: 15.811388300841896\n"
     ]
    }
   ],
   "source": [
    "def calculate_statistics(df):\n",
    "    if 'Values' in df.columns:\n",
    "        # Calculate the mean, median, and standard deviation\n",
    "        mean_value = df['Values'].mean()\n",
    "        median_value = df['Values'].median()\n",
    "        std_deviation = df['Values'].std()\n",
    "        \n",
    "        return mean_value, median_value, std_deviation\n",
    "    else:\n",
    "        return None\n",
    "\n",
    "# Sample DataFrame with 'Values' column\n",
    "data = {'Values': [10, 20, 30, 40, 50]}\n",
    "df = pd.DataFrame(data)\n",
    "\n",
    "# Call the function to calculate statistics\n",
    "mean, median, std_dev = calculate_statistics(df)\n",
    "\n",
    "if mean is not None:\n",
    "    print(f\"Mean: {mean}\")\n",
    "    print(f\"Median: {median}\")\n",
    "    print(f\"Standard Deviation: {std_dev}\")\n",
    "else:\n",
    "    print(\"The 'Values' column does not exist in the DataFrame.\")\n"
   ]
  },
  {
   "cell_type": "markdown",
   "id": "e675676d",
   "metadata": {},
   "source": [
    "# 10."
   ]
  },
  {
   "cell_type": "code",
   "execution_count": 16,
   "id": "9f3ac6e9",
   "metadata": {},
   "outputs": [
    {
     "name": "stdout",
     "output_type": "stream",
     "text": [
      "   Sales       Date  MovingAverage\n",
      "0    100 2023-01-01     100.000000\n",
      "1    200 2023-01-02     150.000000\n",
      "2    150 2023-01-03     150.000000\n",
      "3    300 2023-01-04     187.500000\n",
      "4    250 2023-01-05     200.000000\n",
      "5    180 2023-01-06     196.666667\n",
      "6    220 2023-01-07     200.000000\n",
      "7    350 2023-01-08     235.714286\n",
      "8    320 2023-01-09     252.857143\n",
      "9    280 2023-01-10     271.428571\n"
     ]
    }
   ],
   "source": [
    "\n",
    "def calculate_moving_average(df, window_size=7):\n",
    "    if 'Sales' in df.columns and 'Date' in df.columns:\n",
    "        # Sort the DataFrame by the 'Date' column if it's not already sorted\n",
    "        df['Date'] = pd.to_datetime(df['Date'])\n",
    "        df = df.sort_values('Date')\n",
    "\n",
    "        # Calculate the moving average using a rolling window of size 'window_size'\n",
    "        df['MovingAverage'] = df['Sales'].rolling(window=window_size, min_periods=1).mean()\n",
    "\n",
    "        return df\n",
    "    else:\n",
    "        return None\n",
    "\n",
    "# Sample DataFrame with 'Sales' and 'Date' columns\n",
    "data = {'Sales': [100, 200, 150, 300, 250, 180, 220, 350, 320, 280],\n",
    "        'Date': ['2023-01-01', '2023-01-02', '2023-01-03', '2023-01-04', '2023-01-05',\n",
    "                 '2023-01-06', '2023-01-07', '2023-01-08', '2023-01-09', '2023-01-10']}\n",
    "df = pd.DataFrame(data)\n",
    "\n",
    "# Call the function to calculate the moving average\n",
    "result_df = calculate_moving_average(df)\n",
    "\n",
    "if result_df is not None:\n",
    "    print(result_df)\n",
    "else:\n",
    "    print(\"The 'Sales' and 'Date' columns do not exist in the DataFrame.\")\n"
   ]
  },
  {
   "cell_type": "markdown",
   "id": "f9ab8ad4",
   "metadata": {},
   "source": [
    "# 11."
   ]
  },
  {
   "cell_type": "code",
   "execution_count": 17,
   "id": "381fbd5f",
   "metadata": {},
   "outputs": [
    {
     "name": "stdout",
     "output_type": "stream",
     "text": [
      "        Date    Weekday\n",
      "0 2023-01-01     Sunday\n",
      "1 2023-01-02     Monday\n",
      "2 2023-01-03    Tuesday\n",
      "3 2023-01-04  Wednesday\n",
      "4 2023-01-05   Thursday\n"
     ]
    }
   ],
   "source": [
    "def add_weekday_column(df):\n",
    "    if 'Date' in df.columns:\n",
    "        # Convert the 'Date' column to a datetime data type\n",
    "        df['Date'] = pd.to_datetime(df['Date'])\n",
    "\n",
    "        # Extract the weekday names and add them to a new 'Weekday' column\n",
    "        df['Weekday'] = df['Date'].dt.day_name()\n",
    "\n",
    "        return df\n",
    "    else:\n",
    "        return None\n",
    "\n",
    "# Sample DataFrame with 'Date' column\n",
    "data = {'Date': ['2023-01-01', '2023-01-02', '2023-01-03', '2023-01-04', '2023-01-05']}\n",
    "df = pd.DataFrame(data)\n",
    "\n",
    "# Call the function to add the 'Weekday' column\n",
    "result_df = add_weekday_column(df)\n",
    "\n",
    "if result_df is not None:\n",
    "    print(result_df)\n",
    "else:\n",
    "    print(\"The 'Date' column does not exist in the DataFrame.\")\n"
   ]
  },
  {
   "cell_type": "markdown",
   "id": "6e712012",
   "metadata": {},
   "source": [
    "# 12."
   ]
  },
  {
   "cell_type": "code",
   "execution_count": 18,
   "id": "38b36772",
   "metadata": {},
   "outputs": [
    {
     "name": "stdout",
     "output_type": "stream",
     "text": [
      "        Date\n",
      "0 2023-01-01\n",
      "1 2023-01-15\n",
      "2 2023-01-20\n"
     ]
    }
   ],
   "source": [
    "def select_rows_within_date_range(df):\n",
    "    if 'Date' in df.columns:\n",
    "        # Convert the 'Date' column to a datetime data type\n",
    "        df['Date'] = pd.to_datetime(df['Date'])\n",
    "\n",
    "        # Define the start and end date for the range\n",
    "        start_date = pd.to_datetime('2023-01-01')\n",
    "        end_date = pd.to_datetime('2023-01-31')\n",
    "\n",
    "        # Create a boolean mask to select rows within the date range\n",
    "        condition = (df['Date'] >= start_date) & (df['Date'] <= end_date)\n",
    "\n",
    "        # Use the boolean mask to select the rows\n",
    "        selected_rows = df[condition]\n",
    "\n",
    "        return selected_rows\n",
    "    else:\n",
    "        return None\n",
    "\n",
    "# Sample DataFrame with 'Date' column\n",
    "data = {'Date': ['2023-01-01', '2023-01-15', '2023-01-20', '2023-02-10', '2023-03-05']}\n",
    "df = pd.DataFrame(data)\n",
    "\n",
    "# Call the function to select rows within the date range\n",
    "result_df = select_rows_within_date_range(df)\n",
    "\n",
    "if result_df is not None:\n",
    "    print(result_df)\n",
    "else:\n",
    "    print(\"The 'Date' column does not exist in the DataFrame.\")\n"
   ]
  },
  {
   "cell_type": "markdown",
   "id": "3e55ac74",
   "metadata": {},
   "source": [
    "# 13."
   ]
  },
  {
   "cell_type": "code",
   "execution_count": 19,
   "id": "24985806",
   "metadata": {},
   "outputs": [],
   "source": [
    "import pandas as pd\n"
   ]
  },
  {
   "cell_type": "code",
   "execution_count": null,
   "id": "c3463660",
   "metadata": {},
   "outputs": [],
   "source": []
  }
 ],
 "metadata": {
  "kernelspec": {
   "display_name": "Python 3 (ipykernel)",
   "language": "python",
   "name": "python3"
  },
  "language_info": {
   "codemirror_mode": {
    "name": "ipython",
    "version": 3
   },
   "file_extension": ".py",
   "mimetype": "text/x-python",
   "name": "python",
   "nbconvert_exporter": "python",
   "pygments_lexer": "ipython3",
   "version": "3.10.9"
  }
 },
 "nbformat": 4,
 "nbformat_minor": 5
}
