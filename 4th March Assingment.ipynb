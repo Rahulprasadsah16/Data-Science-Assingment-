{
 "cells": [
  {
   "cell_type": "markdown",
   "id": "8ff0e6fc",
   "metadata": {},
   "source": [
    "# 1."
   ]
  },
  {
   "cell_type": "code",
   "execution_count": 1,
   "id": "0b2dc496",
   "metadata": {},
   "outputs": [
    {
     "name": "stdout",
     "output_type": "stream",
     "text": [
      "Requirement already satisfied: plotly in c:\\users\\rsah4\\anaconda3\\lib\\site-packages (5.9.0)Note: you may need to restart the kernel to use updated packages.\n",
      "\n",
      "Requirement already satisfied: tenacity>=6.2.0 in c:\\users\\rsah4\\anaconda3\\lib\\site-packages (from plotly) (8.0.1)\n"
     ]
    }
   ],
   "source": [
    "pip install plotly\n"
   ]
  },
  {
   "cell_type": "code",
   "execution_count": null,
   "id": "233efc79",
   "metadata": {},
   "outputs": [],
   "source": [
    "import seaborn as sns\n",
    "import plotly.express as px\n",
    "\n",
    "# Load the \"titanic\" dataset\n",
    "titanic_data = sns.load_dataset(\"titanic\")\n",
    "\n",
    "# Create a scatter plot with Plotly Express\n",
    "fig = px.scatter(titanic_data, x='age', y='fare', title='Scatter Plot of Age vs. Fare in Titanic Dataset')\n",
    "\n",
    "# Show the plot\n",
    "fig.show()\n"
   ]
  },
  {
   "cell_type": "markdown",
   "id": "220dd4b8",
   "metadata": {},
   "source": [
    "# 2. "
   ]
  },
  {
   "cell_type": "code",
   "execution_count": null,
   "id": "f326d96f",
   "metadata": {},
   "outputs": [],
   "source": [
    "import seaborn as sns\n",
    "import plotly.express as px\n",
    "\n",
    "# Load the \"tips\" dataset from Seaborn\n",
    "tips_data = sns.load_dataset(\"tips\")\n",
    "\n",
    "# Create a box plot with Plotly Express\n",
    "fig = px.box(tips_data, x='day', y='total_bill', title='Box Plot of Total Bill by Day')\n",
    "\n",
    "# Show the plot\n",
    "fig.show()\n"
   ]
  },
  {
   "cell_type": "markdown",
   "id": "b5ca796b",
   "metadata": {},
   "source": [
    "# 3. "
   ]
  },
  {
   "cell_type": "code",
   "execution_count": null,
   "id": "9958016b",
   "metadata": {},
   "outputs": [],
   "source": [
    "import seaborn as sns\n",
    "import plotly.express as px\n",
    "\n",
    "# Load the \"tips\" dataset from Seaborn\n",
    "tips_data = sns.load_dataset(\"tips\")\n",
    "\n",
    "# Create a histogram with Plotly Express\n",
    "fig = px.histogram(\n",
    "    tips_data,\n",
    "    x='sex',\n",
    "    y='total_bill',\n",
    "    color='day',\n",
    "    facet_col='smoker',\n",
    "    pattern_shape='smoker',\n",
    "    title='Histogram of Total Bill by Sex, Day, and Smoker Status'\n",
    ")\n",
    "\n",
    "# Show the plot\n",
    "fig.show()\n"
   ]
  },
  {
   "cell_type": "markdown",
   "id": "a1d0bbb3",
   "metadata": {},
   "source": [
    "# 4."
   ]
  },
  {
   "cell_type": "code",
   "execution_count": null,
   "id": "634c24e5",
   "metadata": {},
   "outputs": [],
   "source": [
    "import plotly.express as px\n",
    "\n",
    "# Load the \"iris\" dataset from Plotly Express (already included)\n",
    "iris_data = px.data.iris()\n",
    "\n",
    "# Create a scatter matrix plot with color based on the \"species\" column\n",
    "fig = px.scatter_matrix(\n",
    "    iris_data,\n",
    "    dimensions=[\"sepal_width\", \"sepal_length\", \"petal_width\", \"petal_length\"],\n",
    "    color=\"species\",\n",
    "    title=\"Scatter Matrix Plot of Iris Dataset\"\n",
    ")\n",
    "\n",
    "# Show the plot\n",
    "fig.show()\n"
   ]
  },
  {
   "cell_type": "markdown",
   "id": "29a3be8e",
   "metadata": {},
   "source": [
    "# 5."
   ]
  },
  {
   "cell_type": "markdown",
   "id": "42b0d75f",
   "metadata": {},
   "source": [
    "distplot was a function in the plotly.express library used for creating univariate distribution plots. However, starting from Plotly version 4.0.0, the distplot function has been deprecated, and the recommended way to create distribution plots is to use histogram"
   ]
  },
  {
   "cell_type": "code",
   "execution_count": null,
   "id": "1c04303a",
   "metadata": {},
   "outputs": [],
   "source": [
    "import plotly.express as px\n",
    "\n",
    "# Load a sample dataset from Plotly Express (you can replace this with your own data)\n",
    "df = px.data.tips()\n",
    "\n",
    "# Create a distribution plot using histogram\n",
    "fig = px.histogram(\n",
    "    df,\n",
    "    x=\"total_bill\",\n",
    "    color=\"sex\",\n",
    "    marginal=\"rug\",  # Add rug plots on the margins\n",
    "    title=\"Distribution Plot of Total Bill by Sex\"\n",
    ")\n",
    "\n",
    "# Show the plot\n",
    "fig.show()\n"
   ]
  },
  {
   "cell_type": "code",
   "execution_count": null,
   "id": "49c2477c",
   "metadata": {},
   "outputs": [],
   "source": []
  }
 ],
 "metadata": {
  "kernelspec": {
   "display_name": "Python 3 (ipykernel)",
   "language": "python",
   "name": "python3"
  },
  "language_info": {
   "codemirror_mode": {
    "name": "ipython",
    "version": 3
   },
   "file_extension": ".py",
   "mimetype": "text/x-python",
   "name": "python",
   "nbconvert_exporter": "python",
   "pygments_lexer": "ipython3",
   "version": "3.10.9"
  }
 },
 "nbformat": 4,
 "nbformat_minor": 5
}
