{
 "cells": [
  {
   "cell_type": "markdown",
   "id": "2d2c6463",
   "metadata": {},
   "source": [
    "# 1."
   ]
  },
  {
   "cell_type": "code",
   "execution_count": 2,
   "id": "2af2ea06",
   "metadata": {},
   "outputs": [
    {
     "name": "stdout",
     "output_type": "stream",
     "text": [
      "Pearson correlation coefficient: 0.942830857532955\n"
     ]
    }
   ],
   "source": [
    "import numpy as np\n",
    "\n",
    "# Sample data\n",
    "study_time = [5, 10, 8, 3, 7]  # hours\n",
    "exam_scores = [70, 85, 75, 60, 80]\n",
    "\n",
    "# Calculate means\n",
    "mean_study_time = np.mean(study_time)\n",
    "mean_exam_scores = np.mean(exam_scores)\n",
    "\n",
    "# Calculate Pearson correlation coefficient\n",
    "numerator = sum((study - mean_study_time) * (score - mean_exam_scores) for study, score in zip(study_time, exam_scores))\n",
    "denominator_study = sum((study - mean_study_time) ** 2 for study in study_time)\n",
    "denominator_scores = sum((score - mean_exam_scores) ** 2 for score in exam_scores)\n",
    "pearson_corr = numerator / (np.sqrt(denominator_study) * np.sqrt(denominator_scores))\n",
    "\n",
    "print(\"Pearson correlation coefficient:\", pearson_corr)\n"
   ]
  },
  {
   "cell_type": "markdown",
   "id": "478c0bbe",
   "metadata": {},
   "source": [
    "# 2."
   ]
  },
  {
   "cell_type": "markdown",
   "id": "abac146b",
   "metadata": {},
   "source": [
    "To calculate Spearman's rank correlation coefficient between the amount of sleep individuals get each night and their overall job satisfaction level, you need to first rank the data and then compute the correlation based on the ranks. Spearman's rank correlation coefficient ranges from -1 to 1, where:\n",
    "\n",
    "1 indicates a perfect positive monotonic relationship,\n",
    "\n",
    "-1 indicates a perfect negative monotonic relationship, and\n",
    "\n",
    "0 indicates no monotonic relationship."
   ]
  },
  {
   "cell_type": "code",
   "execution_count": 3,
   "id": "26b9f1ee",
   "metadata": {},
   "outputs": [
    {
     "name": "stdout",
     "output_type": "stream",
     "text": [
      "Spearman's rank correlation coefficient: 0.9746794344808963\n"
     ]
    }
   ],
   "source": [
    "import numpy as np\n",
    "from scipy.stats import spearmanr\n",
    "\n",
    "# Sample data\n",
    "sleep = [7, 8, 6, 5, 6]  # hours\n",
    "job_satisfaction = [8, 9, 6, 4, 7]  # scale of 1 to 10\n",
    "\n",
    "# Calculate Spearman's rank correlation coefficient\n",
    "spearman_corr, p_value = spearmanr(sleep, job_satisfaction)\n",
    "\n",
    "print(\"Spearman's rank correlation coefficient:\", spearman_corr)\n"
   ]
  },
  {
   "cell_type": "markdown",
   "id": "20fe39ed",
   "metadata": {},
   "source": [
    "# 3.\n"
   ]
  },
  {
   "cell_type": "code",
   "execution_count": 4,
   "id": "164ac456",
   "metadata": {},
   "outputs": [
    {
     "name": "stdout",
     "output_type": "stream",
     "text": [
      "Pearson correlation coefficient: -0.9492790134224176\n",
      "Spearman's rank correlation coefficient: -0.9536434422226882\n"
     ]
    }
   ],
   "source": [
    "# To calculate both the Pearson correlation coefficient and Spearman's rank correlation coefficient between the number of hours of exercise per week and body mass index (BMI) in a sample of adults, you can use Python libraries such as NumPy and SciPy\n",
    "\n",
    "import numpy as np\n",
    "from scipy.stats import pearsonr, spearmanr\n",
    "\n",
    "# Sample data\n",
    "hours_of_exercise = [3, 5, 2, 4, 6, 1, 5, 3, 2, 4,\n",
    "                     2, 5, 3, 1, 6, 4, 2, 5, 3, 1,\n",
    "                     4, 2, 5, 3, 1, 6, 4, 2, 5, 3,\n",
    "                     1, 4, 2, 5, 3, 1, 6, 4, 2, 5,\n",
    "                     3, 1, 4, 2, 5, 3, 1, 6, 4, 2]\n",
    "BMI = [22, 24, 28, 26, 21, 30, 23, 25, 29, 27,\n",
    "       28, 24, 26, 31, 20, 25, 28, 23, 26, 32,\n",
    "       24, 29, 22, 27, 31, 20, 26, 28, 23, 27,\n",
    "       30, 25, 29, 22, 27, 31, 20, 26, 28, 23,\n",
    "       27, 30, 25, 29, 22, 27, 31, 20, 26, 28]\n",
    "\n",
    "# Calculate Pearson correlation coefficient\n",
    "pearson_corr, _ = pearsonr(hours_of_exercise, BMI)\n",
    "\n",
    "# Calculate Spearman's rank correlation coefficient\n",
    "spearman_corr, _ = spearmanr(hours_of_exercise, BMI)\n",
    "\n",
    "print(\"Pearson correlation coefficient:\", pearson_corr)\n",
    "print(\"Spearman's rank correlation coefficient:\", spearman_corr)\n"
   ]
  },
  {
   "cell_type": "markdown",
   "id": "ca8666ab",
   "metadata": {},
   "source": [
    "# 4."
   ]
  },
  {
   "cell_type": "code",
   "execution_count": 5,
   "id": "7f8b39d1",
   "metadata": {},
   "outputs": [
    {
     "name": "stdout",
     "output_type": "stream",
     "text": [
      "Pearson correlation coefficient: -0.9858435728860862\n"
     ]
    }
   ],
   "source": [
    "import numpy as np\n",
    "from scipy.stats import pearsonr\n",
    "\n",
    "# Sample data\n",
    "hours_of_tv = [2, 3, 4, 1, 5, 2, 3, 4, 1, 6,\n",
    "               2, 3, 4, 1, 5, 2, 3, 4, 1, 6,\n",
    "               2, 3, 4, 1, 5, 2, 3, 4, 1, 6,\n",
    "               2, 3, 4, 1, 5, 2, 3, 4, 1, 6,\n",
    "               2, 3, 4, 1, 5, 2, 3, 4, 1, 6]\n",
    "physical_activity = [4, 3, 2, 5, 1, 4, 3, 2, 5, 1,\n",
    "                      4, 3, 2, 5, 1, 4, 3, 2, 5, 1,\n",
    "                      4, 3, 2, 5, 1, 4, 3, 2, 5, 1,\n",
    "                      4, 3, 2, 5, 1, 4, 3, 2, 5, 1,\n",
    "                      4, 3, 2, 5, 1, 4, 3, 2, 5, 1]\n",
    "\n",
    "# Calculate Pearson correlation coefficient\n",
    "pearson_corr, _ = pearsonr(hours_of_tv, physical_activity)\n",
    "\n",
    "print(\"Pearson correlation coefficient:\", pearson_corr)\n"
   ]
  },
  {
   "cell_type": "markdown",
   "id": "a3dd8318",
   "metadata": {},
   "source": [
    "# 5."
   ]
  },
  {
   "cell_type": "code",
   "execution_count": 6,
   "id": "6ed6120f",
   "metadata": {},
   "outputs": [
    {
     "name": "stdout",
     "output_type": "stream",
     "text": [
      "Pearson correlation coefficient: 0.9614767324693664\n"
     ]
    }
   ],
   "source": [
    "import numpy as np\n",
    "from scipy.stats import pearsonr\n",
    "\n",
    "# Sample data\n",
    "sales_calls_per_day = [20, 25, 18, 22, 30, 15, 28, 24, 19, 21,\n",
    "                       23, 27, 16, 29, 26, 17, 31, 14, 33, 22,\n",
    "                       25, 19, 20, 28, 24, 26, 21, 23, 18, 27]\n",
    "sales_per_week = [5, 6, 4, 7, 8, 3, 7, 6, 4, 5,\n",
    "                  6, 8, 3, 7, 7, 4, 9, 2, 10, 6,\n",
    "                  6, 4, 5, 8, 7, 7, 5, 6, 4, 8]\n",
    "\n",
    "# Calculate Pearson correlation coefficient\n",
    "pearson_corr, _ = pearsonr(sales_calls_per_day, sales_per_week)\n",
    "\n",
    "print(\"Pearson correlation coefficient:\", pearson_corr)\n"
   ]
  },
  {
   "cell_type": "code",
   "execution_count": null,
   "id": "67b00ba2",
   "metadata": {},
   "outputs": [],
   "source": []
  }
 ],
 "metadata": {
  "kernelspec": {
   "display_name": "Python 3 (ipykernel)",
   "language": "python",
   "name": "python3"
  },
  "language_info": {
   "codemirror_mode": {
    "name": "ipython",
    "version": 3
   },
   "file_extension": ".py",
   "mimetype": "text/x-python",
   "name": "python",
   "nbconvert_exporter": "python",
   "pygments_lexer": "ipython3",
   "version": "3.10.9"
  }
 },
 "nbformat": 4,
 "nbformat_minor": 5
}
