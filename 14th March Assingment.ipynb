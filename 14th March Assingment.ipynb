{
 "cells": [
  {
   "cell_type": "markdown",
   "id": "d4b9e592",
   "metadata": {},
   "source": [
    "# 1."
   ]
  },
  {
   "cell_type": "code",
   "execution_count": 1,
   "id": "16311a97",
   "metadata": {},
   "outputs": [
    {
     "name": "stdout",
     "output_type": "stream",
     "text": [
      "F-value: 4.0\n",
      "p-value: 0.10400000000000002\n"
     ]
    }
   ],
   "source": [
    "import numpy as np\n",
    "from scipy.stats import f\n",
    "\n",
    "def variance_ratio_test(data1, data2):\n",
    "    \n",
    "    # Calculate sample variances\n",
    "    var1 = np.var(data1, ddof=1)\n",
    "    var2 = np.var(data2, ddof=1)\n",
    "\n",
    "    # Ensure var1 is the larger variance\n",
    "    if var1 < var2:\n",
    "        var1, var2 = var2, var1\n",
    "        data1, data2 = data2, data1\n",
    "\n",
    "    # Calculate the F-value\n",
    "    F = var1 / var2\n",
    "\n",
    "    # Calculate degrees of freedom\n",
    "    df1 = len(data1) - 1\n",
    "    df2 = len(data2) - 1\n",
    "\n",
    "    # Calculate p-value\n",
    "    p_value = f.sf(F, df1, df2)  # survival function (1 - cumulative distribution function)\n",
    "\n",
    "    return F, p_value\n",
    "\n",
    "# Example usage:\n",
    "data_array1 = np.array([1, 2, 3, 4, 5])\n",
    "data_array2 = np.array([2, 4, 6, 8, 10])\n",
    "\n",
    "F_value, p_value = variance_ratio_test(data_array1, data_array2)\n",
    "print(\"F-value:\", F_value)\n",
    "print(\"p-value:\", p_value)\n"
   ]
  },
  {
   "cell_type": "markdown",
   "id": "3dc07f7c",
   "metadata": {},
   "source": [
    "# 2."
   ]
  },
  {
   "cell_type": "code",
   "execution_count": 2,
   "id": "243ea484",
   "metadata": {},
   "outputs": [
    {
     "name": "stdout",
     "output_type": "stream",
     "text": [
      "Critical F-value for a two-tailed test: 4.765048283888203\n"
     ]
    }
   ],
   "source": [
    "from scipy.stats import f\n",
    "\n",
    "def critical_f_value(alpha, df_num, df_denom):\n",
    "    \n",
    "    alpha_over_2 = alpha / 2  # For a two-tailed test, divide alpha by 2\n",
    "\n",
    "    # Calculate critical F-value using the percent point function (inverse survival function)\n",
    "    critical_f = f.ppf(1 - alpha_over_2, df_num, df_denom)\n",
    "\n",
    "    return critical_f\n",
    "\n",
    "# Example usage:\n",
    "alpha = 0.05\n",
    "df_num = 2\n",
    "df_denom = 15\n",
    "\n",
    "critical_f = critical_f_value(alpha, df_num, df_denom)\n",
    "print(f\"Critical F-value for a two-tailed test: {critical_f}\")\n"
   ]
  },
  {
   "cell_type": "markdown",
   "id": "9d65991e",
   "metadata": {},
   "source": [
    "# 3."
   ]
  },
  {
   "cell_type": "code",
   "execution_count": 3,
   "id": "ef0f7939",
   "metadata": {},
   "outputs": [
    {
     "name": "stdout",
     "output_type": "stream",
     "text": [
      "F-value: 1.3500147836679344\n",
      "Degrees of Freedom (Numerator): 29\n",
      "Degrees of Freedom (Denominator): 29\n",
      "p-value: 0.21195151975599444\n"
     ]
    }
   ],
   "source": [
    "import numpy as np\n",
    "from scipy.stats import f\n",
    "\n",
    "def perform_f_test(sample_size1, sample_size2, variance1, variance2):\n",
    "   \n",
    "    # Generate random samples\n",
    "    sample1 = np.random.normal(0, np.sqrt(variance1), sample_size1)\n",
    "    sample2 = np.random.normal(0, np.sqrt(variance2), sample_size2)\n",
    "\n",
    "    # Calculate sample variances\n",
    "    sample_var1 = np.var(sample1, ddof=1)\n",
    "    sample_var2 = np.var(sample2, ddof=1)\n",
    "\n",
    "    # Ensure var1 is the larger variance\n",
    "    if sample_var1 < sample_var2:\n",
    "        sample_var1, sample_var2 = sample_var2, sample_var1\n",
    "        sample_size1, sample_size2 = sample_size2, sample_size1\n",
    "\n",
    "    # Calculate the F-value\n",
    "    F_value = sample_var1 / sample_var2\n",
    "\n",
    "    # Degrees of freedom\n",
    "    df_num = sample_size1 - 1\n",
    "    df_denom = sample_size2 - 1\n",
    "\n",
    "    # Calculate p-value\n",
    "    p_value = f.sf(F_value, df_num, df_denom)  # survival function (1 - cumulative distribution function)\n",
    "\n",
    "    return F_value, df_num, df_denom, p_value\n",
    "\n",
    "# Example usage:\n",
    "sample_size1 = 30\n",
    "sample_size2 = 30\n",
    "known_variance1 = 25\n",
    "known_variance2 = 20\n",
    "\n",
    "F_value, df_num, df_denom, p_value = perform_f_test(sample_size1, sample_size2, known_variance1, known_variance2)\n",
    "\n",
    "print(\"F-value:\", F_value)\n",
    "print(\"Degrees of Freedom (Numerator):\", df_num)\n",
    "print(\"Degrees of Freedom (Denominator):\", df_denom)\n",
    "print(\"p-value:\", p_value)\n"
   ]
  },
  {
   "cell_type": "markdown",
   "id": "cffafe47",
   "metadata": {},
   "source": [
    "# 4."
   ]
  },
  {
   "cell_type": "code",
   "execution_count": 4,
   "id": "290bd2ac",
   "metadata": {},
   "outputs": [
    {
     "name": "stdout",
     "output_type": "stream",
     "text": [
      "F-value: 0.6666666666666666\n",
      "Degrees of Freedom (Numerator): 11\n",
      "Degrees of Freedom (Denominator): 11\n",
      "p-value: 0.7438051006321003\n",
      "Fail to reject the null hypothesis. No significant difference in variances.\n"
     ]
    }
   ],
   "source": [
    "import numpy as np\n",
    "from scipy.stats import f\n",
    "\n",
    "def perform_f_test(sample_size1, sample_size2, variance1, variance2, alpha):\n",
    "    \n",
    "    # Calculate the F-value\n",
    "    F_value = variance1 / variance2\n",
    "\n",
    "    # Degrees of freedom\n",
    "    df_num = sample_size1 - 1\n",
    "    df_denom = sample_size2 - 1\n",
    "\n",
    "    # Calculate p-value\n",
    "    p_value = f.sf(F_value, df_num, df_denom)\n",
    "\n",
    "    # Compare p-value with significance level\n",
    "    reject_null_hypothesis = p_value < alpha\n",
    "\n",
    "    return F_value, df_num, df_denom, p_value, reject_null_hypothesis\n",
    "\n",
    "# Given data\n",
    "sample_size1 = 12\n",
    "sample_size2 = 12\n",
    "known_variance1 = 10\n",
    "known_variance2 = 15\n",
    "alpha = 0.05\n",
    "\n",
    "# Perform F-test\n",
    "F_value, df_num, df_denom, p_value, reject_null_hypothesis = perform_f_test(\n",
    "    sample_size1, sample_size2, known_variance1, known_variance2, alpha\n",
    ")\n",
    "\n",
    "# Print the results\n",
    "print(\"F-value:\", F_value)\n",
    "print(\"Degrees of Freedom (Numerator):\", df_num)\n",
    "print(\"Degrees of Freedom (Denominator):\", df_denom)\n",
    "print(\"p-value:\", p_value)\n",
    "\n",
    "if reject_null_hypothesis:\n",
    "    print(\"Reject the null hypothesis. Variances are significantly different.\")\n",
    "else:\n",
    "    print(\"Fail to reject the null hypothesis. No significant difference in variances.\")\n"
   ]
  },
  {
   "cell_type": "markdown",
   "id": "381a773f",
   "metadata": {},
   "source": [
    "# 5."
   ]
  },
  {
   "cell_type": "code",
   "execution_count": 5,
   "id": "60cdefca",
   "metadata": {},
   "outputs": [
    {
     "name": "stdout",
     "output_type": "stream",
     "text": [
      "F-value: 1.2\n",
      "Degrees of Freedom (Numerator): 24\n",
      "Degrees of Freedom (Denominator): 1\n",
      "p-value: 1.2592199239918715\n",
      "Fail to reject the null hypothesis. The claimed variance is justified.\n"
     ]
    }
   ],
   "source": [
    "import scipy.stats as stats\n",
    "\n",
    "def perform_f_test(claimed_variance, sample_variance, sample_size, alpha):\n",
    "   \n",
    "    # Calculate the F-value\n",
    "    F_value = sample_variance / claimed_variance\n",
    "\n",
    "    # Degrees of freedom\n",
    "    df_num = sample_size - 1\n",
    "    df_denom = 1  # Degrees of freedom for the denominator\n",
    "\n",
    "    # Calculate p-value\n",
    "    p_value = 2 * (1 - stats.f.cdf(F_value, df_num, df_denom))\n",
    "\n",
    "    # Compare p-value with significance level\n",
    "    reject_null_hypothesis = p_value < alpha\n",
    "\n",
    "    return F_value, df_num, df_denom, p_value, reject_null_hypothesis\n",
    "\n",
    "# Given data\n",
    "claimed_variance = 0.005\n",
    "sample_variance = 0.006\n",
    "sample_size = 25\n",
    "alpha = 0.01  # 1% significance level\n",
    "\n",
    "# Perform F-test\n",
    "F_value, df_num, df_denom, p_value, reject_null_hypothesis = perform_f_test(\n",
    "    claimed_variance, sample_variance, sample_size, alpha\n",
    ")\n",
    "\n",
    "# Print the results\n",
    "print(\"F-value:\", F_value)\n",
    "print(\"Degrees of Freedom (Numerator):\", df_num)\n",
    "print(\"Degrees of Freedom (Denominator):\", df_denom)\n",
    "print(\"p-value:\", p_value)\n",
    "\n",
    "if reject_null_hypothesis:\n",
    "    print(\"Reject the null hypothesis. The claimed variance is not justified.\")\n",
    "else:\n",
    "    print(\"Fail to reject the null hypothesis. The claimed variance is justified.\")\n"
   ]
  },
  {
   "cell_type": "markdown",
   "id": "bf9ad865",
   "metadata": {},
   "source": [
    "# 6."
   ]
  },
  {
   "cell_type": "code",
   "execution_count": 8,
   "id": "c3d27308",
   "metadata": {},
   "outputs": [
    {
     "name": "stdout",
     "output_type": "stream",
     "text": [
      "Mean: 1.25\n",
      "Variance: 1.3541666666666667\n"
     ]
    }
   ],
   "source": [
    "def f_distribution_mean_variance(df_num, df_denom):\n",
    "    \n",
    "    if df_num <= 0 or df_denom <= 0:\n",
    "        raise ValueError(\"Degrees of freedom must be greater than 0.\")\n",
    "\n",
    "    # Mean of the F-distribution\n",
    "    mean = df_denom / (df_denom - 2) if df_denom > 2 else None\n",
    "\n",
    "    # Variance of the F-distribution\n",
    "    if df_denom > 4:\n",
    "        variance = (2 * (df_denom ** 2) * (df_num + df_denom - 2)) / (df_num * (df_denom - 2) ** 2 * (df_denom - 4))\n",
    "    else:\n",
    "        variance = None\n",
    "\n",
    "    return mean, variance\n",
    "\n",
    "# Example usage:\n",
    "df_num = 5\n",
    "df_denom = 10\n",
    "\n",
    "mean, variance = f_distribution_mean_variance(df_num, df_denom)\n",
    "\n",
    "print(\"Mean:\", mean)\n",
    "print(\"Variance:\", variance)\n"
   ]
  },
  {
   "cell_type": "markdown",
   "id": "44b7a501",
   "metadata": {},
   "source": [
    "# 7."
   ]
  },
  {
   "cell_type": "code",
   "execution_count": 9,
   "id": "e3132e6f",
   "metadata": {},
   "outputs": [
    {
     "name": "stdout",
     "output_type": "stream",
     "text": [
      "F-value: 1.25\n",
      "Degrees of Freedom (Numerator): 9\n",
      "Degrees of Freedom (Denominator): 14\n",
      "p-value: 0.6832194382585954\n",
      "Fail to reject the null hypothesis. No significant difference in variances.\n"
     ]
    }
   ],
   "source": [
    "import scipy.stats as stats\n",
    "\n",
    "def perform_f_test(sample_var1, sample_size1, sample_var2, sample_size2, alpha):\n",
    "   \n",
    "    # Calculate the F-value\n",
    "    F_value = sample_var1 / sample_var2\n",
    "\n",
    "    # Degrees of freedom\n",
    "    df_num = sample_size1 - 1\n",
    "    df_denom = sample_size2 - 1\n",
    "\n",
    "    # Calculate p-value\n",
    "    p_value = 2 * (1 - stats.f.cdf(F_value, df_num, df_denom))\n",
    "\n",
    "    # Compare p-value with significance level\n",
    "    reject_null_hypothesis = p_value < alpha\n",
    "\n",
    "    return F_value, df_num, df_denom, p_value, reject_null_hypothesis\n",
    "\n",
    "# Given data\n",
    "sample_var1 = 25\n",
    "sample_size1 = 10\n",
    "sample_var2 = 20\n",
    "sample_size2 = 15\n",
    "alpha = 0.10  # 10% significance level\n",
    "\n",
    "# Perform F-test\n",
    "F_value, df_num, df_denom, p_value, reject_null_hypothesis = perform_f_test(\n",
    "    sample_var1, sample_size1, sample_var2, sample_size2, alpha\n",
    ")\n",
    "\n",
    "# Print the results\n",
    "print(\"F-value:\", F_value)\n",
    "print(\"Degrees of Freedom (Numerator):\", df_num)\n",
    "print(\"Degrees of Freedom (Denominator):\", df_denom)\n",
    "print(\"p-value:\", p_value)\n",
    "\n",
    "if reject_null_hypothesis:\n",
    "    print(\"Reject the null hypothesis. The variances are significantly different.\")\n",
    "else:\n",
    "    print(\"Fail to reject the null hypothesis. No significant difference in variances.\")\n"
   ]
  },
  {
   "cell_type": "markdown",
   "id": "20e82c43",
   "metadata": {},
   "source": [
    "# 8."
   ]
  },
  {
   "cell_type": "code",
   "execution_count": 11,
   "id": "2e32e4fb",
   "metadata": {},
   "outputs": [
    {
     "name": "stdout",
     "output_type": "stream",
     "text": [
      "F-value: 1.4551907719609583\n",
      "Degrees of Freedom (Numerator): 6\n",
      "Degrees of Freedom (Denominator): 5\n",
      "p-value: 0.6974815747937484\n",
      "Fail to reject the null hypothesis. No significant difference in variances.\n"
     ]
    }
   ],
   "source": [
    "import numpy as np\n",
    "import scipy.stats as stats\n",
    "\n",
    "def perform_f_test(sample1, sample2, alpha):\n",
    "    \n",
    "    # Calculate sample variances\n",
    "    var1 = np.var(sample1, ddof=1)\n",
    "    var2 = np.var(sample2, ddof=1)\n",
    "\n",
    "    # Ensure var1 is the larger variance\n",
    "    if var1 < var2:\n",
    "        var1, var2 = var2, var1\n",
    "        sample1, sample2 = sample2, sample1\n",
    "\n",
    "    # Calculate the F-value\n",
    "    F_value = var1 / var2\n",
    "\n",
    "    # Degrees of freedom\n",
    "    df_num = len(sample1) - 1\n",
    "    df_denom = len(sample2) - 1\n",
    "\n",
    "    # Calculate p-value\n",
    "    p_value = 2 * (1 - stats.f.cdf(F_value, df_num, df_denom))\n",
    "\n",
    "    # Compare p-value with significance level\n",
    "    reject_null_hypothesis = p_value < alpha\n",
    "\n",
    "    return F_value, df_num, df_denom, p_value, reject_null_hypothesis\n",
    "\n",
    "# Given data\n",
    "restaurant_A = np.array([24, 25, 28, 23, 22, 20, 27])\n",
    "restaurant_B = np.array([31, 33, 35, 30, 32, 36])\n",
    "alpha = 0.05  # 5% significance level\n",
    "\n",
    "# Perform F-test\n",
    "F_value, df_num, df_denom, p_value, reject_null_hypothesis = perform_f_test(\n",
    "    restaurant_A, restaurant_B, alpha\n",
    ")\n",
    "\n",
    "# Print the results\n",
    "print(\"F-value:\", F_value)\n",
    "print(\"Degrees of Freedom (Numerator):\", df_num)\n",
    "print(\"Degrees of Freedom (Denominator):\", df_denom)\n",
    "print(\"p-value:\", p_value)\n",
    "\n",
    "if reject_null_hypothesis:\n",
    "    print(\"Reject the null hypothesis. The variances are significantly different.\")\n",
    "else:\n",
    "    print(\"Fail to reject the null hypothesis. No significant difference in variances.\")\n"
   ]
  },
  {
   "cell_type": "markdown",
   "id": "e840a49f",
   "metadata": {},
   "source": [
    "# 9."
   ]
  },
  {
   "cell_type": "code",
   "execution_count": 12,
   "id": "eb44687d",
   "metadata": {},
   "outputs": [
    {
     "name": "stdout",
     "output_type": "stream",
     "text": [
      "F-value: 1.9442622950819677\n",
      "Degrees of Freedom (Numerator): 5\n",
      "Degrees of Freedom (Denominator): 5\n",
      "p-value: 0.4831043549070688\n",
      "Fail to reject the null hypothesis. No significant difference in variances.\n"
     ]
    }
   ],
   "source": [
    "import numpy as np\n",
    "import scipy.stats as stats\n",
    "\n",
    "def perform_f_test(group_A, group_B, alpha):\n",
    "    \n",
    "    # Calculate sample variances\n",
    "    var_A = np.var(group_A, ddof=1)\n",
    "    var_B = np.var(group_B, ddof=1)\n",
    "\n",
    "    # Ensure var_A is the larger variance\n",
    "    if var_A < var_B:\n",
    "        var_A, var_B = var_B, var_A\n",
    "        group_A, group_B = group_B, group_A\n",
    "\n",
    "    # Calculate the F-value\n",
    "    F_value = var_A / var_B\n",
    "\n",
    "    # Degrees of freedom\n",
    "    df_num = len(group_A) - 1\n",
    "    df_denom = len(group_B) - 1\n",
    "\n",
    "    # Calculate p-value\n",
    "    p_value = 2 * (1 - stats.f.cdf(F_value, df_num, df_denom))\n",
    "\n",
    "    # Compare p-value with significance level\n",
    "    reject_null_hypothesis = p_value < alpha\n",
    "\n",
    "    return F_value, df_num, df_denom, p_value, reject_null_hypothesis\n",
    "\n",
    "# Given data\n",
    "group_A = np.array([80, 85, 90, 92, 87, 83])\n",
    "group_B = np.array([75, 78, 82, 79, 81, 84])\n",
    "alpha = 0.01  # 1% significance level\n",
    "\n",
    "# Perform F-test\n",
    "F_value, df_num, df_denom, p_value, reject_null_hypothesis = perform_f_test(\n",
    "    group_A, group_B, alpha\n",
    ")\n",
    "\n",
    "# Print the results\n",
    "print(\"F-value:\", F_value)\n",
    "print(\"Degrees of Freedom (Numerator):\", df_num)\n",
    "print(\"Degrees of Freedom (Denominator):\", df_denom)\n",
    "print(\"p-value:\", p_value)\n",
    "\n",
    "if reject_null_hypothesis:\n",
    "    print(\"Reject the null hypothesis. The variances are significantly different.\")\n",
    "else:\n",
    "    print(\"Fail to reject the null hypothesis. No significant difference in variances.\")\n"
   ]
  },
  {
   "cell_type": "code",
   "execution_count": null,
   "id": "4c68e044",
   "metadata": {},
   "outputs": [],
   "source": []
  }
 ],
 "metadata": {
  "kernelspec": {
   "display_name": "Python 3 (ipykernel)",
   "language": "python",
   "name": "python3"
  },
  "language_info": {
   "codemirror_mode": {
    "name": "ipython",
    "version": 3
   },
   "file_extension": ".py",
   "mimetype": "text/x-python",
   "name": "python",
   "nbconvert_exporter": "python",
   "pygments_lexer": "ipython3",
   "version": "3.10.9"
  }
 },
 "nbformat": 4,
 "nbformat_minor": 5
}
