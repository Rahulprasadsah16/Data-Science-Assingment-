{
 "cells": [
  {
   "cell_type": "markdown",
   "id": "7bfb54b9",
   "metadata": {},
   "source": [
    "# 1."
   ]
  },
  {
   "cell_type": "markdown",
   "id": "8df80627",
   "metadata": {},
   "source": [
    "Estimation statistics involves the use of sample data to make inferences about population parameters. There are two main types of estimates: point estimates and interval estimates.\n",
    "\n",
    "Point Estimate:\n",
    "\n",
    "A point estimate is a single numerical value that is used to approximate the true, unknown value of a population parameter.\n",
    "It is based on sample data and provides a specific estimate of the parameter.\n",
    "For example, if you want to estimate the average height of all students in a school, the sample mean height would be a point estimate of the population mean height.\n",
    "Interval Estimate:\n",
    "\n",
    "An interval estimate, on the other hand, is a range of values within which the true population parameter is expected to lie.\n",
    "It provides a measure of the uncertainty associated with the point estimate.\n",
    "The most common form of interval estimate is the confidence interval.\n",
    "For example, if you calculate a 95% confidence interval for the average height of students, it might be expressed as \"The true average height of all students is between X inches and Y inches with 95% confidence.\"\n",
    "Confidence Interval:\n",
    "\n",
    "A confidence interval is a range of values constructed from sample data that is likely to contain the true population parameter with a certain level of confidence (e.g., 95% confidence).\n",
    "It is expressed as an interval estimate with an associated confidence level.\n",
    "The width of the interval is influenced by factors such as sample size and variability in the data."
   ]
  },
  {
   "cell_type": "markdown",
   "id": "3a021566",
   "metadata": {},
   "source": [
    "# 2."
   ]
  },
  {
   "cell_type": "code",
   "execution_count": 1,
   "id": "707bdcfb",
   "metadata": {},
   "outputs": [
    {
     "name": "stdout",
     "output_type": "stream",
     "text": [
      "Confidence Interval: (23.99707691927759, 27.00292308072241) with 95.0% confidence\n"
     ]
    }
   ],
   "source": [
    "import scipy.stats as stats\n",
    "\n",
    "def estimate_population_mean(sample_mean, sample_std, sample_size, confidence_level=0.95):\n",
    "    \n",
    "    # Calculate the standard error of the mean\n",
    "    standard_error = sample_std / (sample_size ** 0.5)\n",
    "\n",
    "    # Calculate the margin of error using the z-score\n",
    "    z_score = stats.norm.ppf((1 + confidence_level) / 2)\n",
    "    margin_of_error = z_score * standard_error\n",
    "\n",
    "    # Calculate the confidence interval\n",
    "    lower_bound = sample_mean - margin_of_error\n",
    "    upper_bound = sample_mean + margin_of_error\n",
    "\n",
    "    return lower_bound, upper_bound\n",
    "\n",
    "# Example usage:\n",
    "sample_mean = 25.5\n",
    "sample_std = 4.2\n",
    "sample_size = 30\n",
    "confidence_level = 0.95\n",
    "\n",
    "confidence_interval = estimate_population_mean(sample_mean, sample_std, sample_size, confidence_level)\n",
    "print(f\"Confidence Interval: {confidence_interval} with {confidence_level * 100}% confidence\")\n"
   ]
  },
  {
   "cell_type": "markdown",
   "id": "7474d925",
   "metadata": {},
   "source": [
    "# 3."
   ]
  },
  {
   "cell_type": "markdown",
   "id": "8201eba7",
   "metadata": {},
   "source": [
    "Hypothesis testing is a statistical method used to make inferences or draw conclusions about a population parameter based on a sample of data. It involves formulating two competing hypotheses, a null hypothesis (H 0 ) and an alternative hypothesis (H1 or H a ), and then using sample data to determine whether there is enough evidence to reject the null hypothesis in favor of the alternative hypothesis.\n",
    "\n",
    "Here are the key steps in hypothesis testing:\n",
    "\n",
    "Formulate Hypotheses:\n",
    "\n",
    "Null Hypothesis (H 0): \n",
    "Represents a statement of no effect or no difference.\n",
    "\n",
    "Alternative Hypothesis (H 1 or H a): Represents a statement of an effect or a difference.\n",
    "    \n",
    "Collect Data:\n",
    "Gather data through observations, experiments, or surveys.\n",
    "\n",
    "Conduct Statistical Analysis:\n",
    "Use statistical methods to analyze the data and calculate a test statistic.\n",
    "\n",
    "Make a Decision:\n",
    "Compare the test statistic to a critical value or calculate a p-value to determine whether to reject the null hypothesis.\n",
    "\n",
    "Draw a Conclusion:\n",
    "Based on the analysis, either reject the null hypothesis in favor of the alternative hypothesis or fail to reject the null hypothesis.\n",
    "\n",
    "Importance of Hypothesis Testing:\n",
    "\n",
    "Inference:\n",
    "\n",
    "Hypothesis testing allows researchers to make inferences about population parameters based on sample data. It helps answer questions about the generalizability of findings beyond the sample.\n",
    "Decision Making:\n",
    "\n",
    "It provides a systematic way to make decisions in various fields, such as medicine, business, and social sciences. For example, it can be used to determine the effectiveness of a new drug, the impact of a marketing strategy, or the correlation between variables.\n",
    "\n",
    "Scientific Method:\n",
    "\n",
    "Hypothesis testing is an integral part of the scientific method. It helps researchers test specific hypotheses and theories, contributing to the advancement of scientific knowledge.\n",
    "\n",
    "Quality Control:\n",
    "\n",
    "In manufacturing and quality control, hypothesis testing is used to ensure that products meet specified standards. It helps identify deviations from desired quality levels.\n",
    "\n",
    "Risk Management:\n",
    "\n",
    "It provides a framework for assessing and managing risks. By testing hypotheses, decision-makers can evaluate the potential consequences of actions or policies.\n",
    "\n",
    "Policy Evaluation:\n",
    "\n",
    "Governments and organizations use hypothesis testing to evaluate the effectiveness of policies and interventions. It informs evidence-based decision-making.\n",
    "\n",
    "Statistical Significance:\n",
    "\n",
    "Hypothesis testing helps determine whether observed differences or effects are statistically significant. Statistical significance indicates whether the results are likely to be due to chance."
   ]
  },
  {
   "cell_type": "markdown",
   "id": "203d5974",
   "metadata": {},
   "source": [
    "# 4."
   ]
  },
  {
   "cell_type": "markdown",
   "id": "f11226a3",
   "metadata": {},
   "source": [
    " Let's formulate the null hypothesis (H0) and the alternative hypothesis (H1) for testing whether the average weight of male college students is greater than the average weight of female college students.\n",
    " \n",
    " Null Hypothesis (H0):\n",
    " \n",
    " The null hypothesis states that there is no significant difference in the average weight between male and female college students. It implies that the average weight of male college students is either less than or equal to the average weight of female college students.\n",
    " \n",
    " Alternative Hypothesis (H1):\n",
    " \n",
    " The alternative hypothesis, in this case, suggests that the average weight of male college students is greater than the average weight of female college students. It is the statement we aim to provide evidence for based on our sample data.\n",
    " \n",
    " "
   ]
  },
  {
   "cell_type": "markdown",
   "id": "b12693fe",
   "metadata": {},
   "source": [
    "# 5."
   ]
  },
  {
   "cell_type": "code",
   "execution_count": 2,
   "id": "9e8ed005",
   "metadata": {},
   "outputs": [
    {
     "name": "stdout",
     "output_type": "stream",
     "text": [
      "Two-Sample T-Test Result:\n",
      "T-Statistic: 4.946342068887718\n",
      "P-Value: 0.00010428851964163891\n",
      "Significance Level (alpha): 0.05\n",
      "Reject the null hypothesis\n"
     ]
    }
   ],
   "source": [
    "import scipy.stats as stats\n",
    "\n",
    "def two_sample_t_test(sample1, sample2, alpha=0.05):\n",
    "    \n",
    "    # Perform two-sample t-test\n",
    "    t_stat, p_value = stats.ttest_ind(sample1, sample2)\n",
    "\n",
    "    # Compare p-value to the significance level\n",
    "    if p_value < alpha:\n",
    "        conclusion = \"Reject the null hypothesis\"\n",
    "    else:\n",
    "        conclusion = \"Fail to reject the null hypothesis\"\n",
    "\n",
    "    result = {\n",
    "        't_statistic': t_stat,\n",
    "        'p_value': p_value,\n",
    "        'alpha': alpha,\n",
    "        'conclusion': conclusion\n",
    "    }\n",
    "\n",
    "    return result\n",
    "\n",
    "# Example usage:\n",
    "# Replace sample1 and sample2 with your actual sample data\n",
    "sample1 = [65, 68, 72, 73, 70, 71, 74, 76, 78, 75]\n",
    "sample2 = [60, 62, 65, 68, 63, 66, 67, 64, 69, 61]\n",
    "\n",
    "# Perform two-sample t-test\n",
    "result = two_sample_t_test(sample1, sample2)\n",
    "\n",
    "# Display the result\n",
    "print(\"Two-Sample T-Test Result:\")\n",
    "print(f\"T-Statistic: {result['t_statistic']}\")\n",
    "print(f\"P-Value: {result['p_value']}\")\n",
    "print(f\"Significance Level (alpha): {result['alpha']}\")\n",
    "print(result['conclusion'])\n"
   ]
  },
  {
   "cell_type": "markdown",
   "id": "98ed0fc3",
   "metadata": {},
   "source": [
    "# 6."
   ]
  },
  {
   "cell_type": "markdown",
   "id": "f9d52bf3",
   "metadata": {},
   "source": [
    "Null Hypothesis (H0) :\n",
    "    \n",
    "The null hypothesis is a statement of no effect, no difference, or no relationship.\n",
    "It is often formulated to represent a baseline or default assumption.\n",
    "Denoted by (H0)\n",
    "\n",
    "Example:\n",
    "\n",
    "If you are testing a new drug's effectiveness, the null hypothesis might state that there is no difference in the mean recovery time between patients treated with the new drug and those treated with a placebo.\n",
    "\n",
    "Alternative Hypothesis (H1 or Ha) :\n",
    "    \n",
    "The alternative hypothesis is a statement that contradicts the null hypothesis.\n",
    "It represents the researcher's claim or the presence of an effect, difference, or relationship.\n",
    "Denoted by (H1 or Ha)\n",
    "\n",
    "Example:\n",
    "\n",
    "For the drug effectiveness example, the alternative hypothesis might state that there is a significant difference in mean recovery time between the two groups.\n",
    "\n"
   ]
  },
  {
   "cell_type": "markdown",
   "id": "a8eb0fd5",
   "metadata": {},
   "source": [
    "# 7."
   ]
  },
  {
   "cell_type": "markdown",
   "id": "06ca6edb",
   "metadata": {},
   "source": [
    "Hypothesis testing involves several steps, and here is a general outline of the process:\n",
    "    \n",
    "Formulate the Hypotheses:\n",
    "\n",
    "Null Hypothesis (H0):  States a default assumption or no effect.\n",
    "Alternative Hypothesis (H1 or Ha): States the researcher's claim or the presence of an effect.\n",
    "    \n",
    "Select the Significance Level (α) :\n",
    "Choose the level of significance, denoted by α, which represents the probability of making a Type I error (rejecting a true null hypothesis).\n",
    "Common choices for α include 0.05, 0.01, or 0.10.\n",
    "\n",
    "Collect and Analyze Data:\n",
    "\n",
    "Gather sample data through experiments, surveys, or observations.\n",
    "Use statistical methods to analyze the data and calculate relevant statistics (e.g., sample mean, standard deviation).\n",
    "Choose the Appropriate Test:\n",
    "\n",
    "Select the appropriate statistical test based on the type of data and the hypothesis being tested (e.g., t-test, chi-square test, ANOVA).\n",
    "Calculate the Test Statistic:\n",
    "\n",
    "Calculate the test statistic using the sample data and the chosen statistical test.\n",
    "The test statistic helps assess the likelihood of observing the results under the null hypothesis.\n",
    "Determine the Critical Region or P-Value:\n",
    "\n",
    "For a significance level α, determine the critical region(s) of the distribution or calculate the p-value.\n",
    "The critical region is the set of values that would lead to the rejection of the null hypothesis.\n",
    "Make a Decision:\n",
    "\n",
    "If the test statistic falls in the critical region, reject the null hypothesis.\n",
    "If the p-value is less than or equal to α, reject the null hypothesis.\n",
    "Otherwise, fail to reject the null hypothesis.\n",
    "Draw a Conclusion:\n",
    "\n",
    "Interpret the results in the context of the research question and the hypotheses.\n",
    "State whether there is enough evidence to support the alternative hypothesis or if there is insufficient evidence to reject the null hypothesis.\n",
    "\n",
    "Report the Results:\n",
    "\n",
    "Clearly communicate the findings, including the test statistic, p-value, and the decision made regarding the null hypothesis.\n",
    "Provide context and practical implications of the results.\n",
    "\n",
    "Consider Limitations and Assumptions:\n",
    "\n",
    "Be aware of any assumptions made during the analysis and consider their impact on the results.\n",
    "Acknowledge any limitations of the study.\n",
    "\n",
    "Repeat if Necessary:\n",
    "\n",
    "In some cases, it may be necessary to refine the hypothesis, collect additional data, or use different analysis methods and repeat the process. "
   ]
  },
  {
   "cell_type": "markdown",
   "id": "438e5b05",
   "metadata": {},
   "source": [
    "# 8."
   ]
  },
  {
   "cell_type": "markdown",
   "id": "124c4b73",
   "metadata": {},
   "source": [
    "The p-value, or probability value, is a crucial concept in hypothesis testing. It quantifies the evidence against the null hypothesis and helps determine whether to reject the null hypothesis in favor of the alternative hypothesis. The p-value represents the probability of obtaining test results as extreme as, or more extreme than, the observed results, under the assumption that the null hypothesis is true.\n",
    "\n",
    "Here are key points about the p-value and its significance in hypothesis testing:\n",
    "\n",
    "Interpretation of the P-Value:\n",
    "\n",
    "A small p-value (typically less than the chosen significance level, α suggests strong evidence against the null hypothesis.\n",
    "A large p-value suggests weak evidence against the null hypothesis.\n",
    "\n",
    "Decision Rule:\n",
    "\n",
    "If the p-value is less than or equal to the chosen significance level (α), the null hypothesis is rejected.\n",
    "If the p-value is greater than α, the null hypothesis is not rejected.\n",
    "Significance Level (α):\n",
    "\n",
    "The significance level (α) is predetermined by the researcher and represents the probability of making a Type I error (rejecting a true null hypothesis).\n",
    "Common choices for α include 0.05, 0.01, or 0.10.\n",
    "Two-Tailed and One-Tailed Tests:\n",
    "\n",
    "In a two-tailed test, the p-value accounts for extreme results in both tails of the distribution.\n",
    "In a one-tailed test, the p-value considers extreme results in only one tail (either the left or right side of the distribution).\n",
    "Small P-Value Interpretation:\n",
    "\n",
    "If the p-value is small, it suggests that the observed data is unlikely to have occurred by random chance alone.\n",
    "This leads to the rejection of the null hypothesis in favor of the alternative hypothesis.\n",
    "Large P-Value Interpretation:\n",
    "\n",
    "If the p-value is large, it indicates that the observed data is consistent with the null hypothesis.\n",
    "There is insufficient evidence to reject the null hypothesis.\n",
    "Effect Size and Practical Significance:\n",
    "\n",
    "While a small p-value indicates statistical significance, researchers should also consider the effect size and practical significance of the results.\n",
    "A statistically significant result may not always be practically significant.\n",
    "Continuous Scale:\n",
    "\n",
    "The p-value is on a continuous scale between 0 and 1, with smaller values indicating stronger evidence against the null hypothesis."
   ]
  },
  {
   "cell_type": "markdown",
   "id": "c4b34ed9",
   "metadata": {},
   "source": [
    "# 9."
   ]
  },
  {
   "cell_type": "code",
   "execution_count": 4,
   "id": "cefea712",
   "metadata": {},
   "outputs": [
    {
     "data": {
      "image/png": "[encoded data removed]",
      "text/plain": [
       "<Figure size 640x480 with 1 Axes>"
      ]
     },
     "metadata": {},
     "output_type": "display_data"
    }
   ],
   "source": [
    "import numpy as np\n",
    "import matplotlib.pyplot as plt\n",
    "import scipy.stats as stats\n",
    "\n",
    "# Set the degrees of freedom\n",
    "degrees_of_freedom = 10\n",
    "\n",
    "# Generate x values\n",
    "x_values = np.linspace(-3, 3, 1000)\n",
    "\n",
    "# Calculate the probability density function (pdf) for the t-distribution\n",
    "pdf_values = stats.t.pdf(x_values, df=degrees_of_freedom)\n",
    "\n",
    "# Plot the t-distribution\n",
    "plt.plot(x_values, pdf_values, label=f\"Degrees of Freedom = {degrees_of_freedom}\")\n",
    "plt.title(\"Student's t-Distribution\")\n",
    "plt.xlabel(\"x\")\n",
    "plt.ylabel(\"Probability Density Function (PDF)\")\n",
    "plt.legend()\n",
    "plt.grid(True)\n",
    "plt.show()\n"
   ]
  },
  {
   "cell_type": "markdown",
   "id": "a73c9546",
   "metadata": {},
   "source": [
    "# 10."
   ]
  },
  {
   "cell_type": "code",
   "execution_count": 5,
   "id": "76e52f22",
   "metadata": {},
   "outputs": [
    {
     "name": "stdout",
     "output_type": "stream",
     "text": [
      "Two-Sample T-Test Results:\n",
      "T-Statistic: -2.3981151520102473\n",
      "P-Value: 0.01971794186575796\n",
      "Reject the null hypothesis. There is evidence of a significant difference.\n"
     ]
    }
   ],
   "source": [
    "import numpy as np\n",
    "import scipy.stats as stats\n",
    "\n",
    "def two_sample_t_test(sample1, sample2):\n",
    "    \n",
    "    t_statistic, p_value = stats.ttest_ind(sample1, sample2)\n",
    "    return t_statistic, p_value\n",
    "\n",
    "# Example usage:\n",
    "# Generate two random samples of equal size\n",
    "np.random.seed(42)  # For reproducibility\n",
    "sample_size = 30\n",
    "sample1 = np.random.normal(loc=5, scale=2, size=sample_size)\n",
    "sample2 = np.random.normal(loc=6, scale=2, size=sample_size)\n",
    "\n",
    "# Perform two-sample t-test\n",
    "t_statistic, p_value = two_sample_t_test(sample1, sample2)\n",
    "\n",
    "# Display the results\n",
    "print(\"Two-Sample T-Test Results:\")\n",
    "print(f\"T-Statistic: {t_statistic}\")\n",
    "print(f\"P-Value: {p_value}\")\n",
    "\n",
    "# Interpret the results\n",
    "alpha = 0.05\n",
    "if p_value < alpha:\n",
    "    print(\"Reject the null hypothesis. There is evidence of a significant difference.\")\n",
    "else:\n",
    "    print(\"Fail to reject the null hypothesis. There is insufficient evidence of a significant difference.\")\n"
   ]
  },
  {
   "cell_type": "markdown",
   "id": "85554bde",
   "metadata": {},
   "source": [
    "# 11."
   ]
  },
  {
   "cell_type": "markdown",
   "id": "4e8ac054",
   "metadata": {},
   "source": [
    "Student's t-distribution, often referred to simply as the t-distribution, is a probability distribution that arises in the context of statistical inference. It is used when the sample size is small and the population standard deviation is unknown. The t-distribution is a family of distributions, \n",
    "and its shape is characterized by a parameter known as the degrees of freedom.\n",
    "\n",
    "When to use the t-Distribution:\n",
    "\n",
    "Small Sample Sizes:\n",
    "\n",
    "The t-distribution is especially useful when working with small sample sizes (typically n≤30).\n",
    "In large samples, the t-distribution approaches the standard normal distribution.\n",
    "\n",
    "Unknown Population Standard Deviation:\n",
    "\n",
    "When the population standard deviation (σ) is unknown, and the sample standard deviation (s) is used as an estimate, the t-distribution is appropriate.\n",
    "\n",
    "Interval Estimation:\n",
    "\n",
    "It is commonly used for constructing confidence intervals for population parameters, such as the mean, when dealing with small samples.\n",
    "\n",
    "Hypothesis Testing:\n",
    "\n",
    "In hypothesis testing scenarios involving small sample sizes and unknown population standard deviation, the t-distribution is employed for tests such as the t-test for means.\n",
    "\n",
    "Statistical Inference:\n",
    "\n",
    "The t-distribution is frequently used in scenarios where statistical inference is performed, such as estimating population parameters or making predictions based on sample data.\n",
    "\n"
   ]
  },
  {
   "cell_type": "markdown",
   "id": "afc3e9a3",
   "metadata": {},
   "source": [
    "# 12."
   ]
  },
  {
   "cell_type": "markdown",
   "id": "5d183a7b",
   "metadata": {},
   "source": [
    "The t-statistic is a measure used in hypothesis testing when comparing sample means or proportions. \n",
    "It helps assess whether the observed differences between groups or conditions are statistically significant or simply due to random chance. The t-statistic is particularly useful when dealing with small sample sizes and when the population standard deviation is unknown.\n",
    "\n",
    "The formula for the t-statistic depends on the context, specifically whether you are comparing means or proportions. Here are the formulas for the two most common scenarios:\n",
    " \n",
    "1. Comparing Means (Two-Sample T-Test):\n",
    "    \n",
    "For comparing the means of two independent samples:\n"
   ]
  },
  {
   "cell_type": "markdown",
   "id": "925ced05",
   "metadata": {},
   "source": [
    "t = x1 bar - x2 bar / √(s1^2/n1 + s2^2/n2)"
   ]
  },
  {
   "cell_type": "markdown",
   "id": "654c6d35",
   "metadata": {},
   "source": [
    "2. Comparing Means (One-Sample T-Test):\n",
    "For comparing the mean of a single sample to a known or hypothesized population mean (μ0): \n",
    "\n",
    "    t = x bar - μ0/ (s/√n)"
   ]
  },
  {
   "cell_type": "markdown",
   "id": "62f5e3ad",
   "metadata": {},
   "source": [
    "# 13."
   ]
  },
  {
   "cell_type": "code",
   "execution_count": 3,
   "id": "6b84bfc6",
   "metadata": {},
   "outputs": [
    {
     "name": "stdout",
     "output_type": "stream",
     "text": [
      "95% Confidence Interval for Population Mean Revenue: $486.14 to $513.86\n"
     ]
    }
   ],
   "source": [
    "import math\n",
    "\n",
    "# Given values\n",
    "sample_mean = 500\n",
    "sample_std = 50\n",
    "sample_size = 50\n",
    "confidence_level = 0.95\n",
    "\n",
    "# Calculate the standard error of the mean\n",
    "standard_error = sample_std / math.sqrt(sample_size)\n",
    "\n",
    "# Calculate the margin of error\n",
    "z_score = 1.96  # for a 95% confidence interval\n",
    "margin_of_error = z_score * standard_error\n",
    "\n",
    "# Calculate the confidence interval\n",
    "lower_bound = sample_mean - margin_of_error\n",
    "upper_bound = sample_mean + margin_of_error\n",
    "\n",
    "# Display the result\n",
    "print(f\"95% Confidence Interval for Population Mean Revenue: ${lower_bound:.2f} to ${upper_bound:.2f}\")\n"
   ]
  },
  {
   "cell_type": "markdown",
   "id": "18f34857",
   "metadata": {},
   "source": [
    "# 14."
   ]
  },
  {
   "cell_type": "code",
   "execution_count": 4,
   "id": "59c07b25",
   "metadata": {},
   "outputs": [
    {
     "name": "stdout",
     "output_type": "stream",
     "text": [
      "T-Statistic: -6.666666666666667\n",
      "Critical T-Value: 1.9842169515086827\n",
      "P-Value: 1.5012289189542116e-09\n",
      "Reject the null hypothesis. There is evidence of a significant difference.\n"
     ]
    }
   ],
   "source": [
    "import math\n",
    "import scipy.stats as stats\n",
    "\n",
    "# Given values\n",
    "sample_mean = 8\n",
    "hypothesized_mean = 10\n",
    "sample_std = 3\n",
    "sample_size = 100\n",
    "significance_level = 0.05\n",
    "\n",
    "# Calculate the standard error of the mean\n",
    "standard_error = sample_std / math.sqrt(sample_size)\n",
    "\n",
    "# Calculate the t-statistic\n",
    "t_statistic = (sample_mean - hypothesized_mean) / standard_error\n",
    "\n",
    "# Calculate the degrees of freedom\n",
    "degrees_of_freedom = sample_size - 1\n",
    "\n",
    "# Calculate the critical t-value for a two-tailed test\n",
    "critical_t_value = stats.t.ppf(1 - significance_level / 2, degrees_of_freedom)\n",
    "\n",
    "# Determine if the null hypothesis is rejected\n",
    "p_value = 2 * (1 - stats.t.cdf(abs(t_statistic), degrees_of_freedom))\n",
    "\n",
    "# Display the results\n",
    "print(f\"T-Statistic: {t_statistic}\")\n",
    "print(f\"Critical T-Value: {critical_t_value}\")\n",
    "print(f\"P-Value: {p_value}\")\n",
    "\n",
    "# Check if the null hypothesis is rejected\n",
    "if abs(t_statistic) > critical_t_value:\n",
    "    print(\"Reject the null hypothesis. There is evidence of a significant difference.\")\n",
    "else:\n",
    "    print(\"Fail to reject the null hypothesis. There is insufficient evidence of a significant difference.\")\n"
   ]
  },
  {
   "cell_type": "markdown",
   "id": "ec9c4b97",
   "metadata": {},
   "source": [
    "# 15."
   ]
  },
  {
   "cell_type": "code",
   "execution_count": 5,
   "id": "bb135894",
   "metadata": {},
   "outputs": [
    {
     "name": "stdout",
     "output_type": "stream",
     "text": [
      "T-Statistic: -2.0000000000000018\n",
      "Critical T-Value: -2.4921594731575762\n",
      "P-Value: 0.02846992496829572\n",
      "Reject the null hypothesis. There is evidence that the true mean weight is less than 5 pounds.\n"
     ]
    }
   ],
   "source": [
    "import math\n",
    "import scipy.stats as stats\n",
    "\n",
    "# Given values\n",
    "sample_mean = 4.8\n",
    "hypothesized_mean = 5\n",
    "sample_std = 0.5\n",
    "sample_size = 25\n",
    "significance_level = 0.01\n",
    "\n",
    "# Calculate the standard error of the mean\n",
    "standard_error = sample_std / math.sqrt(sample_size)\n",
    "\n",
    "# Calculate the t-statistic\n",
    "t_statistic = (sample_mean - hypothesized_mean) / standard_error\n",
    "\n",
    "# Calculate the degrees of freedom\n",
    "degrees_of_freedom = sample_size - 1\n",
    "\n",
    "# Calculate the critical t-value for a one-tailed test\n",
    "critical_t_value = stats.t.ppf(significance_level, degrees_of_freedom)\n",
    "\n",
    "# Determine if the null hypothesis is rejected\n",
    "p_value = stats.t.cdf(t_statistic, degrees_of_freedom)\n",
    "\n",
    "# Display the results\n",
    "print(f\"T-Statistic: {t_statistic}\")\n",
    "print(f\"Critical T-Value: {critical_t_value}\")\n",
    "print(f\"P-Value: {p_value}\")\n",
    "\n",
    "# Check if the null hypothesis is rejected\n",
    "if t_statistic < -critical_t_value:\n",
    "    print(\"Reject the null hypothesis. There is evidence that the true mean weight is less than 5 pounds.\")\n",
    "else:\n",
    "    print(\"Fail to reject the null hypothesis. There is insufficient evidence to conclude that the true mean weight is less than 5 pounds.\")\n"
   ]
  },
  {
   "cell_type": "markdown",
   "id": "d3c6106c",
   "metadata": {},
   "source": [
    "# 16."
   ]
  },
  {
   "cell_type": "code",
   "execution_count": 6,
   "id": "07c06f9a",
   "metadata": {},
   "outputs": [
    {
     "name": "stdout",
     "output_type": "stream",
     "text": [
      "T-Statistic: 2.2511258444537408\n",
      "Critical T-Values: -2.6500812928169557, 2.6500812928169557\n",
      "P-Value: 0.027613480367697507\n",
      "Fail to reject the null hypothesis. There is insufficient evidence to conclude that the population means are not equal.\n"
     ]
    }
   ],
   "source": [
    "import math\n",
    "import scipy.stats as stats\n",
    "\n",
    "# Given values for Group 1\n",
    "mean1 = 80\n",
    "std1 = 10\n",
    "n1 = 30\n",
    "\n",
    "# Given values for Group 2\n",
    "mean2 = 75\n",
    "std2 = 8\n",
    "n2 = 40\n",
    "\n",
    "# Significance level\n",
    "significance_level = 0.01\n",
    "\n",
    "# Calculate the standard error of the difference between means\n",
    "standard_error_diff_means = math.sqrt((std1**2 / n1) + (std2**2 / n2))\n",
    "\n",
    "# Calculate the t-statistic\n",
    "t_statistic = (mean1 - mean2) / standard_error_diff_means\n",
    "\n",
    "# Calculate the degrees of freedom\n",
    "degrees_of_freedom = n1 + n2 - 2\n",
    "\n",
    "# Calculate the critical t-values for a two-tailed test\n",
    "critical_t_value_lower = stats.t.ppf(significance_level / 2, degrees_of_freedom)\n",
    "critical_t_value_upper = -critical_t_value_lower\n",
    "\n",
    "# Determine if the null hypothesis is rejected\n",
    "p_value = 2 * (1 - stats.t.cdf(abs(t_statistic), degrees_of_freedom))\n",
    "\n",
    "# Display the results\n",
    "print(f\"T-Statistic: {t_statistic}\")\n",
    "print(f\"Critical T-Values: {critical_t_value_lower}, {critical_t_value_upper}\")\n",
    "print(f\"P-Value: {p_value}\")\n",
    "\n",
    "# Check if the null hypothesis is rejected\n",
    "if abs(t_statistic) > max(critical_t_value_lower, critical_t_value_upper):\n",
    "    print(\"Reject the null hypothesis. There is evidence that the population means are not equal.\")\n",
    "else:\n",
    "    print(\"Fail to reject the null hypothesis. There is insufficient evidence to conclude that the population means are not equal.\")\n"
   ]
  },
  {
   "cell_type": "markdown",
   "id": "595595e3",
   "metadata": {},
   "source": [
    "# 17."
   ]
  },
  {
   "cell_type": "code",
   "execution_count": 7,
   "id": "42389729",
   "metadata": {},
   "outputs": [
    {
     "name": "stdout",
     "output_type": "stream",
     "text": [
      "99% Confidence Interval for Population Mean: 3.45 to 4.55\n"
     ]
    }
   ],
   "source": [
    "import math\n",
    "\n",
    "# Given values\n",
    "sample_mean = 4\n",
    "sample_std = 1.5\n",
    "sample_size = 50\n",
    "confidence_level = 0.99\n",
    "\n",
    "# Calculate the standard error of the mean\n",
    "standard_error = sample_std / math.sqrt(sample_size)\n",
    "\n",
    "# Calculate the margin of error\n",
    "z_score = 2.576  # for a 99% confidence interval\n",
    "margin_of_error = z_score * standard_error\n",
    "\n",
    "# Calculate the confidence interval\n",
    "lower_bound = sample_mean - margin_of_error\n",
    "upper_bound = sample_mean + margin_of_error\n",
    "\n",
    "# Display the result\n",
    "print(f\"99% Confidence Interval for Population Mean: {lower_bound:.2f} to {upper_bound:.2f}\")\n"
   ]
  },
  {
   "cell_type": "code",
   "execution_count": null,
   "id": "0c2b5e3a",
   "metadata": {},
   "outputs": [],
   "source": []
  }
 ],
 "metadata": {
  "kernelspec": {
   "display_name": "Python 3 (ipykernel)",
   "language": "python",
   "name": "python3"
  },
  "language_info": {
   "codemirror_mode": {
    "name": "ipython",
    "version": 3
   },
   "file_extension": ".py",
   "mimetype": "text/x-python",
   "name": "python",
   "nbconvert_exporter": "python",
   "pygments_lexer": "ipython3",
   "version": "3.10.9"
  }
 },
 "nbformat": 4,
 "nbformat_minor": 5
}
