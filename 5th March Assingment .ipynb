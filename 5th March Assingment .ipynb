{
 "cells": [
  {
   "cell_type": "markdown",
   "id": "d0c2df45",
   "metadata": {},
   "source": [
    "# 1."
   ]
  },
  {
   "cell_type": "code",
   "execution_count": 1,
   "id": "49837ac3",
   "metadata": {},
   "outputs": [
    {
     "name": "stdout",
     "output_type": "stream",
     "text": [
      "Requirement already satisfied: bokeh in c:\\users\\rsah4\\anaconda3\\lib\\site-packages (2.4.3)\n",
      "Requirement already satisfied: numpy>=1.11.3 in c:\\users\\rsah4\\anaconda3\\lib\\site-packages (from bokeh) (1.23.5)\n",
      "Requirement already satisfied: packaging>=16.8 in c:\\users\\rsah4\\anaconda3\\lib\\site-packages (from bokeh) (22.0)\n",
      "Requirement already satisfied: pillow>=7.1.0 in c:\\users\\rsah4\\anaconda3\\lib\\site-packages (from bokeh) (9.4.0)\n",
      "Requirement already satisfied: Jinja2>=2.9 in c:\\users\\rsah4\\anaconda3\\lib\\site-packages (from bokeh) (3.1.2)\n",
      "Requirement already satisfied: typing-extensions>=3.10.0 in c:\\users\\rsah4\\anaconda3\\lib\\site-packages (from bokeh) (4.4.0)\n",
      "Requirement already satisfied: PyYAML>=3.10 in c:\\users\\rsah4\\anaconda3\\lib\\site-packages (from bokeh) (6.0)\n",
      "Requirement already satisfied: tornado>=5.1 in c:\\users\\rsah4\\anaconda3\\lib\\site-packages (from bokeh) (6.1)\n",
      "Requirement already satisfied: MarkupSafe>=2.0 in c:\\users\\rsah4\\anaconda3\\lib\\site-packages (from Jinja2>=2.9->bokeh) (2.1.1)\n",
      "Note: you may need to restart the kernel to use updated packages.\n"
     ]
    }
   ],
   "source": [
    "pip install bokeh\n"
   ]
  },
  {
   "cell_type": "code",
   "execution_count": null,
   "id": "c0cef036",
   "metadata": {},
   "outputs": [],
   "source": [
    "from bokeh.plotting import figure, show\n",
    "from bokeh.io import output_file\n",
    "\n",
    "# Sample data\n",
    "x = [1, 2, 3, 4, 5]\n",
    "y = [6, 7, 2, 4, 5]\n",
    "\n",
    "# Create a figure\n",
    "p = figure(title=\"Simple Line Plot\", x_axis_label='X-axis', y_axis_label='Y-axis')\n",
    "\n",
    "# Add a line renderer with legend and line thickness\n",
    "p.line(x, y, legend_label=\"Line\", line_width=2)\n",
    "\n",
    "# Specify the name of the output HTML file\n",
    "output_file(\"line_plot.html\")\n",
    "\n",
    "# Show the plot (this will open the HTML file in your default web browser)\n",
    "show(p)\n"
   ]
  },
  {
   "cell_type": "markdown",
   "id": "4cf628fc",
   "metadata": {},
   "source": [
    "# 2."
   ]
  },
  {
   "cell_type": "markdown",
   "id": "8105e49e",
   "metadata": {},
   "source": [
    "In Bokeh, glyphs are the basic visual building blocks used to create plots. Glyphs are geometric shapes, such as lines, circles, rectangles, etc., that represent data points on the plot. They are added to a Bokeh plot to visually display data in various ways. Bokeh provides a wide range of glyphs to suit different types of visualizations."
   ]
  },
  {
   "cell_type": "code",
   "execution_count": null,
   "id": "1b516bfa",
   "metadata": {},
   "outputs": [],
   "source": [
    "from bokeh.plotting import figure, show\n",
    "from bokeh.io import output_file\n",
    "\n",
    "# Sample data\n",
    "x = [1, 2, 3, 4, 5]\n",
    "y = [6, 7, 2, 4, 5]\n",
    "\n",
    "# Create a figure\n",
    "p = figure(title=\"Bokeh Plot with Circle Glyph\", x_axis_label='X-axis', y_axis_label='Y-axis')\n",
    "\n",
    "# Add a circle glyph to the plot\n",
    "p.circle(x, y, size=10, color=\"navy\", alpha=0.8)\n",
    "\n",
    "# Specify the name of the output HTML file\n",
    "output_file(\"bokeh_glyph_plot.html\")\n",
    "\n",
    "# Show the plot\n",
    "show(p)\n"
   ]
  },
  {
   "cell_type": "markdown",
   "id": "1f70ece2",
   "metadata": {},
   "source": [
    "# 3."
   ]
  },
  {
   "cell_type": "markdown",
   "id": "e459d8d1",
   "metadata": {},
   "source": [
    "Customizing the appearance of a Bokeh plot involves adjusting various parameters, such as axes labels, title, legend, colors, and more"
   ]
  },
  {
   "cell_type": "code",
   "execution_count": null,
   "id": "80f5ead0",
   "metadata": {},
   "outputs": [],
   "source": [
    "from bokeh.plotting import figure, show\n",
    "from bokeh.io import output_file\n",
    "\n",
    "# Sample data\n",
    "x = [1, 2, 3, 4, 5]\n",
    "y = [6, 7, 2, 4, 5]\n",
    "\n",
    "# Create a figure\n",
    "p = figure(title=\"Customized Bokeh Plot\", x_axis_label='X-axis', y_axis_label='Y-axis', width=500, height=400)\n",
    "\n",
    "# Add a line glyph to the plot\n",
    "line = p.line(x, y, line_width=2, line_color=\"green\", legend_label=\"Line\")\n",
    "\n",
    "# Customize the axes\n",
    "p.xaxis.axis_label_text_color = \"blue\"\n",
    "p.yaxis.axis_label_text_font_style = \"italic\"\n",
    "\n",
    "# Customize the title\n",
    "p.title.text_color = \"purple\"\n",
    "p.title.text_font_size = \"16pt\"\n",
    "p.title.align = \"center\"\n",
    "\n",
    "# Customize the legend\n",
    "p.legend.label_text_color = \"red\"\n",
    "p.legend.label_text_font = \"times\"\n",
    "\n",
    "# Specify the name of the output HTML file\n",
    "output_file(\"customized_bokeh_plot.html\")\n",
    "\n",
    "# Show the plot\n",
    "show(p)\n"
   ]
  },
  {
   "cell_type": "markdown",
   "id": "bb364db6",
   "metadata": {},
   "source": [
    "# 4."
   ]
  },
  {
   "cell_type": "markdown",
   "id": "5fe8c811",
   "metadata": {},
   "source": [
    "Bokeh Server is a component of the Bokeh library that allows you to create interactive web applications with real-time updates. Unlike static HTML files generated with Bokeh, a Bokeh Server application runs as a separate, long-lived process. This allows for dynamic interactions, such as handling user inputs, streaming data, and updating plots in real time"
   ]
  },
  {
   "cell_type": "markdown",
   "id": "bfb99cdd",
   "metadata": {},
   "source": [
    "Install Bokeh:\n",
    "If you haven't installed Bokeh, you can do so using:\n",
    " pip install bokeh"
   ]
  },
  {
   "cell_type": "markdown",
   "id": "27817dc2",
   "metadata": {},
   "source": [
    "Create a Bokeh Server Application Script:\n",
    "Save the following code in a file, let's call it bokeh_server_app.py:"
   ]
  },
  {
   "cell_type": "code",
   "execution_count": null,
   "id": "3d9d9f3b",
   "metadata": {},
   "outputs": [],
   "source": [
    "from bokeh.io import curdoc\n",
    "from bokeh.plotting import figure\n",
    "from bokeh.models import ColumnDataSource\n",
    "from bokeh.models.widgets import Slider\n",
    "from bokeh.layouts import column\n",
    "\n",
    "# Create initial data\n",
    "x = [0, 1, 2, 3, 4, 5]\n",
    "y = [0, 1, 4, 9, 16, 25]\n",
    "\n",
    "# Create a ColumnDataSource to store data for the plot\n",
    "source = ColumnDataSource(data=dict(x=x, y=y))\n",
    "\n",
    "# Create a plot\n",
    "plot = figure(title=\"Interactive Bokeh Server Plot\", tools=\"pan,box_zoom,reset,save\")\n",
    "\n",
    "# Add a line glyph\n",
    "line = plot.line('x', 'y', source=source, line_width=2)\n",
    "\n",
    "# Create a slider widget\n",
    "slider = Slider(start=1, end=10, value=1, step=1, title=\"Multiplier\")\n",
    "\n",
    "# Define callback function to update the plot based on slider value\n",
    "def update_data(attrname, old, new):\n",
    "    multiplier = slider.value\n",
    "    new_y = [multiplier * val for val in x]\n",
    "    source.data = dict(x=x, y=new_y)\n",
    "\n",
    "# Attach the callback to the slider value change event\n",
    "slider.on_change('value', update_data)\n",
    "\n",
    "# Arrange the plot and slider in a layout\n",
    "layout = column(slider, plot)\n",
    "\n",
    "# Set up the document\n",
    "curdoc().add_root(layout)\n"
   ]
  },
  {
   "cell_type": "markdown",
   "id": "b1e77e78",
   "metadata": {},
   "source": [
    "# 5."
   ]
  },
  {
   "cell_type": "markdown",
   "id": "4ced7d82",
   "metadata": {},
   "source": [
    "Embedding a Bokeh plot into a web page or a dashboard in Flask or Django involves creating a Bokeh application, then embedding it into the respective web framework."
   ]
  },
  {
   "cell_type": "code",
   "execution_count": null,
   "id": "84b7fdc1",
   "metadata": {},
   "outputs": [],
   "source": [
    " # Flask:\n",
    "# Install necessary libraries:\n",
    "pip install flask bokeh"
   ]
  },
  {
   "cell_type": "code",
   "execution_count": null,
   "id": "6299a5a6",
   "metadata": {},
   "outputs": [],
   "source": [
    "# Create a Flask app (app.py):\n",
    "from flask import Flask, render_template\n",
    "from bokeh.embed import server_document\n",
    "\n",
    "app = Flask(__name__)\n",
    "\n",
    "@app.route('/')\n",
    "def index():\n",
    "    # Replace 'bokeh-server-app' with the name of your Bokeh server application\n",
    "    script = server_document('http://localhost:5006/bokeh-server-app')\n",
    "    return render_template('index.html', script=script)\n",
    "\n",
    "if __name__ == '__main__':\n",
    "    app.run(port=8000)\n"
   ]
  },
  {
   "cell_type": "code",
   "execution_count": null,
   "id": "d3619feb",
   "metadata": {},
   "outputs": [],
   "source": [
    "# Create a Flask template (templates/index.html):\n",
    "<!DOCTYPE html>\n",
    "<html lang=\"en\">\n",
    "<head>\n",
    "    <meta charset=\"UTF-8\">\n",
    "    <title>Bokeh Embedding with Flask</title>\n",
    "</head>\n",
    "<body>\n",
    "    <h1>Bokeh Plot Embedded with Flask</h1>\n",
    "    {{ script|safe }}\n",
    "</body>\n",
    "</html>\n"
   ]
  },
  {
   "cell_type": "code",
   "execution_count": null,
   "id": "7af67965",
   "metadata": {},
   "outputs": [],
   "source": [
    "# Run the Flask app:\n",
    "python app.py"
   ]
  },
  {
   "cell_type": "markdown",
   "id": "561d63a5",
   "metadata": {},
   "source": [
    "Django:"
   ]
  },
  {
   "cell_type": "code",
   "execution_count": null,
   "id": "41dc2c2d",
   "metadata": {},
   "outputs": [],
   "source": [
    " # Install necessary libraries:\n",
    "pip install django bokeh"
   ]
  },
  {
   "cell_type": "code",
   "execution_count": null,
   "id": "afdf65fb",
   "metadata": {},
   "outputs": [],
   "source": [
    "# Create a new Django project and app:\n",
    "django-admin startproject bokeh_django\n",
    "cd bokeh_django\n",
    "python manage.py startapp myapp"
   ]
  },
  {
   "cell_type": "code",
   "execution_count": null,
   "id": "928e2b28",
   "metadata": {},
   "outputs": [],
   "source": [
    "# Update myapp/views.py:\n",
    "from django.shortcuts import render\n",
    "from bokeh.embed import server_document\n",
    "\n",
    "def index(request):\n",
    "    # Replace 'bokeh-server-app' with the name of your Bokeh server application\n",
    "    script = server_document('http://localhost:5006/bokeh-server-app')\n",
    "    return render(request, 'myapp/index.html', {'script': script})\n"
   ]
  },
  {
   "cell_type": "code",
   "execution_count": null,
   "id": "7d1f0900",
   "metadata": {},
   "outputs": [],
   "source": [
    "# Create a new Django template (myapp/templates/myapp/index.html):\n",
    "<!DOCTYPE html>\n",
    "<html lang=\"en\">\n",
    "<head>\n",
    "    <meta charset=\"UTF-8\">\n",
    "    <title>Bokeh Embedding with Django</title>\n",
    "</head>\n",
    "<body>\n",
    "    <h1>Bokeh Plot Embedded with Django</h1>\n",
    "    {{ script|safe }}\n",
    "</body>\n",
    "</html>\n"
   ]
  },
  {
   "cell_type": "code",
   "execution_count": null,
   "id": "0b05df34",
   "metadata": {},
   "outputs": [],
   "source": [
    "# Update myapp/urls.py:\n",
    "from django.urls import path\n",
    "from . import views\n",
    "\n",
    "urlpatterns = [\n",
    "    path('', views.index, name='index'),\n",
    "]\n"
   ]
  },
  {
   "cell_type": "code",
   "execution_count": null,
   "id": "32ec3206",
   "metadata": {},
   "outputs": [],
   "source": [
    "# Update bokeh_django/urls.py:\n",
    "from django.contrib import admin\n",
    "from django.urls import include, path\n",
    "\n",
    "urlpatterns = [\n",
    "    path('admin/', admin.site.urls),\n",
    "    path('', include('myapp.urls')),\n",
    "]\n"
   ]
  },
  {
   "cell_type": "code",
   "execution_count": null,
   "id": "265cd1d9",
   "metadata": {},
   "outputs": [],
   "source": [
    "# Run the Django development server:\n",
    "python manage.py runserver\n"
   ]
  },
  {
   "cell_type": "code",
   "execution_count": null,
   "id": "ec1cf303",
   "metadata": {},
   "outputs": [],
   "source": []
  }
 ],
 "metadata": {
  "kernelspec": {
   "display_name": "Python 3 (ipykernel)",
   "language": "python",
   "name": "python3"
  },
  "language_info": {
   "codemirror_mode": {
    "name": "ipython",
    "version": 3
   },
   "file_extension": ".py",
   "mimetype": "text/x-python",
   "name": "python",
   "nbconvert_exporter": "python",
   "pygments_lexer": "ipython3",
   "version": "3.10.9"
  }
 },
 "nbformat": 4,
 "nbformat_minor": 5
}
