{
 "cells": [
  {
   "cell_type": "markdown",
   "id": "5b7ec8c4",
   "metadata": {},
   "source": [
    "# 1."
   ]
  },
  {
   "cell_type": "code",
   "execution_count": 1,
   "id": "1a241d90",
   "metadata": {},
   "outputs": [],
   "source": [
    "def check_password(password):\n",
    "    # Count the number of uppercase, lowercase, digits, and special characters\n",
    "    upper_count = sum(1 for char in password if char.isupper())\n",
    "    lower_count = sum(1 for char in password if char.islower())\n",
    "    digit_count = sum(1 for char in password if char.isdigit())\n",
    "    special_count = sum(1 for char in password if not char.isalnum())\n",
    "\n",
    "    # Check the length of the password\n",
    "    if len(password) != 10:\n",
    "        return \"Invalid Password: The password should be 10 characters long.\"\n",
    "\n",
    "    if upper_count < 2 or lower_count < 2:\n",
    "        return \"Invalid Password: The password should contain at least two uppercase and two lowercase letters.\"\n",
    "\n",
    "    if digit_count < 1 or special_count < 3:\n",
    "        return \"Invalid Password: The password should contain at least one digit and three special characters.\"\n",
    "\n",
    "    return \"Valid Password\"\n"
   ]
  },
  {
   "cell_type": "code",
   "execution_count": 2,
   "id": "2b45f884",
   "metadata": {},
   "outputs": [
    {
     "name": "stdout",
     "output_type": "stream",
     "text": [
      "Enter the password: 12345\n",
      "Invalid Password: The password should be 10 characters long.\n"
     ]
    }
   ],
   "source": [
    "password = input(\"Enter the password: \")\n",
    "result = check_password(password)\n",
    "print(result)\n"
   ]
  },
  {
   "cell_type": "markdown",
   "id": "a5f4d970",
   "metadata": {},
   "source": [
    "# 2."
   ]
  },
  {
   "cell_type": "markdown",
   "id": "cb2f9a39",
   "metadata": {},
   "source": [
    "### Lamda function"
   ]
  },
  {
   "cell_type": "code",
   "execution_count": 3,
   "id": "81d1c65d",
   "metadata": {},
   "outputs": [
    {
     "name": "stdout",
     "output_type": "stream",
     "text": [
      "True\n"
     ]
    }
   ],
   "source": [
    "# Check if the string starts with a particular letter:\n",
    "\n",
    "starts_with = lambda string, letter: string.startswith(letter)\n",
    "result = starts_with(\"Hello\", \"H\")\n",
    "print(result)  \n"
   ]
  },
  {
   "cell_type": "code",
   "execution_count": 4,
   "id": "b5982a7e",
   "metadata": {},
   "outputs": [
    {
     "name": "stdout",
     "output_type": "stream",
     "text": [
      "True\n"
     ]
    }
   ],
   "source": [
    "# Check if the string is numeric:\n",
    "is_numeric = lambda string: string.isnumeric()\n",
    "result = is_numeric(\"123\")\n",
    "print(result)  \n"
   ]
  },
  {
   "cell_type": "code",
   "execution_count": 5,
   "id": "8a85ea97",
   "metadata": {},
   "outputs": [
    {
     "name": "stdout",
     "output_type": "stream",
     "text": [
      "[('orange', 80), ('mango', 99), ('grapes', 1000)]\n"
     ]
    }
   ],
   "source": [
    "# Sort a list of tuples containing fruit names and their quantity:\n",
    "fruits = [(\"mango\", 99), (\"orange\", 80), (\"grapes\", 1000)]\n",
    "sorted_fruits = sorted(fruits, key=lambda x: x[1])\n",
    "print(sorted_fruits) \n"
   ]
  },
  {
   "cell_type": "code",
   "execution_count": 6,
   "id": "bee6eed0",
   "metadata": {},
   "outputs": [
    {
     "name": "stdout",
     "output_type": "stream",
     "text": [
      "[1, 4, 9, 16, 25, 36, 49, 64, 81, 100]\n"
     ]
    }
   ],
   "source": [
    "# Find the square of numbers from 1 to 10:\n",
    "numbers = list(range(1, 11))\n",
    "squared_numbers = list(map(lambda x: x ** 2, numbers))\n",
    "print(squared_numbers)  \n"
   ]
  },
  {
   "cell_type": "code",
   "execution_count": 7,
   "id": "92bcfb1b",
   "metadata": {},
   "outputs": [
    {
     "name": "stdout",
     "output_type": "stream",
     "text": [
      "[1.0, 1.2599210498948732, 1.4422495703074083, 1.5874010519681994, 1.7099759466766968, 1.8171205928321397, 1.912931182772389, 2.0, 2.080083823051904, 2.154434690031884]\n"
     ]
    }
   ],
   "source": [
    "# Find the cube root of numbers from 1 to 10:\n",
    "import math\n",
    "numbers = list(range(1, 11))\n",
    "cube_root_numbers = list(map(lambda x: math.pow(x, 1/3), numbers))\n",
    "print(cube_root_numbers)  "
   ]
  },
  {
   "cell_type": "code",
   "execution_count": 8,
   "id": "4d914b61",
   "metadata": {},
   "outputs": [
    {
     "name": "stdout",
     "output_type": "stream",
     "text": [
      "False\n"
     ]
    }
   ],
   "source": [
    "# Check if a given number is even:\n",
    "is_even = lambda num: num % 2 == 0\n",
    "result = is_even(5)\n",
    "print(result)  \n"
   ]
  },
  {
   "cell_type": "code",
   "execution_count": 9,
   "id": "6d4c58a2",
   "metadata": {},
   "outputs": [
    {
     "name": "stdout",
     "output_type": "stream",
     "text": [
      "[1, 3, 5, 7, 9]\n"
     ]
    }
   ],
   "source": [
    "# Filter odd numbers from a given list:\n",
    "numbers = [1, 2, 3, 4, 5, 6, 7, 8, 9, 10]\n",
    "odd_numbers = list(filter(lambda x: x % 2 != 0, numbers))\n",
    "print(odd_numbers)  \n"
   ]
  },
  {
   "cell_type": "code",
   "execution_count": 10,
   "id": "7eb429d1",
   "metadata": {},
   "outputs": [
    {
     "name": "stdout",
     "output_type": "stream",
     "text": [
      "[1, 2, 3, 4, 5, 6]\n",
      "[-1, -2, -3, -4, -5]\n"
     ]
    }
   ],
   "source": [
    "# Sort a list of integers into positive and negative integers lists:\n",
    "numbers = [1, 2, 3, 4, 5, 6, -1, -2, -3, -4, -5, 0]\n",
    "positive_numbers = list(filter(lambda x: x > 0, numbers))\n",
    "negative_numbers = list(filter(lambda x: x < 0, numbers))\n",
    "print(positive_numbers)  \n",
    "print(negative_numbers)  \n"
   ]
  },
  {
   "cell_type": "markdown",
   "id": "323cf0a3",
   "metadata": {},
   "source": [
    " ### Filter Function"
   ]
  },
  {
   "cell_type": "code",
   "execution_count": 1,
   "id": "297791fc",
   "metadata": {},
   "outputs": [
    {
     "name": "stdout",
     "output_type": "stream",
     "text": [
      "['banana']\n"
     ]
    }
   ],
   "source": [
    "strings = [\"apple\", \"banana\", \"orange\", \"kiwi\"]\n",
    "letter = \"b\"\n",
    "\n",
    "result = list(filter(lambda x: x.startswith(letter), strings))\n",
    "print(result)\n"
   ]
  },
  {
   "cell_type": "code",
   "execution_count": 2,
   "id": "4f8ee206",
   "metadata": {},
   "outputs": [
    {
     "name": "stdout",
     "output_type": "stream",
     "text": [
      "['123', '456', '789']\n"
     ]
    }
   ],
   "source": [
    "strings = [\"123\", \"hello\", \"456\", \"789\", \"world\"]\n",
    "\n",
    "result = list(filter(lambda x: x.isnumeric(), strings))\n",
    "print(result)\n"
   ]
  },
  {
   "cell_type": "code",
   "execution_count": 3,
   "id": "0600faeb",
   "metadata": {},
   "outputs": [
    {
     "name": "stdout",
     "output_type": "stream",
     "text": [
      "[('orange', 80), ('mango', 99), ('grapes', 1000)]\n"
     ]
    }
   ],
   "source": [
    "fruits = [(\"mango\", 99), (\"orange\", 80), (\"grapes\", 1000)]\n",
    "\n",
    "result = sorted(fruits, key=lambda x: x[1])\n",
    "print(result)\n"
   ]
  },
  {
   "cell_type": "code",
   "execution_count": 4,
   "id": "98df4cf0",
   "metadata": {},
   "outputs": [
    {
     "name": "stdout",
     "output_type": "stream",
     "text": [
      "[1, 4, 9, 16, 25, 36, 49, 64, 81, 100]\n"
     ]
    }
   ],
   "source": [
    "numbers = range(1, 11)\n",
    "\n",
    "squares = [num**2 for num in numbers]\n",
    "print(squares)\n"
   ]
  },
  {
   "cell_type": "code",
   "execution_count": 5,
   "id": "c70ce8b3",
   "metadata": {},
   "outputs": [
    {
     "name": "stdout",
     "output_type": "stream",
     "text": [
      "[1.0, 1.2599210498948732, 1.4422495703074083, 1.5874010519681994, 1.7099759466766968, 1.8171205928321397, 1.912931182772389, 2.0, 2.080083823051904, 2.154434690031884]\n"
     ]
    }
   ],
   "source": [
    "import math\n",
    "\n",
    "numbers = range(1, 11)\n",
    "\n",
    "cube_roots = [math.pow(num, 1/3) for num in numbers]\n",
    "print(cube_roots)\n"
   ]
  },
  {
   "cell_type": "code",
   "execution_count": 6,
   "id": "0899f94f",
   "metadata": {},
   "outputs": [
    {
     "name": "stdout",
     "output_type": "stream",
     "text": [
      "True\n",
      "False\n"
     ]
    }
   ],
   "source": [
    "def is_even(number):\n",
    "    return number % 2 == 0\n",
    "\n",
    "print(is_even(4))  # True\n",
    "print(is_even(7))  # False\n"
   ]
  },
  {
   "cell_type": "code",
   "execution_count": 7,
   "id": "4ff47d02",
   "metadata": {},
   "outputs": [
    {
     "name": "stdout",
     "output_type": "stream",
     "text": [
      "[1, 3, 5, 7, 9]\n"
     ]
    }
   ],
   "source": [
    "numbers = [1, 2, 3, 4, 5, 6, 7, 8, 9, 10]\n",
    "\n",
    "result = list(filter(lambda x: x % 2 != 0, numbers))\n",
    "print(result)\n"
   ]
  },
  {
   "cell_type": "markdown",
   "id": "e5d13342",
   "metadata": {},
   "source": [
    "### Map Function "
   ]
  },
  {
   "cell_type": "code",
   "execution_count": 8,
   "id": "c575e1ee",
   "metadata": {},
   "outputs": [
    {
     "name": "stdout",
     "output_type": "stream",
     "text": [
      "[False, True, False, False]\n"
     ]
    }
   ],
   "source": [
    "strings = [\"apple\", \"banana\", \"orange\", \"kiwi\"]\n",
    "letter = \"b\"\n",
    "\n",
    "result = list(map(lambda x: x.startswith(letter), strings))\n",
    "print(result)\n"
   ]
  },
  {
   "cell_type": "code",
   "execution_count": 9,
   "id": "e2417802",
   "metadata": {},
   "outputs": [
    {
     "name": "stdout",
     "output_type": "stream",
     "text": [
      "[True, False, True, True, False]\n"
     ]
    }
   ],
   "source": [
    "strings = [\"123\", \"hello\", \"456\", \"789\", \"world\"]\n",
    "\n",
    "result = list(map(lambda x: x.isnumeric(), strings))\n",
    "print(result)\n"
   ]
  },
  {
   "cell_type": "code",
   "execution_count": 10,
   "id": "41ffe079",
   "metadata": {},
   "outputs": [
    {
     "name": "stdout",
     "output_type": "stream",
     "text": [
      "[('orange', 80), ('mango', 99), ('grapes', 1000)]\n"
     ]
    }
   ],
   "source": [
    "fruits = [(\"mango\", 99), (\"orange\", 80), (\"grapes\", 1000)]\n",
    "\n",
    "result = sorted(fruits, key=lambda x: x[1])\n",
    "print(result)\n"
   ]
  },
  {
   "cell_type": "code",
   "execution_count": 11,
   "id": "625622c7",
   "metadata": {},
   "outputs": [
    {
     "name": "stdout",
     "output_type": "stream",
     "text": [
      "[1, 4, 9, 16, 25, 36, 49, 64, 81, 100]\n"
     ]
    }
   ],
   "source": [
    "numbers = range(1, 11)\n",
    "\n",
    "squares = list(map(lambda x: x**2, numbers))\n",
    "print(squares)\n"
   ]
  },
  {
   "cell_type": "code",
   "execution_count": 12,
   "id": "dde9f9be",
   "metadata": {},
   "outputs": [
    {
     "name": "stdout",
     "output_type": "stream",
     "text": [
      "[1.0, 1.2599210498948732, 1.4422495703074083, 1.5874010519681994, 1.7099759466766968, 1.8171205928321397, 1.912931182772389, 2.0, 2.080083823051904, 2.154434690031884]\n"
     ]
    }
   ],
   "source": [
    "import math\n",
    "\n",
    "numbers = range(1, 11)\n",
    "\n",
    "cube_roots = list(map(lambda x: math.pow(x, 1/3), numbers))\n",
    "print(cube_roots)\n"
   ]
  },
  {
   "cell_type": "code",
   "execution_count": 13,
   "id": "c83a15e7",
   "metadata": {},
   "outputs": [
    {
     "name": "stdout",
     "output_type": "stream",
     "text": [
      "[True, False, True, False, True]\n"
     ]
    }
   ],
   "source": [
    "numbers = [4, 7, 2, 9, 6]\n",
    "\n",
    "result = list(map(lambda x: x % 2 == 0, numbers))\n",
    "print(result)\n"
   ]
  },
  {
   "cell_type": "markdown",
   "id": "42bf5a12",
   "metadata": {},
   "source": [
    "### List Comprehension"
   ]
  },
  {
   "cell_type": "code",
   "execution_count": 14,
   "id": "d446ed0b",
   "metadata": {},
   "outputs": [
    {
     "name": "stdout",
     "output_type": "stream",
     "text": [
      "['banana']\n"
     ]
    }
   ],
   "source": [
    "strings = [\"apple\", \"banana\", \"orange\", \"kiwi\"]\n",
    "letter = \"b\"\n",
    "\n",
    "result = [string for string in strings if string.startswith(letter)]\n",
    "print(result)\n"
   ]
  },
  {
   "cell_type": "code",
   "execution_count": 15,
   "id": "533389e1",
   "metadata": {},
   "outputs": [
    {
     "name": "stdout",
     "output_type": "stream",
     "text": [
      "['123', '456', '789']\n"
     ]
    }
   ],
   "source": [
    "strings = [\"123\", \"hello\", \"456\", \"789\", \"world\"]\n",
    "\n",
    "result = [string for string in strings if string.isnumeric()]\n",
    "print(result)\n"
   ]
  },
  {
   "cell_type": "code",
   "execution_count": 16,
   "id": "0f8f091c",
   "metadata": {},
   "outputs": [
    {
     "name": "stdout",
     "output_type": "stream",
     "text": [
      "[('orange', 80), ('mango', 99), ('grapes', 1000)]\n"
     ]
    }
   ],
   "source": [
    "fruits = [(\"mango\", 99), (\"orange\", 80), (\"grapes\", 1000)]\n",
    "\n",
    "result = sorted(fruits, key=lambda x: x[1])\n",
    "print(result)\n"
   ]
  },
  {
   "cell_type": "code",
   "execution_count": 17,
   "id": "aa5f4e08",
   "metadata": {},
   "outputs": [
    {
     "name": "stdout",
     "output_type": "stream",
     "text": [
      "[1, 4, 9, 16, 25, 36, 49, 64, 81, 100]\n"
     ]
    }
   ],
   "source": [
    "numbers = range(1, 11)\n",
    "\n",
    "squares = [num**2 for num in numbers]\n",
    "print(squares)\n"
   ]
  },
  {
   "cell_type": "code",
   "execution_count": 18,
   "id": "ddd1f369",
   "metadata": {},
   "outputs": [
    {
     "name": "stdout",
     "output_type": "stream",
     "text": [
      "[1.0, 1.2599210498948732, 1.4422495703074083, 1.5874010519681994, 1.7099759466766968, 1.8171205928321397, 1.912931182772389, 2.0, 2.080083823051904, 2.154434690031884]\n"
     ]
    }
   ],
   "source": [
    "import math\n",
    "\n",
    "numbers = range(1, 11)\n",
    "\n",
    "cube_roots = [math.pow(num, 1/3) for num in numbers]\n",
    "print(cube_roots)\n"
   ]
  },
  {
   "cell_type": "code",
   "execution_count": 19,
   "id": "6dada65f",
   "metadata": {},
   "outputs": [
    {
     "name": "stdout",
     "output_type": "stream",
     "text": [
      "[4, 2, 6]\n"
     ]
    }
   ],
   "source": [
    "numbers = [4, 7, 2, 9, 6]\n",
    "\n",
    "result = [num for num in numbers if num % 2 == 0]\n",
    "print(result)\n"
   ]
  },
  {
   "cell_type": "code",
   "execution_count": 21,
   "id": "0cae649b",
   "metadata": {},
   "outputs": [
    {
     "name": "stdout",
     "output_type": "stream",
     "text": [
      "[1, 3, 5, 7, 9]\n"
     ]
    }
   ],
   "source": [
    "numbers = [1, 2, 3, 4, 5, 6, 7, 8, 9, 10]\n",
    "\n",
    "result = [num for num in numbers if num % 2 != 0]\n",
    "print(result)\n",
    "\n"
   ]
  },
  {
   "cell_type": "code",
   "execution_count": 22,
   "id": "d5ae8cc5",
   "metadata": {},
   "outputs": [
    {
     "name": "stdout",
     "output_type": "stream",
     "text": [
      "Positive integers: [1, 2, 3, 4, 5, 6]\n",
      "Negative integers: [-1, -2, -3, -4, -5]\n"
     ]
    }
   ],
   "source": [
    "numbers = [1, 2, 3, 4, 5, 6, -1, -2, -3, -4, -5, 0]\n",
    "\n",
    "positive = [num for num in numbers if num > 0]\n",
    "negative = [num for num in numbers if num < 0]\n",
    "\n",
    "print(\"Positive integers:\", positive)\n",
    "print(\"Negative integers:\", negative)\n"
   ]
  },
  {
   "cell_type": "code",
   "execution_count": null,
   "id": "9e6fc1dd",
   "metadata": {},
   "outputs": [],
   "source": []
  }
 ],
 "metadata": {
  "kernelspec": {
   "display_name": "Python 3 (ipykernel)",
   "language": "python",
   "name": "python3"
  },
  "language_info": {
   "codemirror_mode": {
    "name": "ipython",
    "version": 3
   },
   "file_extension": ".py",
   "mimetype": "text/x-python",
   "name": "python",
   "nbconvert_exporter": "python",
   "pygments_lexer": "ipython3",
   "version": "3.9.12"
  }
 },
 "nbformat": 4,
 "nbformat_minor": 5
}
