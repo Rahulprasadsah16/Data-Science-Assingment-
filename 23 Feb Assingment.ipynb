{
 "cells": [
  {
   "cell_type": "markdown",
   "id": "b6561962",
   "metadata": {},
   "source": [
    "# 1."
   ]
  },
  {
   "cell_type": "code",
   "execution_count": 2,
   "id": "0fd10182",
   "metadata": {},
   "outputs": [
    {
     "name": "stdout",
     "output_type": "stream",
     "text": [
      "Requirement already satisfied: pandas in c:\\users\\rsah4\\anaconda3\\lib\\site-packages (1.5.3)\n",
      "Requirement already satisfied: python-dateutil>=2.8.1 in c:\\users\\rsah4\\anaconda3\\lib\\site-packages (from pandas) (2.8.2)\n",
      "Requirement already satisfied: pytz>=2020.1 in c:\\users\\rsah4\\anaconda3\\lib\\site-packages (from pandas) (2022.7)\n",
      "Requirement already satisfied: numpy>=1.21.0 in c:\\users\\rsah4\\anaconda3\\lib\\site-packages (from pandas) (1.23.5)\n",
      "Requirement already satisfied: six>=1.5 in c:\\users\\rsah4\\anaconda3\\lib\\site-packages (from python-dateutil>=2.8.1->pandas) (1.16.0)\n",
      "Note: you may need to restart the kernel to use updated packages.\n"
     ]
    }
   ],
   "source": [
    "pip install pandas"
   ]
  },
  {
   "cell_type": "code",
   "execution_count": 6,
   "id": "03ecc99f",
   "metadata": {},
   "outputs": [],
   "source": [
    "import pandas as pd\n"
   ]
  },
  {
   "cell_type": "code",
   "execution_count": 2,
   "id": "69464326",
   "metadata": {},
   "outputs": [],
   "source": [
    "data = [4, 8, 15, 16, 23,42]"
   ]
  },
  {
   "cell_type": "code",
   "execution_count": 11,
   "id": "c4104055",
   "metadata": {},
   "outputs": [],
   "source": [
    "series = pd.Series(data)"
   ]
  },
  {
   "cell_type": "code",
   "execution_count": 12,
   "id": "2956e939",
   "metadata": {},
   "outputs": [
    {
     "data": {
      "text/plain": [
       "0     4\n",
       "1     8\n",
       "2    15\n",
       "3    16\n",
       "4    23\n",
       "dtype: int64"
      ]
     },
     "execution_count": 12,
     "metadata": {},
     "output_type": "execute_result"
    }
   ],
   "source": [
    "series.head()"
   ]
  },
  {
   "cell_type": "markdown",
   "id": "daf3c029",
   "metadata": {},
   "source": [
    "# 2."
   ]
  },
  {
   "cell_type": "code",
   "execution_count": 14,
   "id": "c2d1a0bc",
   "metadata": {},
   "outputs": [],
   "source": [
    "data1 = ['pen', 'pencil','books','notebooks','calculator','eraser','compass','scale','pages','geomatry']"
   ]
  },
  {
   "cell_type": "code",
   "execution_count": 15,
   "id": "8986c80e",
   "metadata": {},
   "outputs": [],
   "source": [
    "series1 = pd.Series(data1)"
   ]
  },
  {
   "cell_type": "code",
   "execution_count": 17,
   "id": "4aa9e0b9",
   "metadata": {},
   "outputs": [
    {
     "name": "stdout",
     "output_type": "stream",
     "text": [
      "0           pen\n",
      "1        pencil\n",
      "2         books\n",
      "3     notebooks\n",
      "4    calculator\n",
      "5        eraser\n",
      "6       compass\n",
      "7         scale\n",
      "8         pages\n",
      "9      geomatry\n",
      "dtype: object\n"
     ]
    }
   ],
   "source": [
    "print(series1)"
   ]
  },
  {
   "cell_type": "markdown",
   "id": "bc48203e",
   "metadata": {},
   "source": [
    "# 3."
   ]
  },
  {
   "cell_type": "code",
   "execution_count": 19,
   "id": "0315b961",
   "metadata": {},
   "outputs": [],
   "source": [
    "data3 = {\n",
    "    \n",
    "'Name': ['Alice','Bob','Claire'], 'Age':[25,30,27], 'Gender':['Female','Male','Female'] \n",
    "}"
   ]
  },
  {
   "cell_type": "code",
   "execution_count": 20,
   "id": "6f809881",
   "metadata": {},
   "outputs": [],
   "source": [
    "df = pd.DataFrame(data3)"
   ]
  },
  {
   "cell_type": "code",
   "execution_count": 21,
   "id": "4a5afd6d",
   "metadata": {},
   "outputs": [
    {
     "data": {
      "text/html": [
       "<div>\n",
       "<style scoped>\n",
       "    .dataframe tbody tr th:only-of-type {\n",
       "        vertical-align: middle;\n",
       "    }\n",
       "\n",
       "    .dataframe tbody tr th {\n",
       "        vertical-align: top;\n",
       "    }\n",
       "\n",
       "    .dataframe thead th {\n",
       "        text-align: right;\n",
       "    }\n",
       "</style>\n",
       "<table border=\"1\" class=\"dataframe\">\n",
       "  <thead>\n",
       "    <tr style=\"text-align: right;\">\n",
       "      <th></th>\n",
       "      <th>Name</th>\n",
       "      <th>Age</th>\n",
       "      <th>Gender</th>\n",
       "    </tr>\n",
       "  </thead>\n",
       "  <tbody>\n",
       "    <tr>\n",
       "      <th>0</th>\n",
       "      <td>Alice</td>\n",
       "      <td>25</td>\n",
       "      <td>Female</td>\n",
       "    </tr>\n",
       "    <tr>\n",
       "      <th>1</th>\n",
       "      <td>Bob</td>\n",
       "      <td>30</td>\n",
       "      <td>Male</td>\n",
       "    </tr>\n",
       "    <tr>\n",
       "      <th>2</th>\n",
       "      <td>Claire</td>\n",
       "      <td>27</td>\n",
       "      <td>Female</td>\n",
       "    </tr>\n",
       "  </tbody>\n",
       "</table>\n",
       "</div>"
      ],
      "text/plain": [
       "     Name  Age  Gender\n",
       "0   Alice   25  Female\n",
       "1     Bob   30    Male\n",
       "2  Claire   27  Female"
      ]
     },
     "execution_count": 21,
     "metadata": {},
     "output_type": "execute_result"
    }
   ],
   "source": [
    "df"
   ]
  },
  {
   "cell_type": "markdown",
   "id": "405bbf3a",
   "metadata": {},
   "source": [
    "# 4."
   ]
  },
  {
   "cell_type": "markdown",
   "id": "ae731d79",
   "metadata": {},
   "source": [
    "In Pandas, a DataFrame is a two-dimensional, size-mutable, and tabular data structure. It is the most commonly used data structure in Pandas and is similar to a spreadsheet or a SQL table. A DataFrame is essentially a collection of Pandas Series objects, where each column of the DataFrame is a Pandas Series, and these Series share a common index. This structure allows you to store and manipulate data in a convenient and efficient way."
   ]
  },
  {
   "cell_type": "markdown",
   "id": "a6bbf837",
   "metadata": {},
   "source": [
    "Here's an example to illustrate the difference between a Pandas Series and a DataFrame:"
   ]
  },
  {
   "cell_type": "code",
   "execution_count": 23,
   "id": "1c4d844b",
   "metadata": {},
   "outputs": [
    {
     "name": "stdout",
     "output_type": "stream",
     "text": [
      "Pandas Series:\n",
      "0    1\n",
      "1    2\n",
      "2    3\n",
      "3    4\n",
      "4    5\n",
      "Name: A, dtype: int64\n",
      "\n",
      "Pandas DataFrame:\n",
      "   ColumnA ColumnB\n",
      "0        1       A\n",
      "1        2       B\n",
      "2        3       C\n",
      "3        4       D\n",
      "4        5       E\n"
     ]
    }
   ],
   "source": [
    "\n",
    "# Creating a Pandas Series\n",
    "s = pd.Series([1, 2, 3, 4, 5], name='A')\n",
    "\n",
    "# Creating a Pandas DataFrame\n",
    "data = {\n",
    "    'ColumnA': [1, 2, 3, 4, 5],\n",
    "    'ColumnB': ['A', 'B', 'C', 'D', 'E']\n",
    "}\n",
    "df = pd.DataFrame(data)\n",
    "\n",
    "# Printing the Series and DataFrame\n",
    "print(\"Pandas Series:\")\n",
    "print(s)\n",
    "print(\"\\nPandas DataFrame:\")\n",
    "print(df)\n"
   ]
  },
  {
   "cell_type": "markdown",
   "id": "ad19f45d",
   "metadata": {},
   "source": [
    "# 5."
   ]
  },
  {
   "cell_type": "markdown",
   "id": "baf7d5dd",
   "metadata": {},
   "source": [
    "Pandas provides a wide range of functions and methods for manipulating data within a DataFrame."
   ]
  },
  {
   "cell_type": "markdown",
   "id": "57eff35b",
   "metadata": {},
   "source": [
    " Data Selection and Filtering:"
   ]
  },
  {
   "cell_type": "code",
   "execution_count": null,
   "id": "83e08cd0",
   "metadata": {},
   "outputs": [],
   "source": [
    "    # Select rows where 'Age' is greater than 25\n",
    "filtered_df = df[df['Age'] > 25]"
   ]
  },
  {
   "cell_type": "markdown",
   "id": "16293f64",
   "metadata": {},
   "source": [
    "Sorting Data:\n",
    "    \n",
    "    "
   ]
  },
  {
   "cell_type": "code",
   "execution_count": null,
   "id": "999b4605",
   "metadata": {},
   "outputs": [],
   "source": [
    "# Sort the DataFrame by the 'Age' column in descending order\n",
    "sorted_df = df.sort_values(by='Age', ascending=False)\n"
   ]
  },
  {
   "cell_type": "markdown",
   "id": "7102358e",
   "metadata": {},
   "source": [
    "Merging and Joining Data"
   ]
  },
  {
   "cell_type": "code",
   "execution_count": null,
   "id": "76812ba1",
   "metadata": {},
   "outputs": [],
   "source": [
    "# Concatenate two DataFrames vertically\n",
    "concatenated_df = pd.concat([df1, df2], axis=0)\n"
   ]
  },
  {
   "cell_type": "markdown",
   "id": "fbb82d60",
   "metadata": {},
   "source": [
    "# 6."
   ]
  },
  {
   "cell_type": "markdown",
   "id": "676c00ee",
   "metadata": {},
   "source": [
    "Series: A Pandas Series is a one-dimensional, labeled array and is mutable in nature. You can change the values within a Series after it's created.\n",
    "\n",
    "DataFrame: A Pandas DataFrame is a two-dimensional, labeled data structure and is also mutable. You can modify the data within a DataFrame, including adding, updating, or deleting rows and columns."
   ]
  },
  {
   "cell_type": "markdown",
   "id": "e970f564",
   "metadata": {},
   "source": [
    "# 7."
   ]
  },
  {
   "cell_type": "markdown",
   "id": "8ed098fe",
   "metadata": {},
   "source": [
    "To create a DataFrame using multiple Series in Pandas, you can combine these Series into a DataFrame where each Series represents a column in the DataFrame."
   ]
  },
  {
   "cell_type": "code",
   "execution_count": 27,
   "id": "8d93dc49",
   "metadata": {},
   "outputs": [
    {
     "name": "stdout",
     "output_type": "stream",
     "text": [
      "   A     Name Age\n",
      "0  1    Alice  25\n",
      "1  2      Bob  30\n",
      "2  3  Charlie  22\n",
      "3  4    David  28\n"
     ]
    }
   ],
   "source": [
    "\n",
    "# Create multiple Pandas Series\n",
    "series1 = pd.Series([1, 2, 3, 4], name='A')\n",
    "series2 = pd.Series(['Alice', 'Bob', 'Charlie', 'David'], name='Name')\n",
    "series3 = pd.Series([25, 30, 22, 28], name='Age')\n",
    "\n",
    "# Combine the Series into a DataFrame\n",
    "df = pd.DataFrame([series1, series2, series3])\n",
    "\n",
    "# Transpose the DataFrame to have Series as columns\n",
    "df = df.transpose()\n",
    "\n",
    "# Print the resulting DataFrame\n",
    "print(df)\n"
   ]
  },
  {
   "cell_type": "code",
   "execution_count": null,
   "id": "f3be366f",
   "metadata": {},
   "outputs": [],
   "source": []
  }
 ],
 "metadata": {
  "kernelspec": {
   "display_name": "Python 3 (ipykernel)",
   "language": "python",
   "name": "python3"
  },
  "language_info": {
   "codemirror_mode": {
    "name": "ipython",
    "version": 3
   },
   "file_extension": ".py",
   "mimetype": "text/x-python",
   "name": "python",
   "nbconvert_exporter": "python",
   "pygments_lexer": "ipython3",
   "version": "3.10.9"
  }
 },
 "nbformat": 4,
 "nbformat_minor": 5
}
