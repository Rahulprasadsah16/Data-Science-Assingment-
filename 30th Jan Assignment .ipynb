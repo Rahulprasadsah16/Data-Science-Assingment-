{
 "cells": [
  {
   "cell_type": "markdown",
   "id": "1a52c12f",
   "metadata": {},
   "source": [
    "# 1."
   ]
  },
  {
   "cell_type": "code",
   "execution_count": 2,
   "id": "54f091e7",
   "metadata": {},
   "outputs": [
    {
     "name": "stdout",
     "output_type": "stream",
     "text": [
      "Enter your perctange 70\n",
      "You received grade C\n"
     ]
    }
   ],
   "source": [
    "percent= int(input(\"Enter your perctange \"))\n",
    "if percent >90:\n",
    "   print(\"You recieved grade A\")\n",
    "elif percent >80 and percent <=90:\n",
    "   print(\"You received grade B\")\n",
    "elif percent >=60 and percent <=80:\n",
    "   print(\"You received grade C\") \n",
    "else:\n",
    "  print(\"You received grade D\")"
   ]
  },
  {
   "cell_type": "markdown",
   "id": "87c931a3",
   "metadata": {},
   "source": [
    "# 2."
   ]
  },
  {
   "cell_type": "code",
   "execution_count": 3,
   "id": "70c06ee6",
   "metadata": {},
   "outputs": [
    {
     "name": "stdout",
     "output_type": "stream",
     "text": [
      "Enter the cost price of Bike45000\n",
      "Your calculated tax is 5% \n"
     ]
    }
   ],
   "source": [
    "cost = int(input(\"Enter the cost price of Bike\"))\n",
    "if cost >100000:\n",
    "  print(\"Your calculated tax is 15%\")\n",
    "elif cost >50000 and cost <=100000:\n",
    "  print(\"Your calculated tax is 10%\")\n",
    "elif cost <=50000:\n",
    "  print(\"Your calculated tax is 5% \")"
   ]
  },
  {
   "cell_type": "markdown",
   "id": "57ecc081",
   "metadata": {},
   "source": [
    "# 3."
   ]
  },
  {
   "cell_type": "code",
   "execution_count": 4,
   "id": "7b2cc017",
   "metadata": {},
   "outputs": [
    {
     "name": "stdout",
     "output_type": "stream",
     "text": [
      "Enter any city name of your choice Agra\n",
      "Monument is Taj Mahal\n"
     ]
    }
   ],
   "source": [
    "city = str(input(\"Enter any city name of your choice \"))\n",
    "if city == 'Delhi' :\n",
    "  print(\"Monument is Red Fort\")\n",
    "elif city == 'Agra':\n",
    "  print(\"Monument is Taj Mahal\")\n",
    "elif city =='Jaipur':\n",
    "  print(\"Monument is Jal Mahal\") \n",
    "else:\n",
    "  print(\"Invalid City Name\")"
   ]
  },
  {
   "cell_type": "markdown",
   "id": "d7a938bf",
   "metadata": {},
   "source": [
    "# 4."
   ]
  },
  {
   "cell_type": "code",
   "execution_count": 5,
   "id": "c3dfc3c6",
   "metadata": {},
   "outputs": [
    {
     "name": "stdout",
     "output_type": "stream",
     "text": [
      "Enter a number: 7\n",
      "The number can be divided by 3 0 times before it is less than or equal to 10.\n"
     ]
    }
   ],
   "source": [
    "\n",
    "def count_divisions(number):\n",
    "    count = 0\n",
    "\n",
    "    while number > 10:\n",
    "        number /= 3\n",
    "        count += 1\n",
    "\n",
    "    return count\n",
    "\n",
    "# Test the function\n",
    "number = int(input(\"Enter a number: \"))\n",
    "result = count_divisions(number)\n",
    "print(\"The number can be divided by 3\", result, \"times before it is less than or equal to 10.\")\n"
   ]
  },
  {
   "cell_type": "markdown",
   "id": "851a2cf3",
   "metadata": {},
   "source": [
    "# 5."
   ]
  },
  {
   "cell_type": "markdown",
   "id": "fbdf6082",
   "metadata": {},
   "source": [
    "The while loop in Python is used to repeatedly execute a block of code as long as a certain condition is true. It is particularly useful when the number of iterations is unknown or when the loop needs to continue until a specific condition is met."
   ]
  },
  {
   "cell_type": "code",
   "execution_count": 6,
   "id": "4472213e",
   "metadata": {},
   "outputs": [
    {
     "name": "stdout",
     "output_type": "stream",
     "text": [
      "1\n",
      "2\n",
      "3\n",
      "4\n",
      "5\n",
      "6\n",
      "7\n",
      "8\n",
      "9\n",
      "10\n"
     ]
    }
   ],
   "source": [
    "num = 1\n",
    "while num <= 10:\n",
    "    print(num)\n",
    "    num += 1\n"
   ]
  },
  {
   "cell_type": "markdown",
   "id": "8160ecd9",
   "metadata": {},
   "source": [
    "# 6."
   ]
  },
  {
   "cell_type": "code",
   "execution_count": 7,
   "id": "28eb25af",
   "metadata": {},
   "outputs": [
    {
     "name": "stdout",
     "output_type": "stream",
     "text": [
      "*\n",
      "**\n",
      "***\n",
      "****\n",
      "*****\n"
     ]
    }
   ],
   "source": [
    " # Pattern 1\n",
    "    \n",
    "row = 1\n",
    "while row <= 5:\n",
    "    col = 1\n",
    "    while col <= row:\n",
    "        print(\"*\", end=\"\")\n",
    "        col += 1\n",
    "    print()\n",
    "    row += 1\n"
   ]
  },
  {
   "cell_type": "code",
   "execution_count": 8,
   "id": "242bb2af",
   "metadata": {},
   "outputs": [
    {
     "name": "stdout",
     "output_type": "stream",
     "text": [
      "12345\n",
      "1234\n",
      "123\n",
      "12\n",
      "1\n"
     ]
    }
   ],
   "source": [
    "# Pattern 2\n",
    "\n",
    "row = 5\n",
    "while row >= 1:\n",
    "    col = 1\n",
    "    while col <= row:\n",
    "        print(col, end=\"\")\n",
    "        col += 1\n",
    "    print()\n",
    "    row -= 1\n"
   ]
  },
  {
   "cell_type": "code",
   "execution_count": 9,
   "id": "5a4f653f",
   "metadata": {},
   "outputs": [
    {
     "name": "stdout",
     "output_type": "stream",
     "text": [
      "    *\n",
      "   **\n",
      "  ***\n",
      " ****\n",
      "*****\n"
     ]
    }
   ],
   "source": [
    "# Pattern 3\n",
    "\n",
    "row = 1\n",
    "while row <= 5:\n",
    "    space = 5 - row\n",
    "    while space > 0:\n",
    "        print(\" \", end=\"\")\n",
    "        space -= 1\n",
    "\n",
    "    col = 1\n",
    "    while col <= row:\n",
    "        print(\"*\", end=\"\")\n",
    "        col += 1\n",
    "\n",
    "    print()\n",
    "    row += 1\n"
   ]
  },
  {
   "cell_type": "markdown",
   "id": "578686a8",
   "metadata": {},
   "source": [
    "# 7."
   ]
  },
  {
   "cell_type": "code",
   "execution_count": 10,
   "id": "8fd9e6eb",
   "metadata": {
    "scrolled": true
   },
   "outputs": [
    {
     "name": "stdout",
     "output_type": "stream",
     "text": [
      "10\n",
      "9\n",
      "8\n",
      "7\n",
      "6\n",
      "5\n",
      "4\n",
      "3\n",
      "2\n",
      "1\n"
     ]
    }
   ],
   "source": [
    "# Reverse a while loop to display numbers from 10 to 1. \n",
    "num = 10\n",
    "while num >= 1:\n",
    "    print(num)\n",
    "    num -= 1\n"
   ]
  }
 ],
 "metadata": {
  "kernelspec": {
   "display_name": "Python 3 (ipykernel)",
   "language": "python",
   "name": "python3"
  },
  "language_info": {
   "codemirror_mode": {
    "name": "ipython",
    "version": 3
   },
   "file_extension": ".py",
   "mimetype": "text/x-python",
   "name": "python",
   "nbconvert_exporter": "python",
   "pygments_lexer": "ipython3",
   "version": "3.9.12"
  }
 },
 "nbformat": 4,
 "nbformat_minor": 5
}
