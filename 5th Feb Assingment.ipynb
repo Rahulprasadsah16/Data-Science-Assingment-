{
 "cells": [
  {
   "cell_type": "markdown",
   "id": "54560ddc",
   "metadata": {},
   "source": [
    "# 1."
   ]
  },
  {
   "cell_type": "markdown",
   "id": "4e5ac8c7",
   "metadata": {},
   "source": [
    "In object-oriented programming, a class is a blueprint or a template that defines the structure and behavior of objects. It serves as a blueprint for creating objects, which are instances of the class.\n",
    "\n",
    "An object is a specific instance of a class that encapsulates data and methods (functions) that operate on that data."
   ]
  },
  {
   "cell_type": "code",
   "execution_count": 2,
   "id": "2f824300",
   "metadata": {},
   "outputs": [],
   "source": [
    "class Invertis :\n",
    "\n",
    "  def __init__(self,phone_no, email_id, student_id):\n",
    "    self.phone_no = phone_no\n",
    "    self.email_id = email_id\n",
    "    self.student_id = student_id\n",
    "\n",
    "  def return_student_details(self) :\n",
    "      return self.student_id, self.phone_no , self.email_id "
   ]
  },
  {
   "cell_type": "code",
   "execution_count": 3,
   "id": "72bb08b4",
   "metadata": {},
   "outputs": [],
   "source": [
    "rohan = Invertis(12233333345, \"rohan123@gmail.com\", 101)"
   ]
  },
  {
   "cell_type": "code",
   "execution_count": 4,
   "id": "1dbd31f5",
   "metadata": {},
   "outputs": [
    {
     "data": {
      "text/plain": [
       "(101, 12233333345, 'rohan123@gmail.com')"
      ]
     },
     "execution_count": 4,
     "metadata": {},
     "output_type": "execute_result"
    }
   ],
   "source": [
    "rohan.return_student_details() "
   ]
  },
  {
   "cell_type": "markdown",
   "id": "b8f4b108",
   "metadata": {},
   "source": [
    "# 2."
   ]
  },
  {
   "cell_type": "markdown",
   "id": "b37a9a5d",
   "metadata": {},
   "source": [
    "The four pillars of object-oriented programming (OOP) are:"
   ]
  },
  {
   "cell_type": "markdown",
   "id": "c8dfef31",
   "metadata": {},
   "source": [
    "1. Encapsulation: Encapsulation is the practice of hiding internal data and methods of an object and providing external interfaces to interact with the object. It allows for data abstraction and protects the internal state of an object from being accessed directly. "
   ]
  },
  {
   "cell_type": "markdown",
   "id": "55c08f45",
   "metadata": {},
   "source": [
    "2. Inheritance: Inheritance is a mechanism that allows a class to inherit properties and behaviors from another class, known as the parent or base class. The class inheriting from the parent class is called the child or derived class."
   ]
  },
  {
   "cell_type": "markdown",
   "id": "083efa51",
   "metadata": {},
   "source": [
    "3. Polymorphism: Polymorphism allows objects of different classes to be treated as objects of a common superclass. It refers to the ability of an object to take on different forms or respond differently to the same method call based on the object's specific type. "
   ]
  },
  {
   "cell_type": "markdown",
   "id": "43f7d45e",
   "metadata": {},
   "source": [
    "4. Abstraction: Abstraction is the process of simplifying complex systems by breaking them down into smaller, more manageable modules. It involves focusing on essential features while hiding unnecessary details."
   ]
  },
  {
   "cell_type": "markdown",
   "id": "8aaba564",
   "metadata": {},
   "source": [
    "These four pillars of OOP provide a foundation for building efficient, maintainable, and scalable software systems by emphasizing code organization, code reuse, and flexibility."
   ]
  },
  {
   "cell_type": "markdown",
   "id": "7c890336",
   "metadata": {},
   "source": [
    "# 3."
   ]
  },
  {
   "cell_type": "markdown",
   "id": "c6d67c5e",
   "metadata": {},
   "source": [
    "The __init__() function, also known as the constructor, is a special method in Python classes. It is automatically called when an object of a class is created. The primary purpose of the __init__() function is to initialize the attributes of an object with specific values or perform any other necessary setup actions."
   ]
  },
  {
   "cell_type": "code",
   "execution_count": 6,
   "id": "340eb54c",
   "metadata": {},
   "outputs": [
    {
     "name": "stdout",
     "output_type": "stream",
     "text": [
      "My name is Aish and I am 25 years old.\n",
      "My name is Rahul and I am 30 years old.\n"
     ]
    }
   ],
   "source": [
    "class Person:\n",
    "    def __init__(self, name, age):\n",
    "        self.name = name\n",
    "        self.age = age\n",
    "\n",
    "    def introduce(self):\n",
    "        print(f\"My name is {self.name} and I am {self.age} years old.\")\n",
    "\n",
    "\n",
    "person1 = Person(\"Aish\", 25)\n",
    "person2 = Person(\"Rahul\", 30)\n",
    "\n",
    "person1.introduce()  \n",
    "person2.introduce()  \n"
   ]
  },
  {
   "cell_type": "markdown",
   "id": "522e6153",
   "metadata": {},
   "source": [
    "# 4."
   ]
  },
  {
   "cell_type": "markdown",
   "id": "5c97155f",
   "metadata": {},
   "source": [
    "Self is a conventionally used parameter name in method definitions within a class. It represents the instance of the class, i.e., the specific object on which the method is being called. The use of self is essential to access the attributes and methods of the object within its own class."
   ]
  },
  {
   "cell_type": "markdown",
   "id": "5593a2aa",
   "metadata": {},
   "source": [
    "Self is used in OOPs becouse it is :\n",
    "1. Object Referencing\n",
    "2. Attribute Access\n",
    "3. Method Invocation\n",
    "4. Multiple Instances\n",
    "5. Clarity and Convention\n",
    "    "
   ]
  },
  {
   "cell_type": "markdown",
   "id": "b329fc3e",
   "metadata": {},
   "source": [
    "# 5."
   ]
  },
  {
   "cell_type": "markdown",
   "id": "bb2fff14",
   "metadata": {},
   "source": [
    "Inheritance is a fundamental concept in OOPs, that allows a class to inherit attributes and behaviors from another class. The class that inherits is called the derived class, subclass, or child class, and the class from which it inherits is called the base class, superclass, or parent class. Inheritance promotes code reuse, extensibility, and the creation of hierarchical relationships among classes."
   ]
  },
  {
   "cell_type": "markdown",
   "id": "d64c7d6b",
   "metadata": {},
   "source": [
    "There are different types of inheritance are :\n",
    "1. Single Inheritance\n",
    "    "
   ]
  },
  {
   "cell_type": "code",
   "execution_count": 8,
   "id": "26c22cd5",
   "metadata": {},
   "outputs": [
    {
     "name": "stdout",
     "output_type": "stream",
     "text": [
      "Animal is eating.\n",
      "Dog is barking.\n"
     ]
    }
   ],
   "source": [
    "class Animal:\n",
    "    def eat(self):\n",
    "        print(\"Animal is eating.\")\n",
    "\n",
    "class Dog(Animal):\n",
    "    def bark(self):\n",
    "        print(\"Dog is barking.\")\n",
    "\n",
    "\n",
    "dog = Dog()\n",
    "dog.eat()  \n",
    "dog.bark()  \n"
   ]
  },
  {
   "cell_type": "markdown",
   "id": "4b57c280",
   "metadata": {},
   "source": [
    " 2. Multiple Inheritance:"
   ]
  },
  {
   "cell_type": "code",
   "execution_count": 9,
   "id": "3936b0d3",
   "metadata": {},
   "outputs": [
    {
     "name": "stdout",
     "output_type": "stream",
     "text": [
      "Animal is eating.\n",
      "Mammal is feeding its baby.\n",
      "Dog is barking.\n"
     ]
    }
   ],
   "source": [
    "class Animal:\n",
    "    def eat(self):\n",
    "        print(\"Animal is eating.\")\n",
    "\n",
    "\n",
    "class Mammal:\n",
    "    def feed_baby(self):\n",
    "        print(\"Mammal is feeding its baby.\")\n",
    "\n",
    "\n",
    "class Dog(Animal, Mammal):\n",
    "    def bark(self):\n",
    "        print(\"Dog is barking.\")\n",
    "\n",
    "\n",
    "dog = Dog()\n",
    "dog.eat()  \n",
    "dog.feed_baby()  \n",
    "dog.bark()  \n"
   ]
  },
  {
   "cell_type": "markdown",
   "id": "e04d788c",
   "metadata": {},
   "source": [
    "3. Multilevel Inheritance:"
   ]
  },
  {
   "cell_type": "code",
   "execution_count": 10,
   "id": "760d15ab",
   "metadata": {},
   "outputs": [
    {
     "name": "stdout",
     "output_type": "stream",
     "text": [
      "Animal is eating.\n",
      "Dog is barking.\n",
      "Bulldog is guarding.\n"
     ]
    }
   ],
   "source": [
    "class Animal:\n",
    "    def eat(self):\n",
    "        print(\"Animal is eating.\")\n",
    "\n",
    "\n",
    "class Dog(Animal):\n",
    "    def bark(self):\n",
    "        print(\"Dog is barking.\")\n",
    "\n",
    "\n",
    "class Bulldog(Dog):\n",
    "    def guard(self):\n",
    "        print(\"Bulldog is guarding.\")\n",
    "\n",
    "\n",
    "bulldog = Bulldog()\n",
    "bulldog.eat()  \n",
    "bulldog.bark()  \n",
    "bulldog.guard()  \n"
   ]
  },
  {
   "cell_type": "code",
   "execution_count": null,
   "id": "096faf7f",
   "metadata": {},
   "outputs": [],
   "source": []
  }
 ],
 "metadata": {
  "kernelspec": {
   "display_name": "Python 3 (ipykernel)",
   "language": "python",
   "name": "python3"
  },
  "language_info": {
   "codemirror_mode": {
    "name": "ipython",
    "version": 3
   },
   "file_extension": ".py",
   "mimetype": "text/x-python",
   "name": "python",
   "nbconvert_exporter": "python",
   "pygments_lexer": "ipython3",
   "version": "3.9.12"
  }
 },
 "nbformat": 4,
 "nbformat_minor": 5
}
