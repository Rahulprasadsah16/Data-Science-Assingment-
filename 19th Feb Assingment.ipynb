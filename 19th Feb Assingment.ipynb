{
 "cells": [
  {
   "cell_type": "markdown",
   "id": "2c76db0e",
   "metadata": {},
   "source": [
    "# 1."
   ]
  },
  {
   "cell_type": "markdown",
   "id": "fe950f6f",
   "metadata": {},
   "source": [
    "Flask is a micro web framework for Python that is designed to be simple, lightweight, and easy to use. It provides the basic tools and features needed to build web applications, while allowing developers the flexibility to choose and integrate additional components as needed. Flask doesn't impose a rigid structure on your application, which gives you the freedom to organize your code in a way that makes sense for your project.\n",
    "\n",
    "Advantages of Flask Framework:\n",
    "\n",
    "Simplicity and Minimalism: Flask follows the principle of \"micro\" in micro-framework. It provides the essentials needed to build a web application without adding unnecessary layers of complexity. This simplicity makes it easy to learn, use, and understand.\n",
    "\n",
    "Flexibility: Flask doesn't dictate how you should structure your application. It leaves architectural decisions to the developer, allowing you to choose the components and libraries that fit your project's requirements.\n",
    "\n",
    "Modularity: Flask is built around the concept of modular components. You can use extensions to add functionalities like database integration, authentication, form handling, and more. This modularity keeps your codebase clean and only includes what you need."
   ]
  },
  {
   "cell_type": "markdown",
   "id": "8e3eb7c0",
   "metadata": {},
   "source": [
    "# 2."
   ]
  },
  {
   "cell_type": "code",
   "execution_count": 4,
   "id": "c634dc54",
   "metadata": {},
   "outputs": [
    {
     "name": "stdout",
     "output_type": "stream",
     "text": [
      " * Serving Flask app '__main__'\n",
      " * Debug mode: off\n"
     ]
    },
    {
     "name": "stderr",
     "output_type": "stream",
     "text": [
      "WARNING: This is a development server. Do not use it in a production deployment. Use a production WSGI server instead.\n",
      " * Running on all addresses (0.0.0.0)\n",
      " * Running on http://127.0.0.1:5000\n",
      " * Running on http://192.168.29.50:5000\n",
      "Press CTRL+C to quit\n"
     ]
    }
   ],
   "source": [
    "from flask import Flask\n",
    "app = Flask(__name__)\n",
    "\n",
    "@app.route(\"/test\")\n",
    "def hello_world():\n",
    "    return \"<h1>Hello, World!!</h1>\"\n",
    "\n",
    "if __name__==\"__main__\":\n",
    "    app.run(host=\"0.0.0.0\") "
   ]
  },
  {
   "attachments": {
    "image.png": {
     "image/png": "[encoded data removed]"
    }
   },
   "cell_type": "markdown",
   "id": "487b65fd",
   "metadata": {},
   "source": [
    "![image.png](attachment:image.png)"
   ]
  },
  {
   "cell_type": "markdown",
   "id": "8ab9dbbc",
   "metadata": {},
   "source": [
    "# 3."
   ]
  },
  {
   "cell_type": "markdown",
   "id": "ac852784",
   "metadata": {},
   "source": [
    "In Flask, routing refers to the process of mapping URL paths to specific functions or view handlers in your application. When a user accesses a specific URL in their web browser or sends an HTTP request, the Flask application needs to know which function should be executed to generate the appropriate response. This is where app routes come into play.\n",
    "\n",
    "App routes in Flask are created using the @app.route() decorator. A decorator is a way to modify or enhance a function in Python. By using the @app.route() decorator, you're telling Flask that a particular function should be associated with a specific URL route."
   ]
  },
  {
   "cell_type": "markdown",
   "id": "35f9e677",
   "metadata": {},
   "source": [
    "App routes are used for several important reasons:\n",
    "\n",
    "URL Mapping: App routes provide a clean way to map URLs to specific functions. This helps organize your code and makes it easy to manage different parts of your application.\n",
    "\n",
    "User Experience: Routing allows users to access different sections or pages of your application by simply entering URLs in their browser. This is crucial for creating a smooth and intuitive user experience.\n",
    "\n",
    "Separation of Concerns: App routes help separate different functionalities of your application into distinct functions. This follows the principle of \"separation of concerns,\" making your codebase more maintainable and easier to understand.\n",
    "\n",
    "Code Reusability: With app routes, you can define functions that handle specific tasks or features. These functions can be reused across different routes, promoting code reusability.\n",
    "\n",
    "Dynamic Routes: Flask also supports dynamic routes where parts of the URL can change and be captured as function parameters. This is useful for handling variable data like user IDs, post slugs, etc."
   ]
  },
  {
   "cell_type": "markdown",
   "id": "6f4023c9",
   "metadata": {},
   "source": [
    "# 4."
   ]
  },
  {
   "cell_type": "code",
   "execution_count": 5,
   "id": "4d09c124",
   "metadata": {},
   "outputs": [
    {
     "name": "stdout",
     "output_type": "stream",
     "text": [
      " * Serving Flask app '__main__'\n",
      " * Debug mode: off\n"
     ]
    },
    {
     "name": "stderr",
     "output_type": "stream",
     "text": [
      "WARNING: This is a development server. Do not use it in a production deployment. Use a production WSGI server instead.\n",
      " * Running on all addresses (0.0.0.0)\n",
      " * Running on http://127.0.0.1:5000\n",
      " * Running on http://192.168.29.50:5000\n",
      "Press CTRL+C to quit\n"
     ]
    }
   ],
   "source": [
    "from flask import Flask\n",
    "app = Flask(__name__)\n",
    "\n",
    "@app.route('/welcome')\n",
    "def welcome():\n",
    "    return 'Welcome to ABC Corporation'\n",
    "\n",
    "@app.route('/')\n",
    "def company_details():\n",
    "    return '''\n",
    "    Company Name: ABC Corporation\n",
    "    Location: India\n",
    "    Contact Detail: 999-999-9999\n",
    "    '''\n",
    "\n",
    "if __name__==\"__main__\":\n",
    "    app.run(host=\"0.0.0.0\") "
   ]
  },
  {
   "attachments": {
    "image.png": {
     "image/png": "[encoded data removed]"
    }
   },
   "cell_type": "markdown",
   "id": "f3e24256",
   "metadata": {},
   "source": [
    "![image.png](attachment:image.png)"
   ]
  },
  {
   "attachments": {
    "image.png": {
     "image/png": "[encoded data removed]"
    }
   },
   "cell_type": "markdown",
   "id": "2004b52f",
   "metadata": {},
   "source": [
    "![image.png](attachment:image.png)"
   ]
  },
  {
   "cell_type": "markdown",
   "id": "6f2504cd",
   "metadata": {},
   "source": [
    "# 5."
   ]
  },
  {
   "cell_type": "markdown",
   "id": "1a0ecef4",
   "metadata": {},
   "source": [
    "In Flask, the url_for() function is used for URL building. It generates a URL for a given endpoint (view function) and any arguments provided to it. This function is useful because it abstracts the URL generation process and helps you avoid hardcoding URLs in your templates or views, making your application more flexible to changes in routing.\n",
    "\n",
    "Here's an example of how the url_for() function works:"
   ]
  },
  {
   "cell_type": "code",
   "execution_count": null,
   "id": "18ba36aa",
   "metadata": {},
   "outputs": [],
   "source": [
    "from flask import Flask, url_for\n",
    "\n",
    "app = Flask(__name__)\n",
    "\n",
    "@app.route('/')\n",
    "def index():\n",
    "    return 'Welcome to the homepage!'\n",
    "\n",
    "@app.route('/user/<username>')\n",
    "def user_profile(username):\n",
    "    return f'Welcome to {username}\\'s profile page!'\n",
    "\n",
    "if __name__ == '__main__':\n",
    "    with app.test_request_context():\n",
    "        print(url_for('index'))  # Output: /\n",
    "        print(url_for('user_profile', username='john'))  # Output: /user/john\n"
   ]
  },
  {
   "cell_type": "code",
   "execution_count": null,
   "id": "64d02bc3",
   "metadata": {},
   "outputs": [],
   "source": []
  }
 ],
 "metadata": {
  "kernelspec": {
   "display_name": "Python 3 (ipykernel)",
   "language": "python",
   "name": "python3"
  },
  "language_info": {
   "codemirror_mode": {
    "name": "ipython",
    "version": 3
   },
   "file_extension": ".py",
   "mimetype": "text/x-python",
   "name": "python",
   "nbconvert_exporter": "python",
   "pygments_lexer": "ipython3",
   "version": "3.10.9"
  }
 },
 "nbformat": 4,
 "nbformat_minor": 5
}
