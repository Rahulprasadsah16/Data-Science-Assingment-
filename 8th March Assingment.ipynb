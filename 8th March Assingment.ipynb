{
 "cells": [
  {
   "cell_type": "markdown",
   "id": "3cab780e",
   "metadata": {},
   "source": [
    "# 1."
   ]
  },
  {
   "cell_type": "markdown",
   "id": "d7d6b56d",
   "metadata": {},
   "source": [
    "The Probability Density Function (PDF) is a concept in probability theory and statistics that describes the likelihood of a continuous random variable falling within a particular range of values. For discrete random variables, a similar concept is called the Probability Mass Function (PMF)."
   ]
  },
  {
   "cell_type": "markdown",
   "id": "9f4d6007",
   "metadata": {},
   "source": [
    "# 2."
   ]
  },
  {
   "cell_type": "markdown",
   "id": "9bc5ad26",
   "metadata": {},
   "source": [
    "There are several types of probability distributions, and they can be broadly categorized into two main types: discrete probability distributions and continuous probability distributions.\n",
    "\n",
    "Discrete Probability Distributions:\n",
    "\n",
    "Bernoulli Distribution: \n",
    "A distribution for a random variable that can take on only two possible outcomes, typically labeled as success and failure.\n",
    "\n",
    "Binomial Distribution:\n",
    "Describes the number of successes in a fixed number of independent Bernoulli trials.\n",
    "\n",
    "Poisson Distribution:\n",
    "Models the number of events occurring within a fixed interval of time or space.\n",
    "Continuous Probability Distributions:\n",
    "\n",
    "Normal (Gaussian) Distribution: \n",
    "A symmetric, bell-shaped distribution that is characterized by its mean and standard deviation. Many natural phenomena follow a normal distribution.\n",
    "\n"
   ]
  },
  {
   "cell_type": "markdown",
   "id": "84134986",
   "metadata": {},
   "source": [
    "# 3."
   ]
  },
  {
   "cell_type": "code",
   "execution_count": 2,
   "id": "e4e37cf3",
   "metadata": {},
   "outputs": [
    {
     "name": "stdout",
     "output_type": "stream",
     "text": [
      "The PDF at 1.5 is: 0.12951759566589174\n"
     ]
    }
   ],
   "source": [
    "import math\n",
    "\n",
    "def normal_pdf(x, mean, std_dev):\n",
    "    \n",
    "    coefficient = 1 / (std_dev * math.sqrt(2 * math.pi))\n",
    "    exponent = -0.5 * ((x - mean) / std_dev)**2\n",
    "    pdf_value = coefficient * math.exp(exponent)\n",
    "    return pdf_value\n",
    "\n",
    "# Example usage:\n",
    "mean_value = 0\n",
    "std_dev_value = 1\n",
    "point = 1.5\n",
    "\n",
    "pdf_result = normal_pdf(point, mean_value, std_dev_value)\n",
    "print(f\"The PDF at {point} is: {pdf_result}\")\n"
   ]
  },
  {
   "cell_type": "markdown",
   "id": "b351ff86",
   "metadata": {},
   "source": [
    "# 4."
   ]
  },
  {
   "cell_type": "markdown",
   "id": "f3883b92",
   "metadata": {},
   "source": [
    "The Binomial distribution is a discrete probability distribution that describes the number of successes in a fixed number of independent and identically distributed Bernoulli trials, where each trial has only two possible outcomes: success or failure. The properties of the Binomial distribution include:"
   ]
  },
  {
   "cell_type": "markdown",
   "id": "7ae0d063",
   "metadata": {},
   "source": [
    "Number of Trials (n): The distribution is characterized by the number of trials, denoted as n, which represents the fixed number of independent trials.\n",
    "\n",
    "Probability of Success (p): Each trial has a probability of success, denoted as p, and the probability of failure is 1−p.\n",
    "\n",
    "Independence: The trials must be independent, meaning the outcome of one trial does not influence the outcome of another.\n",
    "\n",
    "Discreteness: The random variable representing the number of successes is discrete, taking on non-negative integer values from 0 to n. to n.\n",
    "\n",
    "Probability Mass Function (PMF): The probability mass function of the Binomial distribution is given by the formula:(=\n",
    "\n",
    "P(X=k)=( k^n)p^k(1−p)^n−k\n",
    " "
   ]
  },
  {
   "cell_type": "markdown",
   "id": "c9ecbf2c",
   "metadata": {},
   "source": [
    "# 5."
   ]
  },
  {
   "cell_type": "code",
   "execution_count": 3,
   "id": "cf39801a",
   "metadata": {},
   "outputs": [
    {
     "data": {
      "image/png": "[encoded data removed]",
      "text/plain": [
       "<Figure size 640x480 with 1 Axes>"
      ]
     },
     "metadata": {},
     "output_type": "display_data"
    }
   ],
   "source": [
    "import numpy as np\n",
    "import matplotlib.pyplot as plt\n",
    "\n",
    "# Set the seed for reproducibility\n",
    "np.random.seed(42)\n",
    "\n",
    "# Parameters for the Binomial distribution\n",
    "n_trials = 1000  # Size of the sample\n",
    "p_success = 0.4  # Probability of success\n",
    "\n",
    "# Generate a random sample from a Binomial distribution\n",
    "binomial_sample = np.random.binomial(n=1, p=p_success, size=n_trials)\n",
    "\n",
    "# Plot the histogram\n",
    "plt.hist(binomial_sample, bins=[-0.5, 0.5, 1.5], edgecolor='black', align='mid')\n",
    "plt.title('Binomial Distribution - Random Sample')\n",
    "plt.xlabel('Outcome (0: Failure, 1: Success)')\n",
    "plt.ylabel('Frequency')\n",
    "plt.xticks([0, 1], ['Failure', 'Success'])\n",
    "plt.show()\n"
   ]
  },
  {
   "cell_type": "markdown",
   "id": "02da9db6",
   "metadata": {},
   "source": [
    "# 6."
   ]
  },
  {
   "cell_type": "code",
   "execution_count": 4,
   "id": "ded7a399",
   "metadata": {},
   "outputs": [
    {
     "name": "stdout",
     "output_type": "stream",
     "text": [
      "The CDF at 3 is: 0.7575761331330659\n"
     ]
    }
   ],
   "source": [
    "import math\n",
    "\n",
    "def poisson_cdf(k, mean):\n",
    "   \n",
    "    cdf_value = 0\n",
    "    for i in range(k + 1):\n",
    "        cdf_value += (math.exp(-mean) * (mean ** i)) / math.factorial(i)\n",
    "    return cdf_value\n",
    "\n",
    "# Example usage:\n",
    "mean_value = 2.5\n",
    "point = 3\n",
    "\n",
    "cdf_result = poisson_cdf(point, mean_value)\n",
    "print(f\"The CDF at {point} is: {cdf_result}\")\n"
   ]
  },
  {
   "cell_type": "markdown",
   "id": "e50b98a0",
   "metadata": {},
   "source": [
    "# 7."
   ]
  },
  {
   "cell_type": "markdown",
   "id": "6de3cbd4",
   "metadata": {},
   "source": [
    "The Binomial distribution and the Poisson distribution are both probability distributions used to model the number of events or successes in a series of independent trials. However, they differ in their underlying assumptions and the situations in which they are most appropriate.\n",
    "\n",
    "1. Nature of Trials:\n",
    "\n",
    "Binomial Distribution: The Binomial distribution is applicable when there are a fixed number of independent trials, each with two possible outcomes (success or failure). The trials are discrete and mutually exclusive.\n",
    "Poisson Distribution: The Poisson distribution is used when the number of events in a fixed interval or region is considered, and the events occur independently. The trials are also discrete, but the number of trials is not fixed in advance.\n",
    "    \n",
    "2. Number of Trials:Binomial Distribution: Requires a fixed number of trials (n).\n",
    "        \n",
    "Poisson Distribution: Does not have a fixed number of trials; it models events occurring over a continuous interval.\n",
    "    \n",
    "3. Probability of Success:\n",
    "\n",
    "Binomial Distribution: Assumes a constant probability of success (p) in each trial.\n",
    "Poisson Distribution: Describes the occurrence of rare events where the probability of success is small, and the number of trials is large.\n",
    "\n",
    "5. Conditions:\n",
    "\n",
    "Binomial Distribution: Suitable for situations where the number of trials is fixed, and each trial has two possible outcomes.\n",
    "Poisson Distribution: Appropriate for rare events where the average rate of occurrence is known, and the events are independent."
   ]
  },
  {
   "cell_type": "markdown",
   "id": "c04d47a9",
   "metadata": {},
   "source": [
    "# 8."
   ]
  },
  {
   "cell_type": "code",
   "execution_count": 6,
   "id": "4a2b248f",
   "metadata": {},
   "outputs": [
    {
     "name": "stdout",
     "output_type": "stream",
     "text": [
      "Sample Mean: 4.985\n",
      "Sample Variance: 5.001776776776777\n"
     ]
    }
   ],
   "source": [
    "import numpy as np\n",
    "\n",
    "# Set the seed for reproducibility\n",
    "np.random.seed(42)\n",
    "\n",
    "# Parameters for the Poisson distribution\n",
    "mean_value = 5\n",
    "sample_size = 1000\n",
    "\n",
    "# Generate a random sample from a Poisson distribution\n",
    "poisson_sample = np.random.poisson(lam=mean_value, size=sample_size)\n",
    "\n",
    "# Calculate the sample mean and variance\n",
    "sample_mean = np.mean(poisson_sample)\n",
    "sample_variance = np.var(poisson_sample, ddof=1)  # ddof=1 for unbiased estimation\n",
    "\n",
    "# Print the results\n",
    "print(f\"Sample Mean: {sample_mean}\")\n",
    "print(f\"Sample Variance: {sample_variance}\")\n"
   ]
  },
  {
   "cell_type": "markdown",
   "id": "76b637f7",
   "metadata": {},
   "source": [
    "# 9."
   ]
  },
  {
   "cell_type": "markdown",
   "id": "719a76f4",
   "metadata": {},
   "source": [
    "n both the Binomial and Poisson distributions, the mean (μ) and variance (σ^2) are related, but the specific formulas differ based on the nature of each distribution.\n",
    "\n",
    "Binomial Distribution:\n",
    "For a Binomial distribution with parameters n (number of trials) and p (probability of success in a single trial), the mean and variance are related as follows:\n",
    "\n",
    "Mean (μ): = μ=np\n",
    "Variance (σ^2): σ^2 = np(1−p) \n",
    "\n",
    "In other words, the variance of a Binomial distribution is the product of the number of trials (n), the probability of success (p), and the probability of failure (1−p).\n",
    "\n",
    "Poisson Distribution:\n",
    "For a Poisson distribution with parameter λ (average rate of events occurring in a fixed interval), the mean and variance are the same:\n",
    "\n",
    "Mean (μ): μ=λ\n",
    "\n",
    "Variance (σ^2): σ^2=λ\n",
    "\n",
    "In the Poisson distribution, the mean and variance are both equal to the parameter λ. This property arises because the Poisson distribution models rare events where the average rate of occurrence (λ) is the key parameter, and the variance is directly tied to this rate."
   ]
  },
  {
   "cell_type": "markdown",
   "id": "b56d3914",
   "metadata": {},
   "source": [
    "# 10."
   ]
  },
  {
   "cell_type": "markdown",
   "id": "b3d70dca",
   "metadata": {},
   "source": [
    "In a normal distribution, also known as a Gaussian distribution or bell curve, the data is symmetrically distributed around the mean. The mean is the central point of the distribution, and the curve is symmetrically balanced on both sides of the mean. Therefore, the least frequent data points appear in the tails of the distribution, farthest away from the mean.\n",
    "\n",
    "In a standard normal distribution (with a mean of 0 and a standard deviation of 1), the tails extend infinitely in both directions. As you move away from the mean towards the tails, the data becomes less frequent. The tails represent the extreme values, and the probability of observing data points in these tails decreases rapidly."
   ]
  },
  {
   "cell_type": "code",
   "execution_count": null,
   "id": "d25623a1",
   "metadata": {},
   "outputs": [],
   "source": []
  }
 ],
 "metadata": {
  "kernelspec": {
   "display_name": "Python 3 (ipykernel)",
   "language": "python",
   "name": "python3"
  },
  "language_info": {
   "codemirror_mode": {
    "name": "ipython",
    "version": 3
   },
   "file_extension": ".py",
   "mimetype": "text/x-python",
   "name": "python",
   "nbconvert_exporter": "python",
   "pygments_lexer": "ipython3",
   "version": "3.10.9"
  }
 },
 "nbformat": 4,
 "nbformat_minor": 5
}
