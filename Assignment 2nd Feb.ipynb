{
 "cells": [
  {
   "cell_type": "markdown",
   "id": "47b8e6fb",
   "metadata": {},
   "source": [
    "1."
   ]
  },
  {
   "cell_type": "markdown",
   "id": "e16577e9",
   "metadata": {},
   "source": [
    "For and while loops are both control flow structures used in programming to execute a block of code repeatedly\n",
    "\n",
    "For Loop:\n",
    "\n",
    "Use a for loop when we know the number of iterations in advance or when we want to iterate over a sequence, such as a list or a range of numbers.\n",
    "The syntax of a for loop typically includes an initialization, a condition, and an increment or decrement statement."
   ]
  },
  {
   "cell_type": "code",
   "execution_count": 6,
   "id": "610eb3ff",
   "metadata": {},
   "outputs": [
    {
     "name": "stdout",
     "output_type": "stream",
     "text": [
      "1\n",
      "2\n",
      "3\n",
      "4\n",
      "5\n"
     ]
    }
   ],
   "source": [
    "for i in range(1, 6):\n",
    "    print(i)"
   ]
  },
  {
   "cell_type": "markdown",
   "id": "1fdb1162",
   "metadata": {},
   "source": [
    "While Loop:\n",
    "\n",
    "Use a while loop when we want to repeat a block of code until a specific condition becomes false. The number of iterations may not be known in advance.\n",
    "The syntax of a while loop includes a condition that is checked before each iteration."
   ]
  },
  {
   "cell_type": "code",
   "execution_count": 5,
   "id": "da0cd91b",
   "metadata": {},
   "outputs": [
    {
     "name": "stdout",
     "output_type": "stream",
     "text": [
      "1\n",
      "2\n",
      "3\n",
      "4\n",
      "5\n"
     ]
    }
   ],
   "source": [
    "i = 1\n",
    "while i <= 5:\n",
    "    print(i)\n",
    "    i += 1"
   ]
  },
  {
   "cell_type": "markdown",
   "id": "31a1c6bb",
   "metadata": {},
   "source": [
    "In this example, the while loop continues as long as the condition i <= 5 is true. The variable i is incremented by 1 in each iteration until it reaches 6, at which point the condition becomes false and the loop terminates."
   ]
  },
  {
   "cell_type": "markdown",
   "id": "9514b0be",
   "metadata": {},
   "source": [
    "2."
   ]
  },
  {
   "cell_type": "code",
   "execution_count": 7,
   "id": "8f7a812a",
   "metadata": {},
   "outputs": [
    {
     "name": "stdout",
     "output_type": "stream",
     "text": [
      "Sum: 55\n",
      "Product: 3628800\n"
     ]
    }
   ],
   "source": [
    "# Using for loop\n",
    "n = 10\n",
    "sum_result = 0\n",
    "product_result = 1\n",
    "\n",
    "for i in range(1, n + 1):\n",
    "    sum_result += i\n",
    "    product_result *= i\n",
    "\n",
    "print(\"Sum:\", sum_result)\n",
    "print(\"Product:\", product_result)\n"
   ]
  },
  {
   "cell_type": "code",
   "execution_count": 8,
   "id": "570b6788",
   "metadata": {},
   "outputs": [
    {
     "name": "stdout",
     "output_type": "stream",
     "text": [
      "Sum: 55\n",
      "Product: 3628800\n"
     ]
    }
   ],
   "source": [
    "# Using while loop\n",
    "n = 10\n",
    "sum_result = 0\n",
    "product_result = 1\n",
    "i = 1\n",
    "\n",
    "while i <= n:\n",
    "    sum_result += i\n",
    "    product_result *= i\n",
    "    i += 1\n",
    "\n",
    "print(\"Sum:\", sum_result)\n",
    "print(\"Product:\", product_result)\n"
   ]
  },
  {
   "cell_type": "markdown",
   "id": "416f1dc5",
   "metadata": {},
   "source": [
    "3."
   ]
  },
  {
   "cell_type": "code",
   "execution_count": 13,
   "id": "a9e7968b",
   "metadata": {},
   "outputs": [
    {
     "name": "stdout",
     "output_type": "stream",
     "text": [
      "Enter the number of units consumed: 310\n",
      "Electricity Bill Amount: Rs. 2250.0\n"
     ]
    }
   ],
   "source": [
    "# Function to calculate electricity bill\n",
    "\n",
    "def calculate_electricity_bill(units):\n",
    "    total_bill = 0\n",
    "\n",
    "    if units <= 100:\n",
    "        total_bill = units * 4.5\n",
    "    elif units <= 200:\n",
    "        total_bill = 100 * 4.5 + (units - 100) * 6\n",
    "    elif units <= 300:\n",
    "        total_bill = 100 * 4.5 + 100 * 6 + (units - 200) * 10\n",
    "    else:\n",
    "        total_bill = 100 * 4.5 + 100 * 6 + 100 * 10 + (units - 300) * 20\n",
    "\n",
    "    return total_bill\n",
    "\n",
    "\n",
    "\n",
    "units_consumed = int(input(\"Enter the number of units consumed: \"))\n",
    "\n",
    "bill_amount = calculate_electricity_bill(units_consumed)\n",
    "\n",
    "print(\"Electricity Bill Amount: Rs.\", bill_amount)\n"
   ]
  },
  {
   "cell_type": "markdown",
   "id": "45a9c7a4",
   "metadata": {},
   "source": [
    "4."
   ]
  },
  {
   "cell_type": "markdown",
   "id": "e0ee9ec1",
   "metadata": {},
   "source": [
    "Using For Loop :"
   ]
  },
  {
   "cell_type": "code",
   "execution_count": 14,
   "id": "9f52d615",
   "metadata": {},
   "outputs": [
    {
     "name": "stdout",
     "output_type": "stream",
     "text": [
      "[2, 4, 5, 6, 8, 10, 12, 14, 15, 16, 18, 20, 22, 24, 25, 26, 28, 30, 32, 34, 35, 36, 38, 40, 42, 44, 45, 46, 48, 50, 52, 54, 55, 56, 58, 60, 62, 64, 65, 66, 68, 70, 72, 74, 75, 76, 78, 80, 82, 84, 85, 86, 88, 90, 92, 94, 95, 96, 98, 100]\n"
     ]
    }
   ],
   "source": [
    "numbers = list(range(1, 101))\n",
    "\n",
    "# Calculate cubes and store numbers divisible by 4 or 5 in a separate list\n",
    "result_list = []\n",
    "\n",
    "for num in numbers:\n",
    "    cube = num ** 3\n",
    "    if cube % 4 == 0 or cube % 5 == 0:\n",
    "        result_list.append(num)\n",
    "\n",
    "\n",
    "print(result_list)\n"
   ]
  },
  {
   "cell_type": "markdown",
   "id": "d39a63bf",
   "metadata": {},
   "source": [
    "Using While Loop:"
   ]
  },
  {
   "cell_type": "code",
   "execution_count": 15,
   "id": "288c0289",
   "metadata": {},
   "outputs": [
    {
     "name": "stdout",
     "output_type": "stream",
     "text": [
      "[2, 4, 5, 6, 8, 10, 12, 14, 15, 16, 18, 20, 22, 24, 25, 26, 28, 30, 32, 34, 35, 36, 38, 40, 42, 44, 45, 46, 48, 50, 52, 54, 55, 56, 58, 60, 62, 64, 65, 66, 68, 70, 72, 74, 75, 76, 78, 80, 82, 84, 85, 86, 88, 90, 92, 94, 95, 96, 98, 100]\n"
     ]
    }
   ],
   "source": [
    "numbers = list(range(1, 101))\n",
    "\n",
    "# Calculate cubes and store numbers divisible by 4 or 5 in a separate list\n",
    "result_list = []\n",
    "\n",
    "i = 0\n",
    "while i < len(numbers):\n",
    "    cube = numbers[i] ** 3\n",
    "    if cube % 4 == 0 or cube % 5 == 0:\n",
    "        result_list.append(numbers[i])\n",
    "    i += 1\n",
    "\n",
    "\n",
    "print(result_list)\n"
   ]
  },
  {
   "cell_type": "markdown",
   "id": "d1f43ae6",
   "metadata": {},
   "source": [
    "5."
   ]
  },
  {
   "cell_type": "code",
   "execution_count": 16,
   "id": "b6f794c3",
   "metadata": {},
   "outputs": [
    {
     "name": "stdout",
     "output_type": "stream",
     "text": [
      "Number of vowels: 12\n"
     ]
    }
   ],
   "source": [
    "# Define the input string\n",
    "string = \"I want to become a data scientist\"\n",
    "\n",
    "# Convert the string to lowercase for case-insensitive matching\n",
    "string = string.lower()\n",
    "\n",
    "vowels = ['a', 'e', 'i', 'o', 'u']\n",
    "\n",
    "# Initialize a variable to store the count of vowels\n",
    "vowel_count = 0\n",
    "for char in string:\n",
    "   \n",
    "    if char in vowels:\n",
    "       \n",
    "        vowel_count += 1\n",
    "print(\"Number of vowels:\", vowel_count)\n"
   ]
  },
  {
   "cell_type": "code",
   "execution_count": null,
   "id": "1df295fa",
   "metadata": {},
   "outputs": [],
   "source": []
  }
 ],
 "metadata": {
  "kernelspec": {
   "display_name": "Python 3 (ipykernel)",
   "language": "python",
   "name": "python3"
  },
  "language_info": {
   "codemirror_mode": {
    "name": "ipython",
    "version": 3
   },
   "file_extension": ".py",
   "mimetype": "text/x-python",
   "name": "python",
   "nbconvert_exporter": "python",
   "pygments_lexer": "ipython3",
   "version": "3.9.12"
  }
 },
 "nbformat": 4,
 "nbformat_minor": 5
}
