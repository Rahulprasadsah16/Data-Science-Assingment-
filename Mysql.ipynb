{
 "cells": [
  {
   "cell_type": "markdown",
   "id": "421d798c",
   "metadata": {},
   "source": [
    "# 1."
   ]
  },
  {
   "cell_type": "markdown",
   "id": "fbd4fd55",
   "metadata": {},
   "source": [
    "A database is a structured collection of data that is organized, stored, and managed in a way that allows for efficient retrieval, updating, and manipulation of that data. Databases are used to store various types of information, ranging from simple lists to complex data structures, and they play a crucial role in applications and systems that require data storage and retrieval.\n",
    "\n",
    "There are two main categories of databases: SQL (Structured Query Language) databases and NoSQL databases. Here's a differentiation between the two:\n",
    "\n",
    "SQL Databases:\n",
    "SQL databases are relational databases that use a structured query language called SQL to manage and manipulate data. They are based on the relational model, which represents data in tables with rows and columns. Each row represents a record, and each column represents a specific attribute or field of that record. Some popular SQL database systems include MySQL, PostgreSQL, Oracle Database, SQL Server, and SQLite.\n",
    "Key characteristics of SQL databases:\n",
    "\n",
    "Schema: \n",
    "SQL databases have a fixed schema that defines the structure of the data. Changes to the schema usually involve altering the database structure, which can be complex.\n",
    "Data Integrity: SQL databases emphasize data integrity through features like primary keys, foreign keys, and constraints, which ensure the validity and consistency of the data.\n",
    "ACID Transactions: SQL databases support ACID (Atomicity, Consistency, Isolation, Durability) transactions, which guarantee data consistency and reliability even in the presence of failures.\n",
    "Structured Data: SQL databases are well-suited for structured data where relationships between different data entities need to be maintained.\n",
    "\n",
    "NoSQL Databases:\n",
    "\n",
    "NoSQL databases, as the name suggests, are databases that do not rely on the traditional relational model. They are designed to handle unstructured, semi-structured, or rapidly changing data. NoSQL databases offer greater flexibility and scalability compared to SQL databases, making them suitable for applications with large volumes of data or high traffic. There are several types of NoSQL databases, including document stores, key-value stores, column-family stores, and graph databases. Examples of NoSQL databases include MongoDB, Cassandra, Redis, Couchbase, and Neo4j.\n",
    "Key characteristics of NoSQL databases:\n",
    "\n",
    "Schema Flexibility: \n",
    "\n",
    "NoSQL databases typically allow for dynamic and flexible schemas, making it easier to adapt to changing data requirements.\n",
    "Scalability: NoSQL databases are often designed with horizontal scalability in mind, allowing them to handle large amounts of data and traffic by distributing the data across multiple nodes.\n",
    "Simplicity and Speed: NoSQL databases are often optimized for high-speed data retrieval and write operations, making them well-suited for use cases requiring real-time data processing.\n",
    "Eventual Consistency: NoSQL databases may sacrifice strict consistency (ACID properties) in favor of eventual consistency, where data updates are propagated to all nodes over time."
   ]
  },
  {
   "cell_type": "markdown",
   "id": "e286ea2d",
   "metadata": {},
   "source": [
    "# 2."
   ]
  },
  {
   "cell_type": "markdown",
   "id": "10d2e0ff",
   "metadata": {},
   "source": [
    "DDL stands for \"Data Definition Language,\" and it is a subset of SQL (Structured Query Language) used to define and manage the structure of a database, including creating, modifying, and deleting database objects such as tables, indexes, and constraints. DDL statements are used to specify how data should be stored and organized within the database."
   ]
  },
  {
   "cell_type": "markdown",
   "id": "cb1dae40",
   "metadata": {},
   "source": [
    "CREATE:\n",
    "The CREATE statement is used to create new database objects, such as tables, indexes, views, and more. When creating a table, you define its structure by specifying column names, data types, constraints, and other properties.\n",
    "\n",
    "Example of creating a simple table using the CREATE TABLE statement:"
   ]
  },
  {
   "cell_type": "code",
   "execution_count": null,
   "id": "2a226ff0",
   "metadata": {},
   "outputs": [],
   "source": [
    "CREATE TABLE Employees (\n",
    "    EmployeeID INT PRIMARY KEY,\n",
    "    FirstName VARCHAR(50),\n",
    "    LastName VARCHAR(50),\n",
    "    BirthDate DATE,\n",
    "    DepartmentID INT\n",
    ");\n"
   ]
  },
  {
   "cell_type": "markdown",
   "id": "6630a8e9",
   "metadata": {},
   "source": [
    "DROP:\n",
    "The DROP statement is used to remove existing database objects, such as tables, indexes, or views. It permanently deletes the specified object and its associated data.\n",
    "\n",
    "Example of dropping a table using the DROP TABLE statement:"
   ]
  },
  {
   "cell_type": "code",
   "execution_count": null,
   "id": "865261e3",
   "metadata": {},
   "outputs": [],
   "source": [
    "DROP TABLE Employees;\n"
   ]
  },
  {
   "cell_type": "markdown",
   "id": "c238fb97",
   "metadata": {},
   "source": [
    "ALTER:\n",
    "The ALTER statement is used to modify the structure of an existing database object, such as adding, modifying, or dropping columns in a table.\n",
    "Example of adding a new column to an existing table using the ALTER TABLE statement:"
   ]
  },
  {
   "cell_type": "code",
   "execution_count": null,
   "id": "64974ba9",
   "metadata": {},
   "outputs": [],
   "source": [
    "ALTER TABLE Employees\n",
    "ADD Email VARCHAR(100);\n"
   ]
  },
  {
   "cell_type": "markdown",
   "id": "2a855d06",
   "metadata": {},
   "source": [
    "TRUNCATE:\n",
    "The TRUNCATE statement is used to remove all data from a table while keeping its structure intact. Unlike the DROP statement, TRUNCATE does not delete the table itself, only the data within it.\n",
    "Example of truncating a table using the TRUNCATE TABLE statement:"
   ]
  },
  {
   "cell_type": "code",
   "execution_count": null,
   "id": "ef23dd4c",
   "metadata": {},
   "outputs": [],
   "source": [
    "TRUNCATE TABLE Employees;\n"
   ]
  },
  {
   "cell_type": "markdown",
   "id": "29a20ae5",
   "metadata": {},
   "source": [
    "# 3."
   ]
  },
  {
   "cell_type": "markdown",
   "id": "7b81cef3",
   "metadata": {},
   "source": [
    "DML stands for \"Data Manipulation Language,\" which is a subset of SQL (Structured Query Language) used to manipulate the data stored within a database. DML statements allow you to insert, update, and delete data in the database tables. These statements are essential for managing the actual information stored in the database and are used to interact with the data itself."
   ]
  },
  {
   "cell_type": "markdown",
   "id": "a43a1f85",
   "metadata": {},
   "source": [
    "INSERT:\n",
    "The INSERT statement is used to add new rows of data into a table. You provide values for each column in the table, or you can insert data from another table or the result of a query.\n",
    "Example of inserting a new row into a table using the INSERT INTO statement:"
   ]
  },
  {
   "cell_type": "code",
   "execution_count": null,
   "id": "04a85869",
   "metadata": {},
   "outputs": [],
   "source": [
    "INSERT INTO Employees (EmployeeID, FirstName, LastName, BirthDate, DepartmentID)\n",
    "VALUES (1, 'John', 'Doe', '1990-05-15', 101);\n"
   ]
  },
  {
   "cell_type": "markdown",
   "id": "2325c1a2",
   "metadata": {},
   "source": [
    "UPDATE:\n",
    "The UPDATE statement is used to modify existing rows of data in a table. You specify which rows to update and what new values to assign to specific columns.\n",
    "Example of updating a specific row in a table using the UPDATE statement:"
   ]
  },
  {
   "cell_type": "code",
   "execution_count": null,
   "id": "4d1ddf98",
   "metadata": {},
   "outputs": [],
   "source": [
    "UPDATE Employees\n",
    "SET DepartmentID = 102\n",
    "WHERE EmployeeID = 1;\n"
   ]
  },
  {
   "cell_type": "markdown",
   "id": "8076f0e8",
   "metadata": {},
   "source": [
    "DELETE:\n",
    "The DELETE statement is used to remove one or more rows of data from a table. It is important to note that the DELETE statement only removes data from the table, not the table itself."
   ]
  },
  {
   "cell_type": "code",
   "execution_count": null,
   "id": "49f4a777",
   "metadata": {},
   "outputs": [],
   "source": [
    "DELETE FROM Employees\n",
    "WHERE EmployeeID = 1;\n"
   ]
  },
  {
   "cell_type": "markdown",
   "id": "47a8e073",
   "metadata": {},
   "source": [
    "# 4."
   ]
  },
  {
   "cell_type": "markdown",
   "id": "16747a6b",
   "metadata": {},
   "source": [
    "DQL stands for \"Data Query Language,\" and it is a subset of SQL (Structured Query Language) used to retrieve data from a database. DQL is primarily focused on querying the database to extract specific information based on the user's requirements. The primary DQL statement is the SELECT statement, which allows you to retrieve data from one or more database tables and present it in a structured format."
   ]
  },
  {
   "cell_type": "markdown",
   "id": "ae73c9f0",
   "metadata": {},
   "source": [
    "SELECT:\n",
    "The SELECT statement is used to retrieve data from one or more tables in a database. It allows you to specify which columns you want to retrieve, which table(s) to retrieve data from, and any conditions or criteria for filtering the data."
   ]
  },
  {
   "cell_type": "code",
   "execution_count": null,
   "id": "1f75e30c",
   "metadata": {},
   "outputs": [],
   "source": [
    "# Assuming we have a \"Customers\" table with columns \"CustomerID,\" \"FirstName,\" \"LastName,\" \"Email,\" and \"City,\" the following query retrieves the first and last names of customers from the city of \"New York\":\n",
    "SELECT FirstName, LastName\n",
    "FROM Customers\n",
    "WHERE City = 'New York';\n"
   ]
  },
  {
   "cell_type": "markdown",
   "id": "5a3939d6",
   "metadata": {},
   "source": [
    "# 5."
   ]
  },
  {
   "cell_type": "markdown",
   "id": "451acb0a",
   "metadata": {},
   "source": [
    "Primary Key and Foreign Key are fundamental concepts in relational database design that establish relationships between tables and ensure data integrity. They play a crucial role in maintaining the accuracy, consistency, and structure of the data within a relational database.\n",
    "\n",
    "Primary Key:\n",
    "A Primary Key is a unique identifier for each row (record) in a database table. It ensures that each record in the table can be uniquely identified and distinguished from others. The Primary Key must have the following properties:\n",
    "\n",
    "Uniqueness: Each value in the Primary Key column must be unique across all rows in the table. No two records can have the same Primary Key value.\n",
    "\n",
    "Non-null: The Primary Key column cannot contain null (empty) values. Every record must have a value in the Primary Key column.\n",
    "\n",
    "Stability: Ideally, the value of the Primary Key should not change once it has been assigned to a record.\n",
    "\n",
    "Example of a Primary Key:\n",
    "Consider a \"Students\" table with a Primary Key column \"StudentID.\" Each student's ID is unique and serves as a primary identifier for that student's record in the table.\n",
    "\n",
    "Foreign Key:\n",
    "A Foreign Key is a column or set of columns in one table that establishes a link to the Primary Key in another table. It creates a relationship between the data in the two tables, allowing you to maintain referential integrity. The Foreign Key represents the \"many\" side of a relationship, where one table references another table's Primary Key.\n",
    "\n",
    "When a Foreign Key is used, it enforces referential integrity, ensuring that the data in the Foreign Key column of the referencing table corresponds to valid values in the Primary Key column of the referenced table.\n",
    "\n",
    "Example of a Foreign Key:\n",
    "Consider a \"Courses\" table with a Foreign Key column \"InstructorID\" that references the Primary Key column \"InstructorID\" in the \"Instructors\" table. This establishes a relationship between courses and their corresponding instructors. The Foreign Key ensures that only valid instructor IDs from the \"Instructors\" table can be inserted into the \"Courses\" table."
   ]
  },
  {
   "cell_type": "markdown",
   "id": "23fb60b7",
   "metadata": {},
   "source": [
    "# 6."
   ]
  },
  {
   "cell_type": "markdown",
   "id": "aec1e45c",
   "metadata": {},
   "source": [
    "To connect to MySQL from Python, you can use the mysql.connector library. This library provides a way to interact with MySQL databases using Python code. Here's a simple example of how to connect to MySQL, execute queries, and use the cursor() and execute() methods:"
   ]
  },
  {
   "cell_type": "code",
   "execution_count": null,
   "id": "a9032088",
   "metadata": {},
   "outputs": [],
   "source": [
    "pip install mysql-connector-python\n"
   ]
  },
  {
   "cell_type": "code",
   "execution_count": null,
   "id": "8353d0b8",
   "metadata": {},
   "outputs": [],
   "source": [
    "import mysql.connector\n",
    "\n",
    "# Establish a connection to the MySQL server\n",
    "connection = mysql.connector.connect(\n",
    "    host=\"your_host\",\n",
    "    user=\"your_username\",\n",
    "    password=\"your_password\",\n",
    "    database=\"your_database\"\n",
    ")\n",
    "\n",
    "# Create a cursor object to interact with the database\n",
    "cursor = connection.cursor()\n",
    "\n",
    "# Example: Create a new table\n",
    "create_table_query = \"\"\"\n",
    "CREATE TABLE IF NOT EXISTS Students (\n",
    "    StudentID INT PRIMARY KEY,\n",
    "    FirstName VARCHAR(50),\n",
    "    LastName VARCHAR(50),\n",
    "    Age INT\n",
    ")\n",
    "\"\"\"\n",
    "cursor.execute(create_table_query)\n",
    "\n",
    "# Example: Insert data into the table\n",
    "insert_query = \"\"\"\n",
    "INSERT INTO Students (StudentID, FirstName, LastName, Age)\n",
    "VALUES (%s, %s, %s, %s)\n",
    "\"\"\"\n",
    "student_data = (1, 'John', 'Doe', 20)\n",
    "cursor.execute(insert_query, student_data)\n",
    "\n",
    "# Commit the changes to the database\n",
    "connection.commit()\n",
    "\n",
    "# Example: Retrieve data from the table\n",
    "select_query = \"SELECT * FROM Students\"\n",
    "cursor.execute(select_query)\n",
    "students = cursor.fetchall()\n",
    "\n",
    "for student in students:\n",
    "    print(student)\n",
    "\n",
    "# Close the cursor and the connection\n",
    "cursor.close()\n",
    "connection.close()\n"
   ]
  },
  {
   "cell_type": "markdown",
   "id": "ee1513b4",
   "metadata": {},
   "source": [
    "# 7."
   ]
  },
  {
   "cell_type": "markdown",
   "id": "aec9d738",
   "metadata": {},
   "source": [
    "In an SQL query, the clauses are executed in a specific order, and this order ensures that the query is processed correctly and efficiently. The general order of execution for a typical SELECT statement is as follows :"
   ]
  },
  {
   "cell_type": "markdown",
   "id": "16b921eb",
   "metadata": {},
   "source": [
    "FROM Clause: The tables or views specified in the FROM clause are the starting point of the query. The database engine retrieves the data from these tables or views.\n",
    "\n",
    "WHERE Clause: The WHERE clause filters the rows returned by the FROM clause based on specified conditions. Only rows that satisfy the conditions are included in further processing.\n",
    "\n",
    "GROUP BY Clause: If a GROUP BY clause is present, the rows are grouped into sets based on the specified columns. Aggregation functions like SUM, COUNT, AVG, etc., are applied to these groups.\n",
    "\n",
    "HAVING Clause: If a HAVING clause is present (which is used with GROUP BY), it filters the grouped results based on specified conditions. Only groups that satisfy the conditions are included in further processing.\n",
    "\n",
    "SELECT Clause: The SELECT clause specifies which columns to include in the final result set. Aggregation functions are computed at this stage if they are present in the SELECT clause.\n",
    "\n",
    "DISTINCT Keyword: If the DISTINCT keyword is used, duplicate rows are removed from the result set at this stage.\n",
    "\n",
    "ORDER BY Clause: If an ORDER BY clause is present, the result set is sorted based on the specified columns and sorting order.\n",
    "\n",
    "LIMIT/OFFSET (or FETCH/FIRST) Clause: If present, these clauses restrict the number of rows returned or specify a starting point for the result set."
   ]
  },
  {
   "cell_type": "code",
   "execution_count": null,
   "id": "431ee510",
   "metadata": {},
   "outputs": [],
   "source": []
  }
 ],
 "metadata": {
  "kernelspec": {
   "display_name": "Python 3 (ipykernel)",
   "language": "python",
   "name": "python3"
  },
  "language_info": {
   "codemirror_mode": {
    "name": "ipython",
    "version": 3
   },
   "file_extension": ".py",
   "mimetype": "text/x-python",
   "name": "python",
   "nbconvert_exporter": "python",
   "pygments_lexer": "ipython3",
   "version": "3.10.9"
  }
 },
 "nbformat": 4,
 "nbformat_minor": 5
}
