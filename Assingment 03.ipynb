{
 "cells": [
  {
   "cell_type": "markdown",
   "id": "c1ba1ea3",
   "metadata": {},
   "source": [
    "# 1."
   ]
  },
  {
   "cell_type": "markdown",
   "id": "f322c607",
   "metadata": {},
   "source": [
    "The keyword used to create a function in Python is def."
   ]
  },
  {
   "cell_type": "code",
   "execution_count": 1,
   "id": "c9010199",
   "metadata": {},
   "outputs": [
    {
     "name": "stdout",
     "output_type": "stream",
     "text": [
      "[1, 3, 5, 7, 9, 11, 13, 15, 17, 19, 21, 23, 25]\n"
     ]
    }
   ],
   "source": [
    "def get_odd_numbers():\n",
    "    odd_numbers = []\n",
    "    for num in range(1, 26):\n",
    "        if num % 2 != 0:\n",
    "            odd_numbers.append(num)\n",
    "    return odd_numbers\n",
    "\n",
    "# Call the function and store the result\n",
    "result = get_odd_numbers()\n",
    "\n",
    "# Print the list of odd numbers\n",
    "print(result)\n"
   ]
  },
  {
   "cell_type": "markdown",
   "id": "4a59369b",
   "metadata": {},
   "source": [
    "# 2."
   ]
  },
  {
   "cell_type": "markdown",
   "id": "2a515f9f",
   "metadata": {},
   "source": [
    " *args and **kwargs are used in function definitions to allow for a variable number of arguments to be passed to the function.\n",
    " \n",
    " *args is used to pass a variable number of non-keyword arguments to a function. It allows you to pass any number of positional arguments, which are then accessible within the function as a tuple. The *args syntax allows you to handle an arbitrary number of arguments without specifying them explicitly."
   ]
  },
  {
   "cell_type": "code",
   "execution_count": 4,
   "id": "31862e01",
   "metadata": {},
   "outputs": [
    {
     "name": "stdout",
     "output_type": "stream",
     "text": [
      "Hello World\n",
      "My Name is Rahul\n"
     ]
    }
   ],
   "source": [
    "def concatenate_strings(*args):\n",
    "    result = \"\"\n",
    "    for arg in args:\n",
    "        result += arg\n",
    "    return result\n",
    "\n",
    "# Call the function with different number of arguments\n",
    "print(concatenate_strings(\"Hello\", \" \", \"World\"))\n",
    "print(concatenate_strings(\"My\",\" \", \"Name\",\" \",\"is\", \" \", \"Rahul\"))\n"
   ]
  },
  {
   "cell_type": "markdown",
   "id": "b455e7a7",
   "metadata": {},
   "source": [
    "**kwargs is used to pass a variable number of keyword arguments to a function. It allows us to pass any number of keyword arguments, which are then accessible within the function as a dictionary. The **kwargs syntax allows us to handle an arbitrary number of keyword arguments without specifying them explicitly."
   ]
  },
  {
   "cell_type": "code",
   "execution_count": 5,
   "id": "5df5d947",
   "metadata": {},
   "outputs": [
    {
     "name": "stdout",
     "output_type": "stream",
     "text": [
      "name: Rahul\n",
      "age: 27\n",
      "occupation: Engineer\n",
      "name: Aishwarya\n",
      "city: Siliguri\n",
      "country: INDIA\n"
     ]
    }
   ],
   "source": [
    "def print_person_details(**kwargs):\n",
    "    for key, value in kwargs.items():\n",
    "        print(key + \":\", value)\n",
    "\n",
    "# Call the function with different keyword arguments\n",
    "print_person_details(name=\"Rahul\", age=27, occupation=\"Engineer\")\n",
    "print_person_details(name=\"Aishwarya\", city=\"Siliguri\", country=\"INDIA\")\n"
   ]
  },
  {
   "cell_type": "markdown",
   "id": "13ad4814",
   "metadata": {},
   "source": [
    "# 3."
   ]
  },
  {
   "cell_type": "markdown",
   "id": "218f33b9",
   "metadata": {},
   "source": [
    "An iterator is an object that represents a stream of data. It implements the iterator protocol, which requires it to have two methods: __iter__() and __next__()."
   ]
  },
  {
   "cell_type": "markdown",
   "id": "d0907749",
   "metadata": {},
   "source": [
    "The __iter__() method initializes the iterator object and returns itself. It is called when the iterator is created or reset.\n",
    "\n",
    "The __next__() method returns the next item from the iterator. It is called in each iteration to retrieve the next element, and it raises the Stop iteration exception when there are no more elements."
   ]
  },
  {
   "cell_type": "code",
   "execution_count": 6,
   "id": "0310da4a",
   "metadata": {},
   "outputs": [
    {
     "name": "stdout",
     "output_type": "stream",
     "text": [
      "2\n",
      "4\n",
      "6\n",
      "8\n",
      "10\n"
     ]
    }
   ],
   "source": [
    "my_list = [2, 4, 6, 8, 10, 12, 14, 16, 18, 20]\n",
    "\n",
    "# Create an iterator object using iter()\n",
    "my_iterator = iter(my_list)\n",
    "\n",
    "# Iterate and print the first five elements using next()\n",
    "for _ in range(5):\n",
    "    print(next(my_iterator))\n"
   ]
  },
  {
   "cell_type": "markdown",
   "id": "e188939f",
   "metadata": {},
   "source": [
    "We first create an iterator object my_iterator using the iter() function, which takes the list my_list as an argument. Then, we use the next() function within a loop to retrieve and print the next element from the iterator."
   ]
  },
  {
   "cell_type": "markdown",
   "id": "270c02b8",
   "metadata": {},
   "source": [
    "# 4."
   ]
  },
  {
   "cell_type": "markdown",
   "id": "4db18616",
   "metadata": {},
   "source": [
    "A generator function is a special type of function that generates a sequence of values, one at a time, on-the-fly, instead of returning the entire sequence at once. It uses the yield keyword to define the values to be generated.\n",
    "\n",
    "The yield keyword is used in a generator function to pause the execution and yield a value to the caller. \n"
   ]
  },
  {
   "cell_type": "code",
   "execution_count": 7,
   "id": "3c4b5302",
   "metadata": {},
   "outputs": [
    {
     "name": "stdout",
     "output_type": "stream",
     "text": [
      "0\n",
      "2\n",
      "4\n",
      "6\n",
      "8\n"
     ]
    }
   ],
   "source": [
    "# example of a generator function that generates a sequence of even numbers:\n",
    "\n",
    "def even_numbers_generator(n):\n",
    "    for num in range(n):\n",
    "        if num % 2 == 0:\n",
    "            yield num\n",
    "\n",
    "# Create a generator object\n",
    "even_nums = even_numbers_generator(10)\n",
    "\n",
    "# Iterate and print the generated values\n",
    "for num in even_nums:\n",
    "    print(num)\n"
   ]
  },
  {
   "cell_type": "markdown",
   "id": "8464619a",
   "metadata": {},
   "source": [
    "# 5."
   ]
  },
  {
   "cell_type": "code",
   "execution_count": 8,
   "id": "e279635c",
   "metadata": {},
   "outputs": [
    {
     "name": "stdout",
     "output_type": "stream",
     "text": [
      "2\n",
      "3\n",
      "5\n",
      "7\n",
      "11\n",
      "13\n",
      "17\n",
      "19\n",
      "23\n",
      "29\n",
      "31\n",
      "37\n",
      "41\n",
      "43\n",
      "47\n",
      "53\n",
      "59\n",
      "61\n",
      "67\n",
      "71\n"
     ]
    }
   ],
   "source": [
    "def prime_numbers_generator():\n",
    "    primes = []\n",
    "    num = 2\n",
    "\n",
    "    while True:\n",
    "        if all(num % prime != 0 for prime in primes):\n",
    "            primes.append(num)\n",
    "            yield num\n",
    "        num += 1\n",
    "\n",
    "# Create a generator object\n",
    "prime_nums = prime_numbers_generator()\n",
    "\n",
    "# Print the first 20 prime numbers using next()\n",
    "for _ in range(20):\n",
    "    print(next(prime_nums))\n"
   ]
  },
  {
   "cell_type": "markdown",
   "id": "96f8af14",
   "metadata": {},
   "source": [
    "# 6."
   ]
  },
  {
   "cell_type": "code",
   "execution_count": 9,
   "id": "2e17cb09",
   "metadata": {},
   "outputs": [
    {
     "name": "stdout",
     "output_type": "stream",
     "text": [
      "0\n",
      "1\n",
      "1\n",
      "2\n",
      "3\n",
      "5\n",
      "8\n",
      "13\n",
      "21\n",
      "34\n"
     ]
    }
   ],
   "source": [
    "# program to print the first 10 Fibonacci numbers using a while loop\n",
    "\n",
    "fib1, fib2 = 0, 1\n",
    "count = 0\n",
    "\n",
    "# Iterate using a while loop until the desired count is reached\n",
    "while count < 10:\n",
    "    \n",
    "    print(fib1)\n",
    "\n",
    "    fib_next = fib1 + fib2\n",
    "\n",
    "    fib1 = fib2\n",
    "    fib2 = fib_next\n",
    "\n",
    "   \n",
    "    count += 1\n"
   ]
  },
  {
   "cell_type": "markdown",
   "id": "ab641e06",
   "metadata": {},
   "source": [
    "# 7."
   ]
  },
  {
   "cell_type": "code",
   "execution_count": 10,
   "id": "1eb1d7b8",
   "metadata": {},
   "outputs": [
    {
     "name": "stdout",
     "output_type": "stream",
     "text": [
      "['p', 'w', 's', 'k', 'i', 'l', 'l', 's']\n"
     ]
    }
   ],
   "source": [
    "# Comprehension to iterate through the given string: ‘pwskills’.\n",
    "\n",
    "string = 'pwskills'\n",
    "result = [char for char in string]\n",
    "print(result)\n"
   ]
  },
  {
   "cell_type": "markdown",
   "id": "46e5b60e",
   "metadata": {},
   "source": [
    "# 8."
   ]
  },
  {
   "cell_type": "code",
   "execution_count": 11,
   "id": "06c9e25e",
   "metadata": {},
   "outputs": [
    {
     "name": "stdout",
     "output_type": "stream",
     "text": [
      "Enter a number: 5\n",
      "5 is a palindrome\n"
     ]
    }
   ],
   "source": [
    "def is_palindrome(number):\n",
    "    temp = number\n",
    "    reverse = 0\n",
    "\n",
    "    while temp > 0:\n",
    "        digit = temp % 10\n",
    "        reverse = (reverse * 10) + digit\n",
    "        temp //= 10\n",
    "\n",
    "    if number == reverse:\n",
    "        return True\n",
    "    else:\n",
    "        return False\n",
    "\n",
    "# Test the function\n",
    "\n",
    "number = int(input(\"Enter a number: \"))\n",
    "if is_palindrome(number):\n",
    "    print(number, \"is a palindrome\")\n",
    "else:\n",
    "    print(number, \"is not a palindrome\")\n"
   ]
  },
  {
   "cell_type": "markdown",
   "id": "140fd1c3",
   "metadata": {},
   "source": [
    "# 9."
   ]
  },
  {
   "cell_type": "code",
   "execution_count": 12,
   "id": "29bf20a1",
   "metadata": {},
   "outputs": [
    {
     "name": "stdout",
     "output_type": "stream",
     "text": [
      "[1, 3, 5, 7, 9, 11, 13, 15, 17, 19, 21, 23, 25, 27, 29, 31, 33, 35, 37, 39, 41, 43, 45, 47, 49, 51, 53, 55, 57, 59, 61, 63, 65, 67, 69, 71, 73, 75, 77, 79, 81, 83, 85, 87, 89, 91, 93, 95, 97, 99]\n"
     ]
    }
   ],
   "source": [
    "#  code to print odd numbers from 1 to 100 using list comprehension.\n",
    "\n",
    "odd_numbers = [num for num in range(1, 101) if num % 2 != 0]\n",
    "print(odd_numbers)\n"
   ]
  },
  {
   "cell_type": "code",
   "execution_count": null,
   "id": "553cde35",
   "metadata": {},
   "outputs": [],
   "source": []
  }
 ],
 "metadata": {
  "kernelspec": {
   "display_name": "Python 3 (ipykernel)",
   "language": "python",
   "name": "python3"
  },
  "language_info": {
   "codemirror_mode": {
    "name": "ipython",
    "version": 3
   },
   "file_extension": ".py",
   "mimetype": "text/x-python",
   "name": "python",
   "nbconvert_exporter": "python",
   "pygments_lexer": "ipython3",
   "version": "3.9.12"
  }
 },
 "nbformat": 4,
 "nbformat_minor": 5
}
