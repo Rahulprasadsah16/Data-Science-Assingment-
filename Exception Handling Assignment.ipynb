{
 "cells": [
  {
   "cell_type": "markdown",
   "id": "c8ae6339",
   "metadata": {},
   "source": [
    "# 1"
   ]
  },
  {
   "cell_type": "markdown",
   "id": "80972399",
   "metadata": {},
   "source": [
    "An exception is an event that occurs during the execution of a program, which disrupts the normal flow of the program's instructions. When an exceptional condition arises, Python raises an exception, which is a signal that something unexpected or erroneous has happened.\n",
    "\n",
    "Difference Between Exception and Syntax Errors :\n",
    "\n",
    "Exceptions can occur for various reasons, such as a division by zero, attempting to access an undefined variable, or opening a file that doesn't exist. When an exception is raised, it creates an object that contains information about the error, such as the type of exception and a traceback that shows the sequence of function calls that led to the exception.\n",
    "\n",
    "Syntax errors are different from exceptions. Syntax errors occur when you write code that violates the rules of the Python language. These errors are detected by the Python interpreter during the parsing phase, before the program is executed. Syntax errors typically result from typos, missing or misplaced punctuation, incorrect indentation, or using incorrect syntax for a specific programming construct.\n",
    "\n"
   ]
  },
  {
   "cell_type": "markdown",
   "id": "81189b84",
   "metadata": {},
   "source": [
    "# 2"
   ]
  },
  {
   "cell_type": "markdown",
   "id": "e3cc62ed",
   "metadata": {},
   "source": [
    "When an exception is not handled in a program, it results in the termination of the program's execution and the display of an error message known as a traceback. The traceback provides information about the exception that occurred, including the type of exception, the line of code where it occurred, and the sequence of function calls that led to the exception.\n"
   ]
  },
  {
   "cell_type": "code",
   "execution_count": 3,
   "id": "87ab726e",
   "metadata": {},
   "outputs": [
    {
     "ename": "ZeroDivisionError",
     "evalue": "division by zero",
     "output_type": "error",
     "traceback": [
      "\u001b[1;31m---------------------------------------------------------------------------\u001b[0m",
      "\u001b[1;31mZeroDivisionError\u001b[0m                         Traceback (most recent call last)",
      "Cell \u001b[1;32mIn[3], line 8\u001b[0m\n\u001b[0;32m      5\u001b[0m num1 \u001b[38;5;241m=\u001b[39m \u001b[38;5;241m10\u001b[39m\n\u001b[0;32m      6\u001b[0m num2 \u001b[38;5;241m=\u001b[39m \u001b[38;5;241m0\u001b[39m\n\u001b[1;32m----> 8\u001b[0m result \u001b[38;5;241m=\u001b[39m \u001b[43mdivide_numbers\u001b[49m\u001b[43m(\u001b[49m\u001b[43mnum1\u001b[49m\u001b[43m,\u001b[49m\u001b[43m \u001b[49m\u001b[43mnum2\u001b[49m\u001b[43m)\u001b[49m\n\u001b[0;32m      9\u001b[0m \u001b[38;5;28mprint\u001b[39m(\u001b[38;5;124m\"\u001b[39m\u001b[38;5;124mResult:\u001b[39m\u001b[38;5;124m\"\u001b[39m, result)\n",
      "Cell \u001b[1;32mIn[3], line 2\u001b[0m, in \u001b[0;36mdivide_numbers\u001b[1;34m(a, b)\u001b[0m\n\u001b[0;32m      1\u001b[0m \u001b[38;5;28;01mdef\u001b[39;00m \u001b[38;5;21mdivide_numbers\u001b[39m(a, b):\n\u001b[1;32m----> 2\u001b[0m     result \u001b[38;5;241m=\u001b[39m \u001b[43ma\u001b[49m\u001b[43m \u001b[49m\u001b[38;5;241;43m/\u001b[39;49m\u001b[43m \u001b[49m\u001b[43mb\u001b[49m\n\u001b[0;32m      3\u001b[0m     \u001b[38;5;28;01mreturn\u001b[39;00m result\n",
      "\u001b[1;31mZeroDivisionError\u001b[0m: division by zero"
     ]
    }
   ],
   "source": [
    "def divide_numbers(a, b):\n",
    "    result = a / b\n",
    "    return result\n",
    "\n",
    "num1 = 10\n",
    "num2 = 0\n",
    "\n",
    "result = divide_numbers(num1, num2)\n",
    "print(\"Result:\", result)\n"
   ]
  },
  {
   "cell_type": "markdown",
   "id": "c8541b29",
   "metadata": {},
   "source": [
    "# 3"
   ]
  },
  {
   "cell_type": "markdown",
   "id": "dbd426ba",
   "metadata": {},
   "source": [
    "The try-except statements are used to catch and handle exceptions. The try block contains the code that might raise an exception, while the except block specifies the code to be executed when a specific exception is raised. \n"
   ]
  },
  {
   "cell_type": "code",
   "execution_count": 4,
   "id": "2e5182e2",
   "metadata": {},
   "outputs": [
    {
     "name": "stdout",
     "output_type": "stream",
     "text": [
      "Error: Division by zero is not allowed.\n"
     ]
    }
   ],
   "source": [
    "def divide_numbers(a, b):\n",
    "    try:\n",
    "        result = a / b\n",
    "        print(\"Result:\", result)\n",
    "    except ZeroDivisionError:\n",
    "        print(\"Error: Division by zero is not allowed.\")\n",
    "\n",
    "num1 = 10\n",
    "num2 = 0\n",
    "\n",
    "divide_numbers(num1, num2)\n"
   ]
  },
  {
   "cell_type": "markdown",
   "id": "123a1ff4",
   "metadata": {},
   "source": [
    "# 4"
   ]
  },
  {
   "cell_type": "markdown",
   "id": "3509f6c9",
   "metadata": {},
   "source": [
    "The else block is executed only if no exceptions occur within the try block. It allows you to specify code that should be executed when the try block completes successfully without any exceptions being raised."
   ]
  },
  {
   "cell_type": "code",
   "execution_count": 6,
   "id": "8f9dca8c",
   "metadata": {},
   "outputs": [],
   "source": [
    "# try and else"
   ]
  },
  {
   "cell_type": "code",
   "execution_count": 5,
   "id": "be5c056b",
   "metadata": {},
   "outputs": [
    {
     "name": "stdout",
     "output_type": "stream",
     "text": [
      "Result: 5.0\n"
     ]
    }
   ],
   "source": [
    "def divide_numbers(a, b):\n",
    "    try:\n",
    "        result = a / b\n",
    "    except ZeroDivisionError:\n",
    "        print(\"Error: Division by zero is not allowed.\")\n",
    "    else:\n",
    "        print(\"Result:\", result)\n",
    "\n",
    "num1 = 10\n",
    "num2 = 2\n",
    "\n",
    "divide_numbers(num1, num2)\n"
   ]
  },
  {
   "cell_type": "markdown",
   "id": "010235ea",
   "metadata": {},
   "source": [
    "In addition to the try and except blocks, Python also provides an optional else block that can be used in conjunction with exception handling."
   ]
  },
  {
   "cell_type": "code",
   "execution_count": 7,
   "id": "5b990d6c",
   "metadata": {},
   "outputs": [],
   "source": [
    "# finally"
   ]
  },
  {
   "cell_type": "markdown",
   "id": "8045af10",
   "metadata": {},
   "source": [
    "The finally block is optional and is executed regardless of whether an exception occurred or not. It allows you to specify code that should be executed no matter what, ensuring that certain cleanup or finalization tasks are performed."
   ]
  },
  {
   "cell_type": "code",
   "execution_count": 8,
   "id": "6c355cb8",
   "metadata": {},
   "outputs": [
    {
     "name": "stdout",
     "output_type": "stream",
     "text": [
      "Error: Division by zero is not allowed.\n",
      "Division operation completed.\n"
     ]
    }
   ],
   "source": [
    "def divide_numbers(a, b):\n",
    "    try:\n",
    "        result = a / b\n",
    "    except ZeroDivisionError:\n",
    "        print(\"Error: Division by zero is not allowed.\")\n",
    "    else:\n",
    "        print(\"Result:\", result)\n",
    "    finally:\n",
    "        print(\"Division operation completed.\")\n",
    "\n",
    "num1 = 10\n",
    "num2 = 0\n",
    "\n",
    "divide_numbers(num1, num2)\n"
   ]
  },
  {
   "cell_type": "markdown",
   "id": "9a585de8",
   "metadata": {},
   "source": [
    "The finally block is useful for performing cleanup operations, closing resources, or releasing acquired locks, regardless of whether an exception occurred. It ensures that certain code is executed even if an exception is raised and caught within the try block."
   ]
  },
  {
   "cell_type": "code",
   "execution_count": 9,
   "id": "b0b76dcb",
   "metadata": {},
   "outputs": [],
   "source": [
    "#raise"
   ]
  },
  {
   "cell_type": "markdown",
   "id": "4d35da6a",
   "metadata": {},
   "source": [
    "The raise statement is used to explicitly raise an exception. It allows you to generate and throw your own exceptions based on specific conditions or requirements in your code."
   ]
  },
  {
   "cell_type": "code",
   "execution_count": 10,
   "id": "674ec84c",
   "metadata": {},
   "outputs": [
    {
     "name": "stdout",
     "output_type": "stream",
     "text": [
      "Validation Error: Age cannot be negative.\n"
     ]
    }
   ],
   "source": [
    "def validate_age(age):\n",
    "    if age < 0:\n",
    "        raise ValueError(\"Age cannot be negative.\")\n",
    "    elif age < 18:\n",
    "        raise ValueError(\"You must be at least 18 years old.\")\n",
    "    else:\n",
    "        print(\"Age is valid.\")\n",
    "\n",
    "try:\n",
    "    validate_age(-5)\n",
    "except ValueError as error:\n",
    "    print(\"Validation Error:\", str(error))\n"
   ]
  },
  {
   "cell_type": "markdown",
   "id": "1496aceb",
   "metadata": {},
   "source": [
    "By using the raise statement, we can create our own custom exceptions or raise built-in exceptions to signal specific error conditions or exceptional situations in your code. This gives more control and flexibility in handling exceptional cases and providing informative error messages to assist with debugging and troubleshooting."
   ]
  },
  {
   "cell_type": "markdown",
   "id": "2ceb013a",
   "metadata": {},
   "source": [
    "# 5"
   ]
  },
  {
   "cell_type": "markdown",
   "id": "9643b25d",
   "metadata": {},
   "source": [
    "Custom exceptions are user-defined exception classes that allow you to create your own specific types of exceptions. These exceptions can be raised and caught just like built-in exceptions, providing a way to handle and differentiate exceptional cases in your code based on your specific requirements."
   ]
  },
  {
   "cell_type": "markdown",
   "id": "f45ccc94",
   "metadata": {},
   "source": [
    "Custom exceptions are useful for several reasons:\n",
    "\n",
    "Clarity and Readability: By creating custom exceptions, you can give meaningful and descriptive names to the exceptions that align with the problem domain of your application. This enhances the clarity and readability of your code, making it easier to understand and maintain.\n",
    "\n",
    "Exception Hierarchy: Custom exceptions can be organized into an exception hierarchy. You can define a base exception class and derive specific exception classes from it, creating a structured and hierarchical exception system. This allows you to catch exceptions at different levels and handle them accordingly, providing granular control over exception handling.\n",
    "\n",
    "Error Handling: Custom exceptions enable you to handle specific error conditions or exceptional situations in a more specialized manner. You can catch and handle different custom exceptions separately, providing different error messages or performing specific actions based on the nature of the exception."
   ]
  },
  {
   "cell_type": "code",
   "execution_count": 11,
   "id": "8ed9b90e",
   "metadata": {},
   "outputs": [
    {
     "name": "stdout",
     "output_type": "stream",
     "text": [
      "Error: Insufficient balance.\n"
     ]
    }
   ],
   "source": [
    "class InsufficientBalanceError(Exception):\n",
    "    pass\n",
    "\n",
    "class BankAccount:\n",
    "    def __init__(self, balance):\n",
    "        self.balance = balance\n",
    "\n",
    "    def withdraw(self, amount):\n",
    "        if amount > self.balance:\n",
    "            raise InsufficientBalanceError(\"Insufficient balance.\")\n",
    "        else:\n",
    "            self.balance -= amount\n",
    "            print(\"Withdrawal successful. Remaining balance:\", self.balance)\n",
    "\n",
    "account = BankAccount(1000)\n",
    "\n",
    "try:\n",
    "    account.withdraw(1500)\n",
    "except InsufficientBalanceError as error:\n",
    "    print(\"Error:\", str(error))\n"
   ]
  },
  {
   "cell_type": "markdown",
   "id": "9b170c52",
   "metadata": {},
   "source": [
    "# 6"
   ]
  },
  {
   "cell_type": "code",
   "execution_count": 12,
   "id": "cdf83461",
   "metadata": {},
   "outputs": [
    {
     "name": "stdout",
     "output_type": "stream",
     "text": [
      "Custom Exception: This is a custom exception.\n"
     ]
    }
   ],
   "source": [
    "class CustomException(Exception):\n",
    "    def __init__(self, message):\n",
    "        self.message = message\n",
    "\n",
    "try:\n",
    "    raise CustomException(\"This is a custom exception.\")\n",
    "except CustomException as error:\n",
    "    print(\"Custom Exception:\", error.message)\n"
   ]
  },
  {
   "cell_type": "code",
   "execution_count": null,
   "id": "9f7a3aed",
   "metadata": {},
   "outputs": [],
   "source": []
  }
 ],
 "metadata": {
  "kernelspec": {
   "display_name": "Python 3 (ipykernel)",
   "language": "python",
   "name": "python3"
  },
  "language_info": {
   "codemirror_mode": {
    "name": "ipython",
    "version": 3
   },
   "file_extension": ".py",
   "mimetype": "text/x-python",
   "name": "python",
   "nbconvert_exporter": "python",
   "pygments_lexer": "ipython3",
   "version": "3.10.9"
  }
 },
 "nbformat": 4,
 "nbformat_minor": 5
}
